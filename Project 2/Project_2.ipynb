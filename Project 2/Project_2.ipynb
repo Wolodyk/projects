{
 "cells": [
  {
   "cell_type": "markdown",
   "id": "480fa086",
   "metadata": {},
   "source": [
    "**Проект спринта \"Принятие решений в бизнесе\".**"
   ]
  },
  {
   "cell_type": "markdown",
   "id": "27ba880e",
   "metadata": {},
   "source": [
    "# Вступление"
   ]
  },
  {
   "cell_type": "markdown",
   "id": "b41f4782",
   "metadata": {},
   "source": [
    "Наш интернет_магазин является одним из крупнейших на рынке в своей категории. Для дальнейшей успешной работы, привлечения новых пользователей и увеличения прибыли отделом аналитика совместно с отделом маркетинга были предложены ряд гипотез.\n",
    "\n",
    "В этой работе мы проанализируем предоженные гипотезы по улучшению показателей деятельности компании, проведем их приоритезацию и определим, какие из них можно отправить на дальнейшую проработку.\n",
    "\n",
    "Также нами был проведен А/В-тест одной из гипотез. В этом проекте мы проанализируем полученные в ходе А/В-теста данные и попятаемся принять решение о дальнейших действиях."
   ]
  },
  {
   "cell_type": "markdown",
   "id": "930b032c",
   "metadata": {},
   "source": [
    "# Содержание: \n",
    "\n",
    "1. Приоритезация гипотез.\n",
    "\n",
    "  1.1. Обзор данных для приоритезации гипотез;\n",
    "  \n",
    "  1.2. Приоритезация гипотез с помощью фреймворка `ICE`;\n",
    "  \n",
    "  1.3. Приоритезация гипотез с помощью фреймворка `RICE`;\n",
    "  \n",
    "  1.4. Различия в методах приоритезации.\n",
    "  \n",
    "2. Анализ А/В-теста.\n",
    "\n",
    "  2.1. Обзор и предобработка данных А/В-теста;\n",
    "  \n",
    "  2.2. Сбор кумулятивных данных;\n",
    "  \n",
    "  2.3. Кумулятивный график выручки по группам;\n",
    "  \n",
    "  2.4. Кумулятивный график среднего чека по группам;\n",
    "  \n",
    "  2.5. График относительного изменения кумулятивного среднего чека группы B к группе A;\n",
    "  \n",
    "  2.6. График кумулятивной конверсии по группам;\n",
    "  \n",
    "  2.7. График относительного изменения кумулятивной конверсии группы B к группе A;\n",
    "  \n",
    "  2.8. Анализ выбросов и всплесков: количество заказов по пользователям;\n",
    "  \n",
    "  2.9. Анализ выбросов и всплесков: стоимость заказов;\n",
    "  \n",
    "  2.10. Статистическая значимость различий в конверсии между группами по «сырым» данным;\n",
    "  \n",
    "  2.11. Статистическая значимость различий в среднем чеке между группами по «сырым» данным;\n",
    "  \n",
    "  2.12. Статистическая значимость различий в конверсии между группами по «очищенным» данным;\n",
    "  \n",
    "  2.13. Статистическая значимость различий в среднем чеке заказа между группами по «очищенным» данным.\n",
    "  \n",
    "3. Общие выводы."
   ]
  },
  {
   "cell_type": "markdown",
   "id": "290bd7bc",
   "metadata": {},
   "source": [
    "Для начала импортируем необходимые библиотеки."
   ]
  },
  {
   "cell_type": "code",
   "execution_count": 1,
   "id": "e1492771",
   "metadata": {},
   "outputs": [],
   "source": [
    "import pandas as pd\n",
    "import numpy as np\n",
    "from scipy import stats as st\n",
    "import math as mth\n",
    "import datetime as dt\n",
    "from datetime import datetime, timedelta\n",
    "\n",
    "import matplotlib.pyplot as plt\n",
    "import seaborn as sns\n",
    "\n",
    "%config InlineBackend.figure_format='retina'\n",
    "%matplotlib inline\n",
    "\n",
    "from pandas.plotting import register_matplotlib_converters\n",
    "import warnings\n",
    "register_matplotlib_converters()\n",
    "\n",
    "pd.options.display.max_colwidth = 600"
   ]
  },
  {
   "cell_type": "markdown",
   "id": "f1df4158",
   "metadata": {},
   "source": [
    "Можно приступать к работе!"
   ]
  },
  {
   "cell_type": "markdown",
   "id": "4f7fa62e",
   "metadata": {},
   "source": [
    "# 1. Приоритезация гипотез."
   ]
  },
  {
   "cell_type": "markdown",
   "id": "b172d8af",
   "metadata": {},
   "source": [
    "Первым делом нам необходимо разобраться с гипотезами, предложенными в ходе последнего собрания, и оценить их приоритет и занчимость для компании, а также разобраться с трудозатратами на их реализацию. \n",
    "\n",
    "По итогам выполнения приоритезации двумя методами, `ICE` и `RICE`, мы определим, какие гипотезы далее следует отправить на тест, а какие можно отложить в архив до востребования."
   ]
  },
  {
   "cell_type": "markdown",
   "id": "abdeb202",
   "metadata": {},
   "source": [
    "## 1.1. Обзор данных для приоритезации гипотез."
   ]
  },
  {
   "cell_type": "markdown",
   "id": "bbc76a34",
   "metadata": {},
   "source": [
    "Нашими коллегами была проведена работа по ранжированию по 10-бальной шкале предложенных гипотез по установленным параметрам: охват, влияние, уверенность, усилия - для проведения нами приоритезации.\n",
    "\n",
    "Откроем предоставленный датафрейм."
   ]
  },
  {
   "cell_type": "code",
   "execution_count": 2,
   "id": "9dbf3098",
   "metadata": {},
   "outputs": [
    {
     "data": {
      "text/html": [
       "<div>\n",
       "<style scoped>\n",
       "    .dataframe tbody tr th:only-of-type {\n",
       "        vertical-align: middle;\n",
       "    }\n",
       "\n",
       "    .dataframe tbody tr th {\n",
       "        vertical-align: top;\n",
       "    }\n",
       "\n",
       "    .dataframe thead th {\n",
       "        text-align: right;\n",
       "    }\n",
       "</style>\n",
       "<table border=\"1\" class=\"dataframe\">\n",
       "  <thead>\n",
       "    <tr style=\"text-align: right;\">\n",
       "      <th></th>\n",
       "      <th>Hypothesis</th>\n",
       "      <th>Reach</th>\n",
       "      <th>Impact</th>\n",
       "      <th>Confidence</th>\n",
       "      <th>Efforts</th>\n",
       "    </tr>\n",
       "  </thead>\n",
       "  <tbody>\n",
       "    <tr>\n",
       "      <td>0</td>\n",
       "      <td>Добавить два новых канала привлечения трафика, что позволит привлекать на 30% больше пользователей</td>\n",
       "      <td>3</td>\n",
       "      <td>10</td>\n",
       "      <td>8</td>\n",
       "      <td>6</td>\n",
       "    </tr>\n",
       "    <tr>\n",
       "      <td>1</td>\n",
       "      <td>Запустить собственную службу доставки, что сократит срок доставки заказов</td>\n",
       "      <td>2</td>\n",
       "      <td>5</td>\n",
       "      <td>4</td>\n",
       "      <td>10</td>\n",
       "    </tr>\n",
       "    <tr>\n",
       "      <td>2</td>\n",
       "      <td>Добавить блоки рекомендаций товаров на сайт интернет магазина, чтобы повысить конверсию и средний чек заказа</td>\n",
       "      <td>8</td>\n",
       "      <td>3</td>\n",
       "      <td>7</td>\n",
       "      <td>3</td>\n",
       "    </tr>\n",
       "    <tr>\n",
       "      <td>3</td>\n",
       "      <td>Изменить структура категорий, что увеличит конверсию, т.к. пользователи быстрее найдут нужный товар</td>\n",
       "      <td>8</td>\n",
       "      <td>3</td>\n",
       "      <td>3</td>\n",
       "      <td>8</td>\n",
       "    </tr>\n",
       "    <tr>\n",
       "      <td>4</td>\n",
       "      <td>Изменить цвет фона главной страницы, чтобы увеличить вовлеченность пользователей</td>\n",
       "      <td>3</td>\n",
       "      <td>1</td>\n",
       "      <td>1</td>\n",
       "      <td>1</td>\n",
       "    </tr>\n",
       "    <tr>\n",
       "      <td>5</td>\n",
       "      <td>Добавить страницу отзывов клиентов о магазине, что позволит увеличить количество заказов</td>\n",
       "      <td>3</td>\n",
       "      <td>2</td>\n",
       "      <td>2</td>\n",
       "      <td>3</td>\n",
       "    </tr>\n",
       "    <tr>\n",
       "      <td>6</td>\n",
       "      <td>Показать на главной странице баннеры с актуальными акциями и распродажами, чтобы увеличить конверсию</td>\n",
       "      <td>5</td>\n",
       "      <td>3</td>\n",
       "      <td>8</td>\n",
       "      <td>3</td>\n",
       "    </tr>\n",
       "    <tr>\n",
       "      <td>7</td>\n",
       "      <td>Добавить форму подписки на все основные страницы, чтобы собрать базу клиентов для email-рассылок</td>\n",
       "      <td>10</td>\n",
       "      <td>7</td>\n",
       "      <td>8</td>\n",
       "      <td>5</td>\n",
       "    </tr>\n",
       "    <tr>\n",
       "      <td>8</td>\n",
       "      <td>Запустить акцию, дающую скидку на товар в день рождения</td>\n",
       "      <td>1</td>\n",
       "      <td>9</td>\n",
       "      <td>9</td>\n",
       "      <td>5</td>\n",
       "    </tr>\n",
       "  </tbody>\n",
       "</table>\n",
       "</div>"
      ],
      "text/plain": [
       "                                                                                                     Hypothesis  \\\n",
       "0            Добавить два новых канала привлечения трафика, что позволит привлекать на 30% больше пользователей   \n",
       "1                                     Запустить собственную службу доставки, что сократит срок доставки заказов   \n",
       "2  Добавить блоки рекомендаций товаров на сайт интернет магазина, чтобы повысить конверсию и средний чек заказа   \n",
       "3           Изменить структура категорий, что увеличит конверсию, т.к. пользователи быстрее найдут нужный товар   \n",
       "4                              Изменить цвет фона главной страницы, чтобы увеличить вовлеченность пользователей   \n",
       "5                      Добавить страницу отзывов клиентов о магазине, что позволит увеличить количество заказов   \n",
       "6          Показать на главной странице баннеры с актуальными акциями и распродажами, чтобы увеличить конверсию   \n",
       "7              Добавить форму подписки на все основные страницы, чтобы собрать базу клиентов для email-рассылок   \n",
       "8                                                       Запустить акцию, дающую скидку на товар в день рождения   \n",
       "\n",
       "   Reach  Impact  Confidence  Efforts  \n",
       "0      3      10           8        6  \n",
       "1      2       5           4       10  \n",
       "2      8       3           7        3  \n",
       "3      8       3           3        8  \n",
       "4      3       1           1        1  \n",
       "5      3       2           2        3  \n",
       "6      5       3           8        3  \n",
       "7     10       7           8        5  \n",
       "8      1       9           9        5  "
      ]
     },
     "execution_count": 2,
     "metadata": {},
     "output_type": "execute_result"
    }
   ],
   "source": [
    "try:\n",
    "    hypothesis = pd.read_csv('hypothesis.csv')\n",
    "except:\n",
    "    hypothesis = pd.read_csv('/datasets/hypothesis.csv')\n",
    "    \n",
    "hypothesis"
   ]
  },
  {
   "cell_type": "markdown",
   "id": "ef81ab32",
   "metadata": {},
   "source": [
    "В датафрейме 9 гипотез с соответствующими параметрами в каждой колонке."
   ]
  },
  {
   "cell_type": "code",
   "execution_count": 3,
   "id": "a57e5800",
   "metadata": {
    "scrolled": true
   },
   "outputs": [
    {
     "name": "stdout",
     "output_type": "stream",
     "text": [
      "<class 'pandas.core.frame.DataFrame'>\n",
      "RangeIndex: 9 entries, 0 to 8\n",
      "Data columns (total 5 columns):\n",
      "hypothesis    9 non-null object\n",
      "reach         9 non-null int64\n",
      "impact        9 non-null int64\n",
      "confidence    9 non-null int64\n",
      "efforts       9 non-null int64\n",
      "dtypes: int64(4), object(1)\n",
      "memory usage: 488.0+ bytes\n"
     ]
    }
   ],
   "source": [
    "hypothesis.columns = hypothesis.columns.str.lower().str.replace(' ', '_')\n",
    "hypothesis.info()"
   ]
  },
  {
   "cell_type": "markdown",
   "id": "989a25b1",
   "metadata": {},
   "source": [
    "Пропусков в данных нет, можно приступать к приоритезации."
   ]
  },
  {
   "cell_type": "markdown",
   "id": "7ea1bed7",
   "metadata": {},
   "source": [
    "## 1.2. Приоритезация гипотез с помощью фреймворка `ICE`."
   ]
  },
  {
   "cell_type": "markdown",
   "id": "e71e60f5",
   "metadata": {},
   "source": [
    "Первое, создадим в датафрейме два новых столбца со значениями по фреймворкам `ICE` и `RICE`. \n",
    "\n",
    "Фреймворк `ICE` высчитывется по следующей формуле: `ICE` = `impict` * `confidence` / `efforts`.\n",
    "\n",
    "Фреймворк `RICE` вычисляется следующим образом: `RICE` = `reach` * `impact` * `confidence` / `efforts`."
   ]
  },
  {
   "cell_type": "code",
   "execution_count": 4,
   "id": "e5a4c05f",
   "metadata": {},
   "outputs": [],
   "source": [
    "hypothesis['ICE'] = hypothesis['impact']*hypothesis['confidence']/hypothesis['efforts']\n",
    "hypothesis['RICE'] = hypothesis['reach']*hypothesis['impact']*hypothesis['confidence']/hypothesis['efforts']"
   ]
  },
  {
   "cell_type": "markdown",
   "id": "237ddc3d",
   "metadata": {},
   "source": [
    "Посмотрим как ранжировались гипотезы по фреймворку `ICE` отсортированные по убыванию."
   ]
  },
  {
   "cell_type": "code",
   "execution_count": 5,
   "id": "fb6e9f0f",
   "metadata": {},
   "outputs": [
    {
     "data": {
      "text/html": [
       "<div>\n",
       "<style scoped>\n",
       "    .dataframe tbody tr th:only-of-type {\n",
       "        vertical-align: middle;\n",
       "    }\n",
       "\n",
       "    .dataframe tbody tr th {\n",
       "        vertical-align: top;\n",
       "    }\n",
       "\n",
       "    .dataframe thead th {\n",
       "        text-align: right;\n",
       "    }\n",
       "</style>\n",
       "<table border=\"1\" class=\"dataframe\">\n",
       "  <thead>\n",
       "    <tr style=\"text-align: right;\">\n",
       "      <th></th>\n",
       "      <th>hypothesis</th>\n",
       "      <th>ICE</th>\n",
       "    </tr>\n",
       "  </thead>\n",
       "  <tbody>\n",
       "    <tr>\n",
       "      <td>8</td>\n",
       "      <td>Запустить акцию, дающую скидку на товар в день рождения</td>\n",
       "      <td>16.200000</td>\n",
       "    </tr>\n",
       "    <tr>\n",
       "      <td>0</td>\n",
       "      <td>Добавить два новых канала привлечения трафика, что позволит привлекать на 30% больше пользователей</td>\n",
       "      <td>13.333333</td>\n",
       "    </tr>\n",
       "    <tr>\n",
       "      <td>7</td>\n",
       "      <td>Добавить форму подписки на все основные страницы, чтобы собрать базу клиентов для email-рассылок</td>\n",
       "      <td>11.200000</td>\n",
       "    </tr>\n",
       "    <tr>\n",
       "      <td>6</td>\n",
       "      <td>Показать на главной странице баннеры с актуальными акциями и распродажами, чтобы увеличить конверсию</td>\n",
       "      <td>8.000000</td>\n",
       "    </tr>\n",
       "    <tr>\n",
       "      <td>2</td>\n",
       "      <td>Добавить блоки рекомендаций товаров на сайт интернет магазина, чтобы повысить конверсию и средний чек заказа</td>\n",
       "      <td>7.000000</td>\n",
       "    </tr>\n",
       "    <tr>\n",
       "      <td>1</td>\n",
       "      <td>Запустить собственную службу доставки, что сократит срок доставки заказов</td>\n",
       "      <td>2.000000</td>\n",
       "    </tr>\n",
       "    <tr>\n",
       "      <td>5</td>\n",
       "      <td>Добавить страницу отзывов клиентов о магазине, что позволит увеличить количество заказов</td>\n",
       "      <td>1.333333</td>\n",
       "    </tr>\n",
       "    <tr>\n",
       "      <td>3</td>\n",
       "      <td>Изменить структура категорий, что увеличит конверсию, т.к. пользователи быстрее найдут нужный товар</td>\n",
       "      <td>1.125000</td>\n",
       "    </tr>\n",
       "    <tr>\n",
       "      <td>4</td>\n",
       "      <td>Изменить цвет фона главной страницы, чтобы увеличить вовлеченность пользователей</td>\n",
       "      <td>1.000000</td>\n",
       "    </tr>\n",
       "  </tbody>\n",
       "</table>\n",
       "</div>"
      ],
      "text/plain": [
       "                                                                                                     hypothesis  \\\n",
       "8                                                       Запустить акцию, дающую скидку на товар в день рождения   \n",
       "0            Добавить два новых канала привлечения трафика, что позволит привлекать на 30% больше пользователей   \n",
       "7              Добавить форму подписки на все основные страницы, чтобы собрать базу клиентов для email-рассылок   \n",
       "6          Показать на главной странице баннеры с актуальными акциями и распродажами, чтобы увеличить конверсию   \n",
       "2  Добавить блоки рекомендаций товаров на сайт интернет магазина, чтобы повысить конверсию и средний чек заказа   \n",
       "1                                     Запустить собственную службу доставки, что сократит срок доставки заказов   \n",
       "5                      Добавить страницу отзывов клиентов о магазине, что позволит увеличить количество заказов   \n",
       "3           Изменить структура категорий, что увеличит конверсию, т.к. пользователи быстрее найдут нужный товар   \n",
       "4                              Изменить цвет фона главной страницы, чтобы увеличить вовлеченность пользователей   \n",
       "\n",
       "         ICE  \n",
       "8  16.200000  \n",
       "0  13.333333  \n",
       "7  11.200000  \n",
       "6   8.000000  \n",
       "2   7.000000  \n",
       "1   2.000000  \n",
       "5   1.333333  \n",
       "3   1.125000  \n",
       "4   1.000000  "
      ]
     },
     "execution_count": 5,
     "metadata": {},
     "output_type": "execute_result"
    }
   ],
   "source": [
    "hypothesis[['hypothesis', 'ICE']].sort_values(by='ICE', ascending=False)"
   ]
  },
  {
   "cell_type": "markdown",
   "id": "73ccf8a6",
   "metadata": {},
   "source": [
    "Наибольший приоритет получили гипотезы 8,0,7, которые расположились с первого по третье место соответственно.\n",
    "\n",
    "Наименьший приоритет у гипотез 5,3,4. У этих гипотез наименьшие предполагаемые значения по параметрам влияния и уверенности."
   ]
  },
  {
   "cell_type": "markdown",
   "id": "fa151c5a",
   "metadata": {},
   "source": [
    "## 1.3. Приоритезация гипотез с помощью фреймворка `RICE`."
   ]
  },
  {
   "cell_type": "markdown",
   "id": "c9acf296",
   "metadata": {},
   "source": [
    "Теперь посмотрим на результаты приоритезации фреймворком `RICE`, отсортированные по убыванию."
   ]
  },
  {
   "cell_type": "code",
   "execution_count": 6,
   "id": "609a585e",
   "metadata": {},
   "outputs": [
    {
     "data": {
      "text/html": [
       "<div>\n",
       "<style scoped>\n",
       "    .dataframe tbody tr th:only-of-type {\n",
       "        vertical-align: middle;\n",
       "    }\n",
       "\n",
       "    .dataframe tbody tr th {\n",
       "        vertical-align: top;\n",
       "    }\n",
       "\n",
       "    .dataframe thead th {\n",
       "        text-align: right;\n",
       "    }\n",
       "</style>\n",
       "<table border=\"1\" class=\"dataframe\">\n",
       "  <thead>\n",
       "    <tr style=\"text-align: right;\">\n",
       "      <th></th>\n",
       "      <th>hypothesis</th>\n",
       "      <th>RICE</th>\n",
       "    </tr>\n",
       "  </thead>\n",
       "  <tbody>\n",
       "    <tr>\n",
       "      <td>7</td>\n",
       "      <td>Добавить форму подписки на все основные страницы, чтобы собрать базу клиентов для email-рассылок</td>\n",
       "      <td>112.0</td>\n",
       "    </tr>\n",
       "    <tr>\n",
       "      <td>2</td>\n",
       "      <td>Добавить блоки рекомендаций товаров на сайт интернет магазина, чтобы повысить конверсию и средний чек заказа</td>\n",
       "      <td>56.0</td>\n",
       "    </tr>\n",
       "    <tr>\n",
       "      <td>0</td>\n",
       "      <td>Добавить два новых канала привлечения трафика, что позволит привлекать на 30% больше пользователей</td>\n",
       "      <td>40.0</td>\n",
       "    </tr>\n",
       "    <tr>\n",
       "      <td>6</td>\n",
       "      <td>Показать на главной странице баннеры с актуальными акциями и распродажами, чтобы увеличить конверсию</td>\n",
       "      <td>40.0</td>\n",
       "    </tr>\n",
       "    <tr>\n",
       "      <td>8</td>\n",
       "      <td>Запустить акцию, дающую скидку на товар в день рождения</td>\n",
       "      <td>16.2</td>\n",
       "    </tr>\n",
       "    <tr>\n",
       "      <td>3</td>\n",
       "      <td>Изменить структура категорий, что увеличит конверсию, т.к. пользователи быстрее найдут нужный товар</td>\n",
       "      <td>9.0</td>\n",
       "    </tr>\n",
       "    <tr>\n",
       "      <td>1</td>\n",
       "      <td>Запустить собственную службу доставки, что сократит срок доставки заказов</td>\n",
       "      <td>4.0</td>\n",
       "    </tr>\n",
       "    <tr>\n",
       "      <td>5</td>\n",
       "      <td>Добавить страницу отзывов клиентов о магазине, что позволит увеличить количество заказов</td>\n",
       "      <td>4.0</td>\n",
       "    </tr>\n",
       "    <tr>\n",
       "      <td>4</td>\n",
       "      <td>Изменить цвет фона главной страницы, чтобы увеличить вовлеченность пользователей</td>\n",
       "      <td>3.0</td>\n",
       "    </tr>\n",
       "  </tbody>\n",
       "</table>\n",
       "</div>"
      ],
      "text/plain": [
       "                                                                                                     hypothesis  \\\n",
       "7              Добавить форму подписки на все основные страницы, чтобы собрать базу клиентов для email-рассылок   \n",
       "2  Добавить блоки рекомендаций товаров на сайт интернет магазина, чтобы повысить конверсию и средний чек заказа   \n",
       "0            Добавить два новых канала привлечения трафика, что позволит привлекать на 30% больше пользователей   \n",
       "6          Показать на главной странице баннеры с актуальными акциями и распродажами, чтобы увеличить конверсию   \n",
       "8                                                       Запустить акцию, дающую скидку на товар в день рождения   \n",
       "3           Изменить структура категорий, что увеличит конверсию, т.к. пользователи быстрее найдут нужный товар   \n",
       "1                                     Запустить собственную службу доставки, что сократит срок доставки заказов   \n",
       "5                      Добавить страницу отзывов клиентов о магазине, что позволит увеличить количество заказов   \n",
       "4                              Изменить цвет фона главной страницы, чтобы увеличить вовлеченность пользователей   \n",
       "\n",
       "    RICE  \n",
       "7  112.0  \n",
       "2   56.0  \n",
       "0   40.0  \n",
       "6   40.0  \n",
       "8   16.2  \n",
       "3    9.0  \n",
       "1    4.0  \n",
       "5    4.0  \n",
       "4    3.0  "
      ]
     },
     "execution_count": 6,
     "metadata": {},
     "output_type": "execute_result"
    }
   ],
   "source": [
    "hypothesis[['hypothesis', 'RICE']].sort_values(by='RICE', ascending=False)"
   ]
  },
  {
   "cell_type": "markdown",
   "id": "14480459",
   "metadata": {},
   "source": [
    "Здесь мы видим, что приоритет получили гипотезы 7, 0, 2. Причем необходимо отметить, что показатель гипотезы 7 почти в два раза выше, чем у следующей за ней гипотезой 0. \n",
    "\n",
    "Гипотеза 8, по методу `ICE` имевщая наибольший приоритет, в этом случае опустилась на 5 место, что связано с небольшим предполагаемым охватом.\n",
    "\n",
    "Наименьший приоритет по методу `RICE` у гипотез 4, 5, 1, что опять же обусловленно небольшим охватом.\n",
    "\n",
    "Гипотеза 3, благодаря высокому охвату поднялась в табеле приоритета."
   ]
  },
  {
   "cell_type": "markdown",
   "id": "58e9eef1",
   "metadata": {},
   "source": [
    "## 1.4. Различия в методах приритезации."
   ]
  },
  {
   "cell_type": "markdown",
   "id": "957ac5b5",
   "metadata": {},
   "source": [
    "Различия в работе и результатах обоих фреймворков обусловленны введением дополнительного элемента уравнения, охват, для метода `RICE`. Это позволяет подвергнуть гипотезы более критичной оценке и дает более значимые результаты, т.к. охват действия гипотезы напрямую влияет на проводимые тесты и дальнейшее улучшение показателей бизнеса."
   ]
  },
  {
   "cell_type": "markdown",
   "id": "bdd4c922",
   "metadata": {},
   "source": [
    "Из всего вышеизложенного можем заключить, что **наилучший кандидат для дальнейшей проработки и тестирования это гипотеза 7**.\n",
    "\n",
    "Также имеет смысл дополнительно протестировать гипотезу 0, т.к. она позволит улучшить другие метрики и привлечь новых пользователей, что также должно положительно сказаться на деятельности компании."
   ]
  },
  {
   "cell_type": "markdown",
   "id": "1d7d7dda",
   "metadata": {},
   "source": [
    "# 2. Анализ А/В-теста."
   ]
  },
  {
   "cell_type": "markdown",
   "id": "90f5d2c0",
   "metadata": {},
   "source": [
    "В нашем распоряжение есть промежуточные данные проведения А/В-теста, представленные двумя датафреймами с информацией о заказах, сделанных группами за время проведения теста, и информацией о пользователях, привлеченных за это же время.\n",
    "\n",
    "Проведем анализ предоставленных данных по результатам которого необходимо будет решить, стоит ли продолжать тест или прекратить его."
   ]
  },
  {
   "cell_type": "markdown",
   "id": "bda0218d",
   "metadata": {},
   "source": [
    "## 2.1. Обзор и предобработка данных А/В-теста."
   ]
  },
  {
   "cell_type": "markdown",
   "id": "4cea6e10",
   "metadata": {},
   "source": [
    "Первым делом посмотрим на предоставленные данные и проведем их предобработку.\n",
    "\n",
    "Откроем файл с данными о заказах пользователей."
   ]
  },
  {
   "cell_type": "code",
   "execution_count": 7,
   "id": "a3579650",
   "metadata": {},
   "outputs": [
    {
     "name": "stdout",
     "output_type": "stream",
     "text": [
      "<class 'pandas.core.frame.DataFrame'>\n",
      "RangeIndex: 1197 entries, 0 to 1196\n",
      "Data columns (total 5 columns):\n",
      "transactionid    1197 non-null int64\n",
      "visitorid        1197 non-null int64\n",
      "date             1197 non-null object\n",
      "revenue          1197 non-null int64\n",
      "group            1197 non-null object\n",
      "dtypes: int64(3), object(2)\n",
      "memory usage: 46.9+ KB\n"
     ]
    }
   ],
   "source": [
    "try:\n",
    "    orders = pd.read_csv('orders.csv')\n",
    "except:\n",
    "    orders = pd.read_csv('/datasets/orders.csv')\n",
    "\n",
    "orders.columns = orders.columns.str.lower().str.replace(' ', '_')  \n",
    "orders.info()"
   ]
  },
  {
   "cell_type": "markdown",
   "id": "542992c3",
   "metadata": {},
   "source": [
    "Мы видим, что данные полные и не должны содержать пропусков. Также заключаем, что формат даты представлен строчными значениями.\n",
    "\n",
    "Приведем форматы к корректному виду."
   ]
  },
  {
   "cell_type": "code",
   "execution_count": 8,
   "id": "4a098fba",
   "metadata": {},
   "outputs": [],
   "source": [
    "orders['date'] = pd.to_datetime(orders['date'])"
   ]
  },
  {
   "cell_type": "markdown",
   "id": "bd3ca567",
   "metadata": {},
   "source": [
    "Проверим на пропуски в данных."
   ]
  },
  {
   "cell_type": "code",
   "execution_count": 9,
   "id": "a4b9b1d1",
   "metadata": {},
   "outputs": [
    {
     "data": {
      "text/plain": [
       "transactionid    0\n",
       "visitorid        0\n",
       "date             0\n",
       "revenue          0\n",
       "group            0\n",
       "dtype: int64"
      ]
     },
     "execution_count": 9,
     "metadata": {},
     "output_type": "execute_result"
    }
   ],
   "source": [
    "orders.isna().sum()"
   ]
  },
  {
   "cell_type": "markdown",
   "id": "21c62b3e",
   "metadata": {},
   "source": [
    "Пропуски отсутствуют.\n",
    "\n",
    "Проверим на дубликаты."
   ]
  },
  {
   "cell_type": "code",
   "execution_count": 10,
   "id": "783c4f0d",
   "metadata": {},
   "outputs": [
    {
     "data": {
      "text/plain": [
       "0"
      ]
     },
     "execution_count": 10,
     "metadata": {},
     "output_type": "execute_result"
    }
   ],
   "source": [
    "orders.duplicated().sum()"
   ]
  },
  {
   "cell_type": "markdown",
   "id": "5e22a1bd",
   "metadata": {},
   "source": [
    "Дубликаты отсутствуют.\n",
    "\n",
    "Посмотрим на минимальную и максимальную даты, для понятия сроков проведения теста."
   ]
  },
  {
   "cell_type": "code",
   "execution_count": 11,
   "id": "b73ec70f",
   "metadata": {},
   "outputs": [
    {
     "data": {
      "text/plain": [
       "Timestamp('2019-08-01 00:00:00')"
      ]
     },
     "metadata": {},
     "output_type": "display_data"
    },
    {
     "data": {
      "text/plain": [
       "Timestamp('2019-08-31 00:00:00')"
      ]
     },
     "metadata": {},
     "output_type": "display_data"
    }
   ],
   "source": [
    "display(orders['date'].min())\n",
    "display(orders['date'].max())"
   ]
  },
  {
   "cell_type": "markdown",
   "id": "c3469aeb",
   "metadata": {},
   "source": [
    "Тест прводился с 1 августа 2019 года по 31 августа 2019 года.\n",
    "\n",
    "Посмотрим на размеры выборок по группам по сделанным заказам."
   ]
  },
  {
   "cell_type": "code",
   "execution_count": 12,
   "id": "d0daab72",
   "metadata": {},
   "outputs": [
    {
     "data": {
      "text/html": [
       "<div>\n",
       "<style scoped>\n",
       "    .dataframe tbody tr th:only-of-type {\n",
       "        vertical-align: middle;\n",
       "    }\n",
       "\n",
       "    .dataframe tbody tr th {\n",
       "        vertical-align: top;\n",
       "    }\n",
       "\n",
       "    .dataframe thead th {\n",
       "        text-align: right;\n",
       "    }\n",
       "</style>\n",
       "<table border=\"1\" class=\"dataframe\">\n",
       "  <thead>\n",
       "    <tr style=\"text-align: right;\">\n",
       "      <th></th>\n",
       "      <th>transactionid</th>\n",
       "    </tr>\n",
       "    <tr>\n",
       "      <th>group</th>\n",
       "      <th></th>\n",
       "    </tr>\n",
       "  </thead>\n",
       "  <tbody>\n",
       "    <tr>\n",
       "      <td>A</td>\n",
       "      <td>557</td>\n",
       "    </tr>\n",
       "    <tr>\n",
       "      <td>B</td>\n",
       "      <td>640</td>\n",
       "    </tr>\n",
       "  </tbody>\n",
       "</table>\n",
       "</div>"
      ],
      "text/plain": [
       "       transactionid\n",
       "group               \n",
       "A                557\n",
       "B                640"
      ]
     },
     "execution_count": 12,
     "metadata": {},
     "output_type": "execute_result"
    }
   ],
   "source": [
    "orders.groupby('group').agg({'transactionid':'nunique'})"
   ]
  },
  {
   "cell_type": "markdown",
   "id": "0610dc08",
   "metadata": {},
   "source": [
    "Мы видим, что по группе В пользоваелеи произвели большее количество заказаов, чем пользователеи из группы А.\n",
    "\n",
    "Теперь проведем те же операции с датафреймом с информацией о пользователях, участвоваших в тесте."
   ]
  },
  {
   "cell_type": "code",
   "execution_count": 13,
   "id": "991aad4c",
   "metadata": {},
   "outputs": [
    {
     "name": "stdout",
     "output_type": "stream",
     "text": [
      "<class 'pandas.core.frame.DataFrame'>\n",
      "RangeIndex: 62 entries, 0 to 61\n",
      "Data columns (total 3 columns):\n",
      "date        62 non-null object\n",
      "group       62 non-null object\n",
      "visitors    62 non-null int64\n",
      "dtypes: int64(1), object(2)\n",
      "memory usage: 1.6+ KB\n"
     ]
    }
   ],
   "source": [
    "try:\n",
    "    visitors = pd.read_csv('visitors.csv')\n",
    "except:\n",
    "    visitors = pd.read_csv('/datasets/visitors.csv')\n",
    "\n",
    "visitors.columns = visitors.columns.str.lower().str.replace(' ', '_')\n",
    "visitors.info()"
   ]
  },
  {
   "cell_type": "markdown",
   "id": "fd3e0d9a",
   "metadata": {},
   "source": [
    "Здесь также на первый взгляд не наблюдается пропусков. И также необходимо привести формат столбца с датами к корректному формату."
   ]
  },
  {
   "cell_type": "code",
   "execution_count": 14,
   "id": "e070565a",
   "metadata": {},
   "outputs": [],
   "source": [
    "visitors['date'] = pd.to_datetime(visitors['date'])"
   ]
  },
  {
   "cell_type": "markdown",
   "id": "894d2f2b",
   "metadata": {},
   "source": [
    "Проверим датафрейм на пропуски."
   ]
  },
  {
   "cell_type": "code",
   "execution_count": 15,
   "id": "724a16a6",
   "metadata": {},
   "outputs": [
    {
     "data": {
      "text/plain": [
       "date        0\n",
       "group       0\n",
       "visitors    0\n",
       "dtype: int64"
      ]
     },
     "execution_count": 15,
     "metadata": {},
     "output_type": "execute_result"
    }
   ],
   "source": [
    "visitors.isna().sum()"
   ]
  },
  {
   "cell_type": "markdown",
   "id": "7e731154",
   "metadata": {},
   "source": [
    "Пропусков нет.\n",
    "\n",
    "Проверим на наличие дубликатов."
   ]
  },
  {
   "cell_type": "code",
   "execution_count": 16,
   "id": "ecd632ef",
   "metadata": {},
   "outputs": [
    {
     "data": {
      "text/plain": [
       "0"
      ]
     },
     "execution_count": 16,
     "metadata": {},
     "output_type": "execute_result"
    }
   ],
   "source": [
    "visitors.duplicated().sum()"
   ]
  },
  {
   "cell_type": "markdown",
   "id": "f593b3ec",
   "metadata": {},
   "source": [
    "Дубликатов нет.\n",
    "\n",
    "Также посмотрим на даты проведения теста, чтобы удостовериться, что они совпадают в обоих датафоеймах."
   ]
  },
  {
   "cell_type": "code",
   "execution_count": 17,
   "id": "7479a56a",
   "metadata": {},
   "outputs": [
    {
     "data": {
      "text/plain": [
       "Timestamp('2019-08-01 00:00:00')"
      ]
     },
     "metadata": {},
     "output_type": "display_data"
    },
    {
     "data": {
      "text/plain": [
       "Timestamp('2019-08-31 00:00:00')"
      ]
     },
     "metadata": {},
     "output_type": "display_data"
    }
   ],
   "source": [
    "display(visitors['date'].min())\n",
    "display(visitors['date'].max())"
   ]
  },
  {
   "cell_type": "markdown",
   "id": "467023c3",
   "metadata": {},
   "source": [
    "Сроки проведения теста идентичны по обоим датафрйемам.\n",
    "\n",
    "Теперь посмотрим на размеры выборок по количеству пользователей в каждой группе."
   ]
  },
  {
   "cell_type": "code",
   "execution_count": 18,
   "id": "4444c2b6",
   "metadata": {
    "scrolled": true
   },
   "outputs": [
    {
     "data": {
      "text/html": [
       "<div>\n",
       "<style scoped>\n",
       "    .dataframe tbody tr th:only-of-type {\n",
       "        vertical-align: middle;\n",
       "    }\n",
       "\n",
       "    .dataframe tbody tr th {\n",
       "        vertical-align: top;\n",
       "    }\n",
       "\n",
       "    .dataframe thead th {\n",
       "        text-align: right;\n",
       "    }\n",
       "</style>\n",
       "<table border=\"1\" class=\"dataframe\">\n",
       "  <thead>\n",
       "    <tr style=\"text-align: right;\">\n",
       "      <th></th>\n",
       "      <th>visitors</th>\n",
       "    </tr>\n",
       "    <tr>\n",
       "      <th>group</th>\n",
       "      <th></th>\n",
       "    </tr>\n",
       "  </thead>\n",
       "  <tbody>\n",
       "    <tr>\n",
       "      <td>A</td>\n",
       "      <td>18736</td>\n",
       "    </tr>\n",
       "    <tr>\n",
       "      <td>B</td>\n",
       "      <td>18916</td>\n",
       "    </tr>\n",
       "  </tbody>\n",
       "</table>\n",
       "</div>"
      ],
      "text/plain": [
       "       visitors\n",
       "group          \n",
       "A         18736\n",
       "B         18916"
      ]
     },
     "execution_count": 18,
     "metadata": {},
     "output_type": "execute_result"
    }
   ],
   "source": [
    "visitors.groupby('group').agg({'visitors':'sum'})"
   ]
  },
  {
   "cell_type": "markdown",
   "id": "35aa5fcd",
   "metadata": {},
   "source": [
    "Имеется совсем небольшая разница в пользу группы В.\n",
    "\n",
    "Теперь приступим к анализу данных самого теста."
   ]
  },
  {
   "cell_type": "markdown",
   "id": "73d04989",
   "metadata": {},
   "source": [
    "Выявим пользователей, которые присутствуют как в группе А, так и в группе В. Это может в дальнейшем сказаться на результатах."
   ]
  },
  {
   "cell_type": "code",
   "execution_count": 19,
   "id": "8c74b999",
   "metadata": {
    "scrolled": true
   },
   "outputs": [
    {
     "name": "stdout",
     "output_type": "stream",
     "text": [
      "<class 'pandas.core.frame.DataFrame'>\n",
      "RangeIndex: 1197 entries, 0 to 1196\n",
      "Data columns (total 5 columns):\n",
      "transactionid    1197 non-null int64\n",
      "visitorid        1197 non-null int64\n",
      "date             1197 non-null datetime64[ns]\n",
      "revenue          1197 non-null int64\n",
      "group            1197 non-null object\n",
      "dtypes: datetime64[ns](1), int64(3), object(1)\n",
      "memory usage: 46.9+ KB\n"
     ]
    }
   ],
   "source": [
    "orders.info()"
   ]
  },
  {
   "cell_type": "markdown",
   "id": "579255bb",
   "metadata": {},
   "source": [
    "Составим два списка по группам и обнаружим пересечения в идентификаторах пользователй."
   ]
  },
  {
   "cell_type": "code",
   "execution_count": 20,
   "id": "ea5a39b0",
   "metadata": {},
   "outputs": [
    {
     "data": {
      "text/plain": [
       "1031"
      ]
     },
     "execution_count": 20,
     "metadata": {},
     "output_type": "execute_result"
    }
   ],
   "source": [
    "orders['visitorid'].nunique()"
   ]
  },
  {
   "cell_type": "code",
   "execution_count": 21,
   "id": "67bc1dae",
   "metadata": {},
   "outputs": [],
   "source": [
    "orders_a = orders[orders['group']=='A']['visitorid'].sort_values()"
   ]
  },
  {
   "cell_type": "code",
   "execution_count": 22,
   "id": "7fc37e9f",
   "metadata": {},
   "outputs": [],
   "source": [
    "orders_b = orders[orders['group']=='B']['visitorid'].sort_values()"
   ]
  },
  {
   "cell_type": "code",
   "execution_count": 23,
   "id": "bb9b161a",
   "metadata": {},
   "outputs": [
    {
     "data": {
      "text/plain": [
       "58"
      ]
     },
     "execution_count": 23,
     "metadata": {},
     "output_type": "execute_result"
    }
   ],
   "source": [
    "intersection = set(orders_a).intersection(orders_b)\n",
    "len(intersection)"
   ]
  },
  {
   "cell_type": "markdown",
   "id": "955d6346",
   "metadata": {},
   "source": [
    "58 пользователей из 1031 попали в обе группы.\n",
    "\n",
    "Избавимся от пользователей, попавших в обе группы."
   ]
  },
  {
   "cell_type": "code",
   "execution_count": 24,
   "id": "069868f7",
   "metadata": {},
   "outputs": [
    {
     "data": {
      "text/plain": [
       "973"
      ]
     },
     "execution_count": 24,
     "metadata": {},
     "output_type": "execute_result"
    }
   ],
   "source": [
    "orders = orders[~orders['visitorid'].isin(intersection)]\n",
    "orders['visitorid'].nunique()"
   ]
  },
  {
   "cell_type": "markdown",
   "id": "b30a5e57",
   "metadata": {},
   "source": [
    "## 2.2. Сбор кумулятивных данных."
   ]
  },
  {
   "cell_type": "markdown",
   "id": "543410d1",
   "metadata": {},
   "source": [
    "Для исключения проблемы подглядывания, построим кумулятивные графики метрик. Для этого необходимо из наших данных собрать датафрйемы с кумулятивными данными.\n",
    "\n",
    "Создадим массив уникальных пар значений дат и групп теста."
   ]
  },
  {
   "cell_type": "code",
   "execution_count": 25,
   "id": "f203511b",
   "metadata": {},
   "outputs": [],
   "source": [
    "dates_groups = orders[['date','group']].drop_duplicates()"
   ]
  },
  {
   "cell_type": "markdown",
   "id": "9663646d",
   "metadata": {},
   "source": [
    "Соберём агрегированные кумулятивные по дням данные о заказах."
   ]
  },
  {
   "cell_type": "code",
   "execution_count": 26,
   "id": "df9d295e",
   "metadata": {},
   "outputs": [
    {
     "data": {
      "text/html": [
       "<div>\n",
       "<style scoped>\n",
       "    .dataframe tbody tr th:only-of-type {\n",
       "        vertical-align: middle;\n",
       "    }\n",
       "\n",
       "    .dataframe tbody tr th {\n",
       "        vertical-align: top;\n",
       "    }\n",
       "\n",
       "    .dataframe thead th {\n",
       "        text-align: right;\n",
       "    }\n",
       "</style>\n",
       "<table border=\"1\" class=\"dataframe\">\n",
       "  <thead>\n",
       "    <tr style=\"text-align: right;\">\n",
       "      <th></th>\n",
       "      <th>date</th>\n",
       "      <th>group</th>\n",
       "      <th>transactionid</th>\n",
       "      <th>visitorid</th>\n",
       "      <th>revenue</th>\n",
       "    </tr>\n",
       "  </thead>\n",
       "  <tbody>\n",
       "    <tr>\n",
       "      <td>55</td>\n",
       "      <td>2019-08-01</td>\n",
       "      <td>A</td>\n",
       "      <td>23</td>\n",
       "      <td>19</td>\n",
       "      <td>142779</td>\n",
       "    </tr>\n",
       "    <tr>\n",
       "      <td>66</td>\n",
       "      <td>2019-08-01</td>\n",
       "      <td>B</td>\n",
       "      <td>17</td>\n",
       "      <td>17</td>\n",
       "      <td>59758</td>\n",
       "    </tr>\n",
       "    <tr>\n",
       "      <td>175</td>\n",
       "      <td>2019-08-02</td>\n",
       "      <td>A</td>\n",
       "      <td>42</td>\n",
       "      <td>36</td>\n",
       "      <td>234381</td>\n",
       "    </tr>\n",
       "    <tr>\n",
       "      <td>173</td>\n",
       "      <td>2019-08-02</td>\n",
       "      <td>B</td>\n",
       "      <td>40</td>\n",
       "      <td>39</td>\n",
       "      <td>221801</td>\n",
       "    </tr>\n",
       "    <tr>\n",
       "      <td>291</td>\n",
       "      <td>2019-08-03</td>\n",
       "      <td>A</td>\n",
       "      <td>66</td>\n",
       "      <td>60</td>\n",
       "      <td>346854</td>\n",
       "    </tr>\n",
       "  </tbody>\n",
       "</table>\n",
       "</div>"
      ],
      "text/plain": [
       "          date group  transactionid  visitorid  revenue\n",
       "55  2019-08-01     A             23         19   142779\n",
       "66  2019-08-01     B             17         17    59758\n",
       "175 2019-08-02     A             42         36   234381\n",
       "173 2019-08-02     B             40         39   221801\n",
       "291 2019-08-03     A             66         60   346854"
      ]
     },
     "execution_count": 26,
     "metadata": {},
     "output_type": "execute_result"
    }
   ],
   "source": [
    "orders_aggregated = dates_groups.apply(\n",
    "    lambda x: orders[np.logical_and(orders['date'] <= x['date'], orders['group'] == x['group'])]\n",
    "    .agg({'date': 'max',\n",
    "        'group': 'max',\n",
    "        'transactionid': 'nunique',\n",
    "        'visitorid': 'nunique',\n",
    "        'revenue': 'sum'}), axis=1).sort_values(by=['date', 'group'])\n",
    "orders_aggregated.head(5)"
   ]
  },
  {
   "cell_type": "markdown",
   "id": "d80a2f28",
   "metadata": {},
   "source": [
    "Аналогично получим агрегированные кумулятивные по дням данные о посетителях интернет-магазина."
   ]
  },
  {
   "cell_type": "code",
   "execution_count": 27,
   "id": "0749412f",
   "metadata": {},
   "outputs": [
    {
     "data": {
      "text/html": [
       "<div>\n",
       "<style scoped>\n",
       "    .dataframe tbody tr th:only-of-type {\n",
       "        vertical-align: middle;\n",
       "    }\n",
       "\n",
       "    .dataframe tbody tr th {\n",
       "        vertical-align: top;\n",
       "    }\n",
       "\n",
       "    .dataframe thead th {\n",
       "        text-align: right;\n",
       "    }\n",
       "</style>\n",
       "<table border=\"1\" class=\"dataframe\">\n",
       "  <thead>\n",
       "    <tr style=\"text-align: right;\">\n",
       "      <th></th>\n",
       "      <th>date</th>\n",
       "      <th>group</th>\n",
       "      <th>visitors</th>\n",
       "    </tr>\n",
       "  </thead>\n",
       "  <tbody>\n",
       "    <tr>\n",
       "      <td>55</td>\n",
       "      <td>2019-08-01</td>\n",
       "      <td>A</td>\n",
       "      <td>719</td>\n",
       "    </tr>\n",
       "    <tr>\n",
       "      <td>66</td>\n",
       "      <td>2019-08-01</td>\n",
       "      <td>B</td>\n",
       "      <td>713</td>\n",
       "    </tr>\n",
       "    <tr>\n",
       "      <td>175</td>\n",
       "      <td>2019-08-02</td>\n",
       "      <td>A</td>\n",
       "      <td>1338</td>\n",
       "    </tr>\n",
       "    <tr>\n",
       "      <td>173</td>\n",
       "      <td>2019-08-02</td>\n",
       "      <td>B</td>\n",
       "      <td>1294</td>\n",
       "    </tr>\n",
       "    <tr>\n",
       "      <td>291</td>\n",
       "      <td>2019-08-03</td>\n",
       "      <td>A</td>\n",
       "      <td>1845</td>\n",
       "    </tr>\n",
       "  </tbody>\n",
       "</table>\n",
       "</div>"
      ],
      "text/plain": [
       "          date group  visitors\n",
       "55  2019-08-01     A       719\n",
       "66  2019-08-01     B       713\n",
       "175 2019-08-02     A      1338\n",
       "173 2019-08-02     B      1294\n",
       "291 2019-08-03     A      1845"
      ]
     },
     "execution_count": 27,
     "metadata": {},
     "output_type": "execute_result"
    }
   ],
   "source": [
    "visitors_aggregated = dates_groups.apply(\n",
    "    lambda x: visitors[np.logical_and(visitors['date'] <= x['date'], visitors['group'] == x['group'])]\n",
    "    .agg({'date': 'max', 'group': 'max', 'visitors': 'sum'}),axis=1).sort_values(by=['date', 'group'])\n",
    "visitors_aggregated.head(5)"
   ]
  },
  {
   "cell_type": "markdown",
   "id": "f633b416",
   "metadata": {},
   "source": [
    "Объединим обе таблицы в одну и приведем названия столбцов к понятому формату."
   ]
  },
  {
   "cell_type": "code",
   "execution_count": 28,
   "id": "e7bca6ea",
   "metadata": {},
   "outputs": [],
   "source": [
    "cum_data = orders_aggregated.merge(\n",
    "    visitors_aggregated, left_on=['date', 'group'], right_on=['date', 'group']\n",
    ")\n",
    "cum_data.columns = [\n",
    "    'date',\n",
    "    'group',\n",
    "    'orders',\n",
    "    'buyers',\n",
    "    'revenue',\n",
    "    'visitors',\n",
    "]"
   ]
  },
  {
   "cell_type": "markdown",
   "id": "ec58a32d",
   "metadata": {},
   "source": [
    "Добавим в датафрейм столбце с расчитанной конверсией и создадим два отдельных датафрейма с данными только по группам А и В."
   ]
  },
  {
   "cell_type": "code",
   "execution_count": 29,
   "id": "69d34311",
   "metadata": {},
   "outputs": [],
   "source": [
    "cum_data['conversion'] = (\n",
    "    cum_data['orders'] / cum_data['visitors']\n",
    ")\n",
    "\n",
    "cum_data_a = cum_data[cum_data['group'] == 'A']\n",
    "cum_data_b = cum_data[cum_data['group'] == 'B']"
   ]
  },
  {
   "cell_type": "markdown",
   "id": "5310383d",
   "metadata": {},
   "source": [
    "Также выделим в отдельные датафреймы данные о кумулятивной выручке по дням по группам А и В."
   ]
  },
  {
   "cell_type": "code",
   "execution_count": 30,
   "id": "a15bef03",
   "metadata": {},
   "outputs": [],
   "source": [
    "cum_revenue_a = cum_data[cum_data['group']=='A'][['date','revenue', 'orders']]\n",
    "\n",
    "cum_revenue_b = cum_data[cum_data['group']=='B'][['date','revenue', 'orders']]"
   ]
  },
  {
   "cell_type": "markdown",
   "id": "80451d05",
   "metadata": {},
   "source": [
    "Сбор и подготовка кумулятивных данных завершен, можно приступать к непосредственно анализу."
   ]
  },
  {
   "cell_type": "markdown",
   "id": "348bac55",
   "metadata": {},
   "source": [
    "## 2.3. Кумулятивный график выручки по группам."
   ]
  },
  {
   "cell_type": "markdown",
   "id": "b453e1d8",
   "metadata": {},
   "source": [
    "Для начала построим график кумулятивной выручки по дням и по группам."
   ]
  },
  {
   "cell_type": "code",
   "execution_count": 31,
   "id": "3657f827",
   "metadata": {},
   "outputs": [
    {
     "data": {
      "image/png": "[encoded data removed]",
      "text/plain": [
       "<Figure size 1008x504 with 1 Axes>"
      ]
     },
     "metadata": {
      "image/png": {
       "height": 440,
       "width": 878
      },
      "needs_background": "light"
     },
     "output_type": "display_data"
    }
   ],
   "source": [
    "plt.figure(figsize=(14, 7))\n",
    "plt.plot(cum_data_a['date'], cum_data_a['revenue'], label='A')\n",
    "\n",
    "plt.plot(cum_data_b['date'], cum_data_b['revenue'], label='B')\n",
    "plt.title('График кумулятивной выручки по группам')\n",
    "plt.legend()\n",
    "plt.xlabel('Дата')\n",
    "plt.ylabel('Кумулятивная выручка, р.')\n",
    "plt.show()"
   ]
  },
  {
   "cell_type": "markdown",
   "id": "0477b183",
   "metadata": {},
   "source": [
    "Графики выручки в течении всего срока проведения теста растут. Это хороший знак. Также необходимо отметить, что показатели выручки по группе В растут сильнее и к концу проведения теста опережают показатели по группе А примерно на 2 000 000. \n",
    "\n",
    "Также важно отметить резкий скачок графика В примерно в середине проведения теста, что может быть обусловленно выбросами. Это мы проанализируем позже.\n",
    "\n",
    "Проанализировав графики кумулятивной выручки по группам, заключаем, что обе группы демострируют положительную динамику во времени с преимуществом по группе В, несмотря на явный всплеск. Что является положительным признаком."
   ]
  },
  {
   "cell_type": "markdown",
   "id": "6c57c1a3",
   "metadata": {},
   "source": [
    "## 2.4. Кумулятивный график среднего чека по группам."
   ]
  },
  {
   "cell_type": "markdown",
   "id": "6c806148",
   "metadata": {},
   "source": [
    "Теперь построим график кумулятивного среднего чека по дням и группам."
   ]
  },
  {
   "cell_type": "code",
   "execution_count": 32,
   "id": "d14c8035",
   "metadata": {},
   "outputs": [
    {
     "data": {
      "image/png": "[encoded data removed]",
      "text/plain": [
       "<Figure size 1008x504 with 1 Axes>"
      ]
     },
     "metadata": {
      "image/png": {
       "height": 440,
       "width": 865
      },
      "needs_background": "light"
     },
     "output_type": "display_data"
    }
   ],
   "source": [
    "plt.figure(figsize=(14, 7))\n",
    "plt.plot(cum_data_a['date'], cum_data_a['revenue']/cum_data_a['orders'], label='A')\n",
    "plt.plot(cum_data_b['date'], cum_data_b['revenue']/cum_data_b['orders'], label='B')\n",
    "plt.title('График кумулятивного среднего чека по группам')\n",
    "plt.legend()\n",
    "plt.xlabel('Дата')\n",
    "plt.ylabel('Средний чек, р.')\n",
    "plt.show()"
   ]
  },
  {
   "cell_type": "markdown",
   "id": "41d3cf63",
   "metadata": {},
   "source": [
    "На графиках мы видим следующее:\n",
    "\n",
    "- график группы А болле равномерный, начиная с 13 числа установился в одном диапазоне;\n",
    "\n",
    "- также отмечаем, что в первых числах проведения теста, график А имеет значительные спады и подъемы;\n",
    "\n",
    "- график В тоже в первых числах колеблется, но не ярко выраженно и демонстрирует постоянное повышение;\n",
    "\n",
    "- по графику В мы видим сильный скачок в середине, что может быть вызванно аномально большим заказом;\n",
    "\n",
    "- после всплеска график В демонстрирует плавное снижение.\n",
    "\n",
    "Также важно отметить, что средний чек за время теста вырос по обеим группам."
   ]
  },
  {
   "cell_type": "markdown",
   "id": "c4d72e0e",
   "metadata": {},
   "source": [
    "## 2.5. График относительного изменения кумулятивного среднего чека группы B к группе A."
   ]
  },
  {
   "cell_type": "markdown",
   "id": "cc550c6a",
   "metadata": {},
   "source": [
    "Теперь проверим различия кумулятивного среднего чека группы В относительно к группе А.\n",
    "\n",
    "Для этого объединим датафреймы с данным о кумулятивной выручки по группам в один."
   ]
  },
  {
   "cell_type": "code",
   "execution_count": 33,
   "id": "98337e63",
   "metadata": {},
   "outputs": [
    {
     "data": {
      "image/png": "[encoded data removed]",
      "text/plain": [
       "<Figure size 1008x504 with 1 Axes>"
      ]
     },
     "metadata": {
      "image/png": {
       "height": 440,
       "width": 844
      },
      "needs_background": "light"
     },
     "output_type": "display_data"
    }
   ],
   "source": [
    "merged_cum_revenue = cum_revenue_a\\\n",
    ".merge(cum_revenue_b, left_on='date', right_on='date', how='left', suffixes=['A', 'B'])\n",
    "\n",
    "plt.figure(figsize=(14, 7))\n",
    "plt.plot(merged_cum_revenue['date'],\\\n",
    "         (merged_cum_revenue['revenueB']/merged_cum_revenue['ordersB'])\\\n",
    "         /(merged_cum_revenue['revenueA']/merged_cum_revenue['ordersA'])-1)\n",
    "plt.title('График относительного изменения кумулятивного среднего чека группы B к группе A')\n",
    "plt.axhline(y=0, color='black', linestyle='--') \n",
    "plt.xlabel('Дата')\n",
    "plt.show()"
   ]
  },
  {
   "cell_type": "markdown",
   "id": "22dec8c6",
   "metadata": {},
   "source": [
    "На графике мы видим, что график В пересекает значения графика А несколько раз за время проведения теста. Это с большой вероятностью вызванно аномальными заказами и всплесками. Но можно заметить, что ближе к концу график В демонстрирует снижение к графику А."
   ]
  },
  {
   "cell_type": "markdown",
   "id": "37f9e3da",
   "metadata": {},
   "source": [
    "## 2.6. График кумулятивной конверсии по группам."
   ]
  },
  {
   "cell_type": "markdown",
   "id": "7b150f27",
   "metadata": {},
   "source": [
    "Проанализируем график кумулятивной конверсии по дням по и группам. Для этого нам необходимо задать максимальные и минимальные значения для осей Х и У.\n",
    "\n",
    "Выведем на экран максимальные значения конверсии и даты начала и окончания теста по группам."
   ]
  },
  {
   "cell_type": "code",
   "execution_count": 34,
   "id": "c8cc86f7",
   "metadata": {
    "scrolled": true
   },
   "outputs": [
    {
     "data": {
      "text/plain": [
       "0.03577235772357724"
      ]
     },
     "metadata": {},
     "output_type": "display_data"
    },
    {
     "data": {
      "text/plain": [
       "Timestamp('2019-08-31 00:00:00')"
      ]
     },
     "metadata": {},
     "output_type": "display_data"
    },
    {
     "data": {
      "text/plain": [
       "Timestamp('2019-08-01 00:00:00')"
      ]
     },
     "metadata": {},
     "output_type": "display_data"
    }
   ],
   "source": [
    "display(cum_data_a['conversion'].max())\n",
    "display(cum_data_a['date'].max())\n",
    "display(cum_data_a['date'].min())"
   ]
  },
  {
   "cell_type": "code",
   "execution_count": 35,
   "id": "036d1954",
   "metadata": {
    "scrolled": true
   },
   "outputs": [
    {
     "data": {
      "text/plain": [
       "0.031543731081726936"
      ]
     },
     "metadata": {},
     "output_type": "display_data"
    },
    {
     "data": {
      "text/plain": [
       "Timestamp('2019-08-31 00:00:00')"
      ]
     },
     "metadata": {},
     "output_type": "display_data"
    },
    {
     "data": {
      "text/plain": [
       "Timestamp('2019-08-01 00:00:00')"
      ]
     },
     "metadata": {},
     "output_type": "display_data"
    }
   ],
   "source": [
    "display(cum_data_b['conversion'].max())\n",
    "display(cum_data_b['date'].max())\n",
    "display(cum_data_b['date'].min())"
   ]
  },
  {
   "cell_type": "markdown",
   "id": "2c430f46",
   "metadata": {},
   "source": [
    "Зададим максимальные и минимальные значения оси Х как 01.08.2019 и 31.08.2019 соответственно. И максимальные и минимальные значения оси У как 0 и 0,05 соответственно."
   ]
  },
  {
   "cell_type": "code",
   "execution_count": 36,
   "id": "e1726a42",
   "metadata": {},
   "outputs": [
    {
     "data": {
      "image/png": "[encoded data removed]",
      "text/plain": [
       "<Figure size 1008x504 with 1 Axes>"
      ]
     },
     "metadata": {
      "image/png": {
       "height": 440,
       "width": 825
      },
      "needs_background": "light"
     },
     "output_type": "display_data"
    }
   ],
   "source": [
    "plt.figure(figsize=(14, 7))\n",
    "plt.plot(cum_data_a['date'], cum_data_a['conversion'], label='A')\n",
    "plt.plot(cum_data_b['date'], cum_data_b['conversion'], label='B')\n",
    "plt.legend()\n",
    "plt.title('График кумулятивной конверсии по группам')\n",
    "plt.axis([\"2019-08-01\", '2019-08-31', 0, 0.050]) \n",
    "plt.xlabel('Дата')\n",
    "plt.show()"
   ]
  },
  {
   "cell_type": "markdown",
   "id": "365d99df",
   "metadata": {},
   "source": [
    "Мы видим на графиках, что в начале оба графика демонстрирует явные колебания и персекают друг друга. Затем начиная примерно с 09.08.2019 они выравниваются. При этом с момента устаканивания графиков конверсия по графику В находится всегда выше, чем по графику А.\n",
    "\n",
    "Важно отметить, что конверсии обеих групп А и В довольно рано вышли на плато и демонстрируют очень стабильные показатели."
   ]
  },
  {
   "cell_type": "markdown",
   "id": "80d5cc63",
   "metadata": {},
   "source": [
    "## 2.7. График относительного изменения кумулятивной конверсии группы B к группе A."
   ]
  },
  {
   "cell_type": "markdown",
   "id": "fae0968d",
   "metadata": {},
   "source": [
    "Построим график относительного различия кумулятивных конверсий.\n",
    "\n",
    "Для этого соберем в одну таблицу данные с датами и конверсией по группам А и В."
   ]
  },
  {
   "cell_type": "code",
   "execution_count": 37,
   "id": "a7d66fb3",
   "metadata": {},
   "outputs": [],
   "source": [
    "merged_cum_conversions = cum_data_a[['date','conversion']]\\\n",
    ".merge(cum_data_b[['date','conversion']], left_on='date', right_on='date', how='left', suffixes=['A', 'B'])"
   ]
  },
  {
   "cell_type": "markdown",
   "id": "34461290",
   "metadata": {},
   "source": [
    "Построим график. Значения конверсии группы А зададим черной пунктирной линией и примем за 0. "
   ]
  },
  {
   "cell_type": "code",
   "execution_count": 38,
   "id": "3578d029",
   "metadata": {},
   "outputs": [
    {
     "data": {
      "image/png": "[encoded data removed]",
      "text/plain": [
       "<Figure size 1008x504 with 1 Axes>"
      ]
     },
     "metadata": {
      "image/png": {
       "height": 440,
       "width": 826
      },
      "needs_background": "light"
     },
     "output_type": "display_data"
    }
   ],
   "source": [
    "plt.figure(figsize=(14, 7))\n",
    "plt.plot(merged_cum_conversions['date'],\\\n",
    "         merged_cum_conversions['conversionB']/merged_cum_conversions['conversionA']-1,\\\n",
    "         label=\"Относительный прирост конверсии группы B относительно группы A\")\n",
    "plt.legend()\n",
    "plt.title('График относительного изменения кумулятивной конверсии группы B к группе A')\n",
    "plt.axhline(y=0, color='black', linestyle='--')\n",
    "plt.axhline(y=0.15, color='grey', linestyle='--')\n",
    "plt.axis([\"2019-08-01\", '2019-08-31', -0.6, 0.6]) \n",
    "plt.xlabel('Дата')\n",
    "plt.show()"
   ]
  },
  {
   "cell_type": "markdown",
   "id": "a4e2be23",
   "metadata": {},
   "source": [
    "Здесь мы видим, что в начале теста конверсия группы В колебалась относительно группы А, потом уверенно стала больше примерно на 0,2. Начиная с 10.08.2019 конверсия группы В вышла на плато в районе значения 0,15 относительно конверсии группы А. \n",
    "\n",
    "Можем предварительно заключить, что различия конверсий относительно друг друга устоялись в пользу конверсии группы В."
   ]
  },
  {
   "cell_type": "markdown",
   "id": "2de8fcaf",
   "metadata": {},
   "source": [
    "## 2.8. Анализ выбросов и всплесков: количество заказов по пользователям."
   ]
  },
  {
   "cell_type": "markdown",
   "id": "e9fbd58c",
   "metadata": {},
   "source": [
    "Теперь приступим к анализу анамалий и выбросов, чтобы оценить их влияние на результаты теста."
   ]
  },
  {
   "cell_type": "code",
   "execution_count": 39,
   "id": "5b1cd00a",
   "metadata": {
    "scrolled": true
   },
   "outputs": [
    {
     "data": {
      "text/html": [
       "<div>\n",
       "<style scoped>\n",
       "    .dataframe tbody tr th:only-of-type {\n",
       "        vertical-align: middle;\n",
       "    }\n",
       "\n",
       "    .dataframe tbody tr th {\n",
       "        vertical-align: top;\n",
       "    }\n",
       "\n",
       "    .dataframe thead th {\n",
       "        text-align: right;\n",
       "    }\n",
       "</style>\n",
       "<table border=\"1\" class=\"dataframe\">\n",
       "  <thead>\n",
       "    <tr style=\"text-align: right;\">\n",
       "      <th></th>\n",
       "      <th>transactionid</th>\n",
       "      <th>visitorid</th>\n",
       "      <th>date</th>\n",
       "      <th>revenue</th>\n",
       "      <th>group</th>\n",
       "    </tr>\n",
       "  </thead>\n",
       "  <tbody>\n",
       "    <tr>\n",
       "      <td>0</td>\n",
       "      <td>3667963787</td>\n",
       "      <td>3312258926</td>\n",
       "      <td>2019-08-15</td>\n",
       "      <td>1650</td>\n",
       "      <td>B</td>\n",
       "    </tr>\n",
       "    <tr>\n",
       "      <td>1</td>\n",
       "      <td>2804400009</td>\n",
       "      <td>3642806036</td>\n",
       "      <td>2019-08-15</td>\n",
       "      <td>730</td>\n",
       "      <td>B</td>\n",
       "    </tr>\n",
       "    <tr>\n",
       "      <td>3</td>\n",
       "      <td>3797467345</td>\n",
       "      <td>1196621759</td>\n",
       "      <td>2019-08-15</td>\n",
       "      <td>9759</td>\n",
       "      <td>B</td>\n",
       "    </tr>\n",
       "    <tr>\n",
       "      <td>4</td>\n",
       "      <td>2282983706</td>\n",
       "      <td>2322279887</td>\n",
       "      <td>2019-08-15</td>\n",
       "      <td>2308</td>\n",
       "      <td>B</td>\n",
       "    </tr>\n",
       "    <tr>\n",
       "      <td>5</td>\n",
       "      <td>182168103</td>\n",
       "      <td>935554773</td>\n",
       "      <td>2019-08-15</td>\n",
       "      <td>2210</td>\n",
       "      <td>B</td>\n",
       "    </tr>\n",
       "  </tbody>\n",
       "</table>\n",
       "</div>"
      ],
      "text/plain": [
       "   transactionid   visitorid       date  revenue group\n",
       "0     3667963787  3312258926 2019-08-15     1650     B\n",
       "1     2804400009  3642806036 2019-08-15      730     B\n",
       "3     3797467345  1196621759 2019-08-15     9759     B\n",
       "4     2282983706  2322279887 2019-08-15     2308     B\n",
       "5      182168103   935554773 2019-08-15     2210     B"
      ]
     },
     "execution_count": 39,
     "metadata": {},
     "output_type": "execute_result"
    }
   ],
   "source": [
    "orders.head(5)"
   ]
  },
  {
   "cell_type": "markdown",
   "id": "3e793b49",
   "metadata": {},
   "source": [
    "Посмотрим сколько в среднем пользователи делали заказов. Пользователи, совершившие много заказов, влияют на числитель формулы конверсии. Скорее всего, их поведение отличается от нормального."
   ]
  },
  {
   "cell_type": "code",
   "execution_count": 40,
   "id": "ace19c6b",
   "metadata": {},
   "outputs": [
    {
     "data": {
      "text/html": [
       "<div>\n",
       "<style scoped>\n",
       "    .dataframe tbody tr th:only-of-type {\n",
       "        vertical-align: middle;\n",
       "    }\n",
       "\n",
       "    .dataframe tbody tr th {\n",
       "        vertical-align: top;\n",
       "    }\n",
       "\n",
       "    .dataframe thead th {\n",
       "        text-align: right;\n",
       "    }\n",
       "</style>\n",
       "<table border=\"1\" class=\"dataframe\">\n",
       "  <thead>\n",
       "    <tr style=\"text-align: right;\">\n",
       "      <th></th>\n",
       "      <th>user_id</th>\n",
       "      <th>orders</th>\n",
       "    </tr>\n",
       "  </thead>\n",
       "  <tbody>\n",
       "    <tr>\n",
       "      <td>908</td>\n",
       "      <td>3967698036</td>\n",
       "      <td>3</td>\n",
       "    </tr>\n",
       "    <tr>\n",
       "      <td>55</td>\n",
       "      <td>249864742</td>\n",
       "      <td>3</td>\n",
       "    </tr>\n",
       "    <tr>\n",
       "      <td>478</td>\n",
       "      <td>2108163459</td>\n",
       "      <td>3</td>\n",
       "    </tr>\n",
       "    <tr>\n",
       "      <td>687</td>\n",
       "      <td>2988190573</td>\n",
       "      <td>3</td>\n",
       "    </tr>\n",
       "    <tr>\n",
       "      <td>890</td>\n",
       "      <td>3908431265</td>\n",
       "      <td>3</td>\n",
       "    </tr>\n",
       "    <tr>\n",
       "      <td>...</td>\n",
       "      <td>...</td>\n",
       "      <td>...</td>\n",
       "    </tr>\n",
       "    <tr>\n",
       "      <td>331</td>\n",
       "      <td>1438226485</td>\n",
       "      <td>1</td>\n",
       "    </tr>\n",
       "    <tr>\n",
       "      <td>332</td>\n",
       "      <td>1452540367</td>\n",
       "      <td>1</td>\n",
       "    </tr>\n",
       "    <tr>\n",
       "      <td>333</td>\n",
       "      <td>1455323168</td>\n",
       "      <td>1</td>\n",
       "    </tr>\n",
       "    <tr>\n",
       "      <td>334</td>\n",
       "      <td>1455861274</td>\n",
       "      <td>1</td>\n",
       "    </tr>\n",
       "    <tr>\n",
       "      <td>972</td>\n",
       "      <td>4283872382</td>\n",
       "      <td>1</td>\n",
       "    </tr>\n",
       "  </tbody>\n",
       "</table>\n",
       "<p>973 rows × 2 columns</p>\n",
       "</div>"
      ],
      "text/plain": [
       "        user_id  orders\n",
       "908  3967698036       3\n",
       "55    249864742       3\n",
       "478  2108163459       3\n",
       "687  2988190573       3\n",
       "890  3908431265       3\n",
       "..          ...     ...\n",
       "331  1438226485       1\n",
       "332  1452540367       1\n",
       "333  1455323168       1\n",
       "334  1455861274       1\n",
       "972  4283872382       1\n",
       "\n",
       "[973 rows x 2 columns]"
      ]
     },
     "metadata": {},
     "output_type": "display_data"
    }
   ],
   "source": [
    "orders_by_user = orders.\\\n",
    "groupby('visitorid', as_index=False).\\\n",
    "agg({'transactionid':'nunique'})\n",
    "orders_by_user.columns = ['user_id', 'orders']\n",
    "display(orders_by_user.sort_values(by='orders', ascending=False))"
   ]
  },
  {
   "cell_type": "markdown",
   "id": "17f30a79",
   "metadata": {},
   "source": [
    "Мы видим, что после фильтрации количество заказов на одного пользователя не превышает трех. Посмотрим на их распределение на гистограмме."
   ]
  },
  {
   "cell_type": "code",
   "execution_count": 41,
   "id": "e4873622",
   "metadata": {},
   "outputs": [
    {
     "data": {
      "image/png": "[encoded data removed]",
      "text/plain": [
       "<Figure size 432x288 with 1 Axes>"
      ]
     },
     "metadata": {
      "image/png": {
       "height": 277,
       "width": 419
      },
      "needs_background": "light"
     },
     "output_type": "display_data"
    }
   ],
   "source": [
    "plt.hist(orders_by_user['orders'], bins=3) \n",
    "plt.xlabel('Количество заказов на одного пользователя')\n",
    "plt.ylabel('Количество заказов')\n",
    "plt.title('Гистограмма распределения заказов на одного пользователя')\n",
    "plt.show()"
   ]
  },
  {
   "cell_type": "markdown",
   "id": "c8869820",
   "metadata": {},
   "source": [
    "Большинство пользователей совершает один заказ. Однако есть и доля пользователей, совершивших два и три заказа.\n",
    "\n",
    "Построим точеченую диаграмму числа заказов на одного пользователя."
   ]
  },
  {
   "cell_type": "code",
   "execution_count": 42,
   "id": "9b1b74a4",
   "metadata": {},
   "outputs": [
    {
     "data": {
      "image/png": "[encoded data removed]",
      "text/plain": [
       "<Figure size 432x288 with 1 Axes>"
      ]
     },
     "metadata": {
      "image/png": {
       "height": 277,
       "width": 416
      },
      "needs_background": "light"
     },
     "output_type": "display_data"
    }
   ],
   "source": [
    "x_values = pd.Series(range(0,len(orders_by_user)))\n",
    "\n",
    "plt.scatter(x_values, orders_by_user['orders'])\n",
    "plt.xlabel('Количество заказов')\n",
    "plt.ylabel('Количество заказов на одного пользователя')\n",
    "plt.title('Диаграмма распределения заказов на одного пользователя')\n",
    "plt.show()"
   ]
  },
  {
   "cell_type": "markdown",
   "id": "7d71c8ae",
   "metadata": {},
   "source": [
    "Выводы подтверждаются: много пользователей совершивших 2 и 3 заказа. Для точного определения, какое количество заказов считать аномалиями, а какое нет, посчитаем 95 и 99 перцентили количества заказов на одного пользователя."
   ]
  },
  {
   "cell_type": "code",
   "execution_count": 43,
   "id": "b332bd7d",
   "metadata": {},
   "outputs": [
    {
     "data": {
      "text/plain": [
       "array([1., 2.])"
      ]
     },
     "execution_count": 43,
     "metadata": {},
     "output_type": "execute_result"
    }
   ],
   "source": [
    "np.percentile(orders_by_user['orders'], [95, 99])"
   ]
  },
  {
   "cell_type": "markdown",
   "id": "c95a7f31",
   "metadata": {},
   "source": [
    "Не более 5% пользователей оформляли больше одного заказа и не больше 1% оформили больше двух заказов.\n",
    "\n",
    "Логично выбрать границу отсечения аномальных заказов больше 1."
   ]
  },
  {
   "cell_type": "markdown",
   "id": "756a13f6",
   "metadata": {},
   "source": [
    "## 2.9. Анализ выбросов и всплесков: стоимость заказов."
   ]
  },
  {
   "cell_type": "markdown",
   "id": "6370a54d",
   "metadata": {},
   "source": [
    "Таким же способом отфильтруем аномальные заказы по стоимости.\n",
    "\n",
    "Посмотрим на максимальные значения стоимости заказов."
   ]
  },
  {
   "cell_type": "code",
   "execution_count": 44,
   "id": "3700d80e",
   "metadata": {
    "scrolled": true
   },
   "outputs": [
    {
     "data": {
      "text/html": [
       "<div>\n",
       "<style scoped>\n",
       "    .dataframe tbody tr th:only-of-type {\n",
       "        vertical-align: middle;\n",
       "    }\n",
       "\n",
       "    .dataframe tbody tr th {\n",
       "        vertical-align: top;\n",
       "    }\n",
       "\n",
       "    .dataframe thead th {\n",
       "        text-align: right;\n",
       "    }\n",
       "</style>\n",
       "<table border=\"1\" class=\"dataframe\">\n",
       "  <thead>\n",
       "    <tr style=\"text-align: right;\">\n",
       "      <th></th>\n",
       "      <th>transactionid</th>\n",
       "      <th>visitorid</th>\n",
       "      <th>date</th>\n",
       "      <th>revenue</th>\n",
       "      <th>group</th>\n",
       "    </tr>\n",
       "  </thead>\n",
       "  <tbody>\n",
       "    <tr>\n",
       "      <td>425</td>\n",
       "      <td>590470918</td>\n",
       "      <td>1920142716</td>\n",
       "      <td>2019-08-19</td>\n",
       "      <td>1294500</td>\n",
       "      <td>B</td>\n",
       "    </tr>\n",
       "    <tr>\n",
       "      <td>1196</td>\n",
       "      <td>3936777065</td>\n",
       "      <td>2108080724</td>\n",
       "      <td>2019-08-15</td>\n",
       "      <td>202740</td>\n",
       "      <td>B</td>\n",
       "    </tr>\n",
       "    <tr>\n",
       "      <td>1136</td>\n",
       "      <td>666610489</td>\n",
       "      <td>1307669133</td>\n",
       "      <td>2019-08-13</td>\n",
       "      <td>92550</td>\n",
       "      <td>A</td>\n",
       "    </tr>\n",
       "    <tr>\n",
       "      <td>744</td>\n",
       "      <td>3668308183</td>\n",
       "      <td>888512513</td>\n",
       "      <td>2019-08-27</td>\n",
       "      <td>86620</td>\n",
       "      <td>B</td>\n",
       "    </tr>\n",
       "    <tr>\n",
       "      <td>743</td>\n",
       "      <td>3603576309</td>\n",
       "      <td>4133034833</td>\n",
       "      <td>2019-08-09</td>\n",
       "      <td>67990</td>\n",
       "      <td>A</td>\n",
       "    </tr>\n",
       "  </tbody>\n",
       "</table>\n",
       "</div>"
      ],
      "text/plain": [
       "      transactionid   visitorid       date  revenue group\n",
       "425       590470918  1920142716 2019-08-19  1294500     B\n",
       "1196     3936777065  2108080724 2019-08-15   202740     B\n",
       "1136      666610489  1307669133 2019-08-13    92550     A\n",
       "744      3668308183   888512513 2019-08-27    86620     B\n",
       "743      3603576309  4133034833 2019-08-09    67990     A"
      ]
     },
     "metadata": {},
     "output_type": "display_data"
    }
   ],
   "source": [
    "display(orders.sort_values(by='revenue', ascending=False).head(5))"
   ]
  },
  {
   "cell_type": "markdown",
   "id": "0d0784a2",
   "metadata": {},
   "source": [
    "Мы видим, что пользователями были совершены очень крупные покупки на суммы болле 200 000 р и почти 1 300 000 р. Эти заказы как раз были выполнены пользователями из группы В, что и давало всплески на наших графиках в сторону группы В ранее.\n",
    "\n",
    "Построим гистограмму распределения стоимости заказов."
   ]
  },
  {
   "cell_type": "code",
   "execution_count": 45,
   "id": "a1aa9f1d",
   "metadata": {},
   "outputs": [
    {
     "data": {
      "image/png": "[encoded data removed]",
      "text/plain": [
       "<Figure size 432x288 with 1 Axes>"
      ]
     },
     "metadata": {
      "image/png": {
       "height": 277,
       "width": 395
      },
      "needs_background": "light"
     },
     "output_type": "display_data"
    }
   ],
   "source": [
    "plt.hist(orders['revenue']) \n",
    "plt.xlabel('Сумма за заказ, р.')\n",
    "plt.ylabel('Количество заказов')\n",
    "plt.title('Гистограмма распределения по сумме заказа')\n",
    "plt.show()"
   ]
  },
  {
   "cell_type": "markdown",
   "id": "dea3ba27",
   "metadata": {},
   "source": [
    "Здесь мы видим подтверждение, что подавляющая часть заказов не превышает по стоимости 100 000 р.\n",
    "\n",
    "Для подтверждения построим точечную диаграмму распределения стоимости заказов."
   ]
  },
  {
   "cell_type": "code",
   "execution_count": 46,
   "id": "13e298d1",
   "metadata": {},
   "outputs": [
    {
     "data": {
      "image/png": "[encoded data removed]",
      "text/plain": [
       "<Figure size 432x288 with 1 Axes>"
      ]
     },
     "metadata": {
      "image/png": {
       "height": 277,
       "width": 414
      },
      "needs_background": "light"
     },
     "output_type": "display_data"
    }
   ],
   "source": [
    "x_values = pd.Series(range(0,len(orders)))\n",
    "\n",
    "plt.scatter(x_values, orders['revenue'])\n",
    "plt.xlabel('Количество заказов')\n",
    "plt.ylabel('Сумма заказов, р.')\n",
    "plt.title('Диаграмма распределения сумме заказа')\n",
    "plt.show()"
   ]
  },
  {
   "cell_type": "markdown",
   "id": "3f49f873",
   "metadata": {},
   "source": [
    "Всего два выброса, зафиксированных нами ранее, но как они влияли на поведение графиков по группам. \n",
    "\n",
    "Определим 95 и 99 персентили для стоимости заказов."
   ]
  },
  {
   "cell_type": "code",
   "execution_count": 47,
   "id": "11da743a",
   "metadata": {},
   "outputs": [
    {
     "data": {
      "text/plain": [
       "array([26785., 53904.])"
      ]
     },
     "execution_count": 47,
     "metadata": {},
     "output_type": "execute_result"
    }
   ],
   "source": [
    "np.percentile(orders['revenue'], [95, 99])"
   ]
  },
  {
   "cell_type": "markdown",
   "id": "ceb6a5ec",
   "metadata": {},
   "source": [
    "Только 5% пользователей заплатили более 27 000 р и лишь 1% пользователей заплатил более 54 000 р.\n",
    "\n",
    "Определим границу отсечения аномальных заказов на уровне 27 000 р."
   ]
  },
  {
   "cell_type": "markdown",
   "id": "777cab41",
   "metadata": {},
   "source": [
    "## 2.10. Статистическая значимость различий в конверсии между группами по «сырым» данным."
   ]
  },
  {
   "cell_type": "markdown",
   "id": "07a7b10b",
   "metadata": {},
   "source": [
    "На предыдущих шагах мы:\n",
    "\n",
    "- Оценили результаты A/B-теста визуально и выяснили, что в данных есть выбросы;\n",
    "\n",
    "- выявили выбросы и нашли границу для их определения.\n",
    "\n",
    "Посчитаем статистическую значимость различий в конверсии и среднем чеке между группами по «сырым» данным — без удаления аномальных пользователей.\n",
    "\n",
    "Для этого сформулируем гипотезы.\n",
    "- **Н0: различий в конверсии между группами нет.**\n",
    "\n",
    "- **Н1: различия в конверсии между группами есть.**\n",
    "\n",
    "Приступим к оценке статистической значимости различий в конверсии между группами по «сырым» данным.\n",
    "\n",
    "Начнём с подготовки данных."
   ]
  },
  {
   "cell_type": "markdown",
   "id": "11baac80",
   "metadata": {},
   "source": [
    "Соберем в один датафрейм `data` данные о количестве заказов и их стоимости, а также о количестве пользователей  на выбранную дату. Данные о суммарной выручке и числе заказов на выбранную дату.\n",
    "\n",
    "Объявим переменные sampleA и sampleB, в которых пользователям из разных групп будет соответствовать количество заказов. Тем, кто ничего не заказал, будут соответствовать нули."
   ]
  },
  {
   "cell_type": "code",
   "execution_count": 48,
   "id": "e73f81d7",
   "metadata": {},
   "outputs": [],
   "source": [
    "#Создадим датафреймы с разбивкой пользователей по группам\n",
    "visitors_a_daily = visitors[visitors['group'] == 'A'][['date', 'visitors']]\n",
    "visitors_a_daily.columns = ['date', 'visitors_per_date_a']\n",
    "#Посчитаем кумулятивное количество пользователей\n",
    "visitors_a_cum = visitors_a_daily.apply(\n",
    "    lambda x: visitors_a_daily[visitors_a_daily['date'] <= x['date']].agg(\n",
    "        {'date': 'max', 'visitors_per_date_a': 'sum'}\n",
    "    ),\n",
    "    axis=1,\n",
    ")\n",
    "visitors_a_cum.columns = ['date', 'visitors_cum_a']\n",
    "#Тоже самое для группы В\n",
    "visitors_b_daily = visitors[visitors['group'] == 'B'][['date', 'visitors']]\n",
    "visitors_b_daily.columns = ['date', 'visitors_per_date_b']\n",
    "\n",
    "visitors_b_cum = visitors_b_daily.apply(\n",
    "    lambda x: visitors_b_daily[visitors_b_daily['date'] <= x['date']].agg(\n",
    "        {'date': 'max', 'visitors_per_date_b': 'sum'}\n",
    "    ),\n",
    "    axis=1,\n",
    ")\n",
    "visitors_b_cum.columns = ['date', 'visitors_cum_b']\n",
    "#Создадим датафреймы с разбивкой по группам с данными о заказах и оплатах\n",
    "orders_a_daily = (\n",
    "    orders[orders['group'] == 'A'][['date', 'transactionid', 'visitorid', 'revenue']]\n",
    "    .groupby('date', as_index=False)\n",
    "    .agg({'transactionid': pd.Series.nunique, 'revenue': 'sum'})\n",
    ")\n",
    "orders_a_daily.columns = ['date', 'orders_per_date_a', 'revenue_per_date_a']\n",
    "#Посчитаем кумулятивные значения для каждой группы\n",
    "orders_a_cum = orders_a_daily.apply(\n",
    "    lambda x: orders_a_daily[orders_a_daily['date'] <= x['date']].agg(\n",
    "        {'date': 'max', 'orders_per_date_a': 'sum', 'revenue_per_date_a': 'sum'}\n",
    "    ),\n",
    "    axis=1,\n",
    ").sort_values(by=['date'])\n",
    "orders_a_cum.columns = [\n",
    "    'date',\n",
    "    'orders_cum_a',\n",
    "    'revenue_cum_a',\n",
    "]\n",
    "#Тоже самое для группы В\n",
    "orders_b_daily = (\n",
    "    orders[orders['group'] == 'B'][['date', 'transactionid', 'visitorid', 'revenue']]\n",
    "    .groupby('date', as_index=False)\n",
    "    .agg({'transactionid': pd.Series.nunique, 'revenue': 'sum'})\n",
    ")\n",
    "orders_b_daily.columns = ['date', 'orders_per_date_b', 'revenue_per_date_b']\n",
    "\n",
    "orders_b_cum = orders_b_daily.apply(\n",
    "    lambda x: orders_b_daily[orders_b_daily['date'] <= x['date']].agg(\n",
    "        {'date': 'max', 'orders_per_date_b': 'sum', 'revenue_per_date_b': 'sum'}\n",
    "    ),\n",
    "    axis=1,\n",
    ").sort_values(by=['date'])\n",
    "orders_b_cum.columns = [\n",
    "    'date',\n",
    "    'orders_cum_b',\n",
    "    'revenue_cum_b',\n",
    "]\n",
    "#Объединим все данные в один датафрейм\n",
    "data = (orders_a_daily.merge(orders_b_daily, left_on='date', right_on='date', how='left')\n",
    "    .merge(orders_a_cum, left_on='date', right_on='date', how='left')\n",
    "    .merge(orders_b_cum, left_on='date', right_on='date', how='left')\n",
    "    .merge(visitors_a_daily, left_on='date', right_on='date', how='left')\n",
    "    .merge(visitors_b_daily, left_on='date', right_on='date', how='left')\n",
    "    .merge(visitors_a_cum, left_on='date', right_on='date', how='left')\n",
    "    .merge(visitors_b_cum, left_on='date', right_on='date', how='left')\n",
    ")\n",
    "#Создадим датафреймы с количеством заказов для каждого пользователя, сделавшего хотя бы один заказ\n",
    "orders_by_user_a = (\n",
    "    orders[orders['group'] == 'A']\n",
    "    .groupby('visitorid', as_index=False)\n",
    "    .agg({'transactionid': pd.Series.nunique})\n",
    ")\n",
    "orders_by_user_a.columns = ['userId', 'orders']\n",
    "\n",
    "orders_by_user_b = (\n",
    "    orders[orders['group'] == 'B']\n",
    "    .groupby('visitorid', as_index=False)\n",
    "    .agg({'transactionid': pd.Series.nunique})\n",
    ")\n",
    "orders_by_user_b.columns = ['userId', 'orders']\n",
    "#Создаем переменные с количеством заказов для пользователей из разных групп \n",
    "sampleA = pd.concat([orders_by_user_a['orders'],\\\n",
    "                     pd.Series(0, index=np.arange(data['visitors_per_date_a'].\\\n",
    "                                                  sum() - len(orders_by_user_a['orders'])), name='orders')],axis=0)\n",
    "sampleB = pd.concat([orders_by_user_b['orders'],\\\n",
    "                     pd.Series(0, index=np.arange(data['visitors_per_date_b'].\\\n",
    "                                                  sum() - len(orders_by_user_b['orders'])), name='orders')],axis=0)"
   ]
  },
  {
   "cell_type": "markdown",
   "id": "2802baa0",
   "metadata": {},
   "source": [
    "Посчитаем статистическую значимость различия в конверсии между группами.\n",
    "\n",
    "Выведем относительный прирост конверсии группы B. Округлим до трёх знаков после запятой."
   ]
  },
  {
   "cell_type": "code",
   "execution_count": 49,
   "id": "fe62de41",
   "metadata": {},
   "outputs": [
    {
     "name": "stdout",
     "output_type": "stream",
     "text": [
      "0.00551\n",
      "0.160\n"
     ]
    }
   ],
   "source": [
    "print(\"{0:.5f}\".format(st.mannwhitneyu(sampleA, sampleB)[1]))\n",
    "\n",
    "print(\"{0:.3f}\".format(sampleB.mean() / sampleA.mean() - 1))"
   ]
  },
  {
   "cell_type": "markdown",
   "id": "8df20aa2",
   "metadata": {},
   "source": [
    "Значение p-value значительно меньше 0,05, поэтому **нулевую гипотезу отвергаем.**\n",
    "\n",
    "Анализ \"сырых\" данных говорит о том, что в конверсии между группами есть статистически значимые различия.\n",
    "\n",
    "Относительный прирост конверсии группы В к группе А равен 16%."
   ]
  },
  {
   "cell_type": "markdown",
   "id": "8df36b7c",
   "metadata": {},
   "source": [
    "## 2.11. Статистическая значимость различий в среднем чеке заказа между группами по «сырым» данным."
   ]
  },
  {
   "cell_type": "markdown",
   "id": "99630c2e",
   "metadata": {},
   "source": [
    "Теперь проверим статистическую значимость различий в среднем чеке между сегментами. \n",
    "Также свормулируем две гипотезы: \n",
    "\n",
    "- **Н0: различий в среднем чеке между группами нет**; \n",
    "\n",
    "- **Н1: различия в среднем чеке между группами есть**.\n",
    "\n",
    "Чтобы рассчитать статистическую значимость различий в среднем чеке, передадим критерию mannwhitneyu() данные о выручке с заказов.\n",
    "\n",
    "А ещё найдём относительные различия в среднем чеке между группами."
   ]
  },
  {
   "cell_type": "code",
   "execution_count": 50,
   "id": "013f1f61",
   "metadata": {},
   "outputs": [
    {
     "name": "stdout",
     "output_type": "stream",
     "text": [
      "0.415\n",
      "0.287\n"
     ]
    }
   ],
   "source": [
    "print('{0:.3f}'.format(st.mannwhitneyu(orders[orders['group']=='A']['revenue'],\\\n",
    "                                          orders[orders['group']=='B']['revenue'])[1]))\n",
    "print('{0:.3f}'.format(orders[orders['group']=='B']['revenue'].\\\n",
    "                       mean()/orders[orders['group']=='A']['revenue'].mean()-1)) "
   ]
  },
  {
   "cell_type": "markdown",
   "id": "6ae9011a",
   "metadata": {},
   "source": [
    "P-value значительно выше 0,05. Значит, причин отвергать нулевую гипотезу и считать, что в среднем чеке есть различия, нет.\n",
    "\n",
    "Наблюдаемое различие в 29% в среднем чеке между группами не является статистически значимым и обучловленно большими аномальными значениями по группе В."
   ]
  },
  {
   "cell_type": "markdown",
   "id": "4ce1708a",
   "metadata": {},
   "source": [
    "## 2.12. Статистическая значимость различий в конверсии между группами по «очищенным» данным."
   ]
  },
  {
   "cell_type": "markdown",
   "id": "3419f57e",
   "metadata": {},
   "source": [
    "Ранее мы обозначили границы отсечения аномальных значений по количесвту заказов и их стоимости.\n",
    "\n",
    "Поэтому примем за границу отсечения пользователей, которые сделали больше 1 заказов и заплатилы более 27 000 р."
   ]
  },
  {
   "cell_type": "code",
   "execution_count": 51,
   "id": "1b0aec2b",
   "metadata": {},
   "outputs": [],
   "source": [
    "users_with_many_orders = pd.concat([orders_by_user_a[orders_by_user_a['orders'] > 1]['userId'],\n",
    "                                    orders_by_user_b[orders_by_user_b['orders'] > 1]['userId']], axis=0)\n",
    "\n",
    "users_with_expensive_orders = orders[orders['revenue'] > 27000]['visitorid']\n",
    "abnormal_users = (\n",
    "    pd.concat([users_with_many_orders, users_with_expensive_orders], axis=0)\n",
    "    .drop_duplicates()\n",
    "    .sort_values()\n",
    ")"
   ]
  },
  {
   "cell_type": "markdown",
   "id": "107b982b",
   "metadata": {},
   "source": [
    "Узнаем, как их действия повлияли на результаты теста. Посчитаем статистическую значимость различий в конверсии между группами теста по очищенным данным. \n",
    "\n",
    "Сначала подготовим выборки количества заказов по пользователям по группам теста."
   ]
  },
  {
   "cell_type": "code",
   "execution_count": 52,
   "id": "db6c8777",
   "metadata": {},
   "outputs": [],
   "source": [
    "sample_a_filt = pd.concat([orders_by_user_a[np.logical_not(orders_by_user_a['userId'].isin(abnormal_users))]['orders'],\n",
    "        pd.Series(0, index=np.arange(data['visitors_per_date_a'].sum() - len(orders_by_user_a['orders'])),\n",
    "        name='orders')], axis=0)\n",
    "\n",
    "sample_b_filt = pd.concat([orders_by_user_b[np.logical_not(orders_by_user_b['userId'].isin(abnormal_users))]['orders'],\n",
    "        pd.Series(0, index=np.arange(data['visitors_per_date_b'].sum() - len(orders_by_user_b['orders'])),\n",
    "        name='orders')], axis=0) "
   ]
  },
  {
   "cell_type": "markdown",
   "id": "3017eceb",
   "metadata": {},
   "source": [
    "Снова сформулируем две гипотезы:\n",
    "\n",
    "- **Н0: различий в конверсии между группами нет.**\n",
    "\n",
    "- **Н1: различия в конверсии между группами есть.**\n",
    "\n",
    "Применим статистический критерий Манна-Уитни к полученным выборкам, а также выведем относительный прирост конверсии группы B."
   ]
  },
  {
   "cell_type": "code",
   "execution_count": 53,
   "id": "6aed1c12",
   "metadata": {},
   "outputs": [
    {
     "name": "stdout",
     "output_type": "stream",
     "text": [
      "0.00797\n",
      "0.174\n"
     ]
    }
   ],
   "source": [
    "print('{0:.5f}'.format(st.mannwhitneyu(sample_a_filt, sample_b_filt)[1]))\n",
    "print('{0:.3f}'.format(sample_b_filt.mean()/sample_a_filt.mean()-1)) "
   ]
  },
  {
   "cell_type": "markdown",
   "id": "65e2825b",
   "metadata": {},
   "source": [
    "Как и в случае с \"сырыми\" данными, значение p-value значительно меньше 0,05. **Нулевую гипотезу отвергаем.** Между выборками есть статистически значимые различия.\n",
    "\n",
    "Конверсия группы В на 17,4% выше, чем конверсия группы А."
   ]
  },
  {
   "cell_type": "markdown",
   "id": "b017ce1e",
   "metadata": {},
   "source": [
    "## 2.13. Статистическая значимость различий в среднем чеке заказа между группами по «очищенным» данным."
   ]
  },
  {
   "cell_type": "markdown",
   "id": "aa4af25f",
   "metadata": {},
   "source": [
    "Теперь проверим статистическую значимость различий в среднем чеке между сегментами после очистки данных. \n",
    "Также свормулируем две гипотезы: \n",
    "\n",
    "- **Н0: различий в среднем чеке между группами нет**; \n",
    "\n",
    "- **Н1: различия в среднем чеке между группами есть**.\n",
    "\n",
    "Чтобы рассчитать статистическую значимость различий в среднем чеке, передадим критерию mannwhitneyu() данные о выручке с заказов.\n",
    "\n",
    "А ещё найдём относительные различия в среднем чеке между группами."
   ]
  },
  {
   "cell_type": "code",
   "execution_count": 54,
   "id": "529516a6",
   "metadata": {},
   "outputs": [
    {
     "name": "stdout",
     "output_type": "stream",
     "text": [
      "0.364\n",
      "-0.034\n"
     ]
    }
   ],
   "source": [
    "print('{0:.3f}'.\\\n",
    "      format(st.mannwhitneyu(orders[np.logical_and(orders['group'] == 'A',\\\n",
    "                                  np.logical_not(orders['visitorid'].isin(abnormal_users)))]['revenue'],\\\n",
    "                                  orders[np.logical_and(orders['group'] == 'B',\\\n",
    "                                  np.logical_not(orders['visitorid'].isin(abnormal_users)))]['revenue'],)[1])\n",
    ")\n",
    "\n",
    "print('{0:.3f}'.\\\n",
    "      format(orders[np.logical_and(orders['group'] == 'B',\\\n",
    "                                np.logical_not(orders['visitorid'].isin(abnormal_users)))]['revenue'].mean()\n",
    "        / orders[np.logical_and(orders['group'] == 'A',\\\n",
    "                                np.logical_not(orders['visitorid'].isin(abnormal_users)))]['revenue'].mean() - 1)\n",
    ") "
   ]
  },
  {
   "cell_type": "markdown",
   "id": "b1526637",
   "metadata": {},
   "source": [
    "В этом случае также, как и по результатам с \"сырыми\" данными, значение p-value значительно больше 0,05. **Не можем отвергнуть нулевую гипотезу.** Значимых различий в среднем чеке между группами нет.\n",
    "\n",
    "Однако существенно изменилась разница в среднем чеке по результатам очистки данных от выбросов: теперь значения практически равны с небольшим преимуществом в 3% в пользу среднего чека по группе А."
   ]
  },
  {
   "cell_type": "markdown",
   "id": "0514d9ce",
   "metadata": {},
   "source": [
    "Удаление аномалий не сильно сказалось на выводах по результатам анализа, не считая, что средний чек по очищенным данным между группами А и В не имеет различий.\n",
    "\n",
    "Можем сформулировать все полученные нами выводы:\n",
    "\n",
    "- имеются статистически значимые различия в конверсии между группами как по \"сырым\", так и по очищенным данным, в пользу группы В;\n",
    "\n",
    "- по очищенным данным различия в конверсии в пользу группы В больше, чем по \"сырым\" данным - 17% против 14%;\n",
    "\n",
    "- отсутствуют статистически значимые различия в среднем чеке между группами как по \"сырым\", так и по очищенным данным;\n",
    "\n",
    "- средний чек по группе В по \"сырым\" данным выше среднего чека группы А на 26%, а по очищееным данным средние чеки практически равны с перевесом в 2% в пользу среднего чека группы А. Это говорит о том, что выявленные нами аномальные по стоимости заказы существенным образом оказывают влияние на значения среднего чека, не меняя его общего поведения;\n",
    "\n",
    "- график различия конверсий между группами показывает, что конверсия группы В стабильно выше конверсии группы А, и пока не приходится говорить о изменении наметившейся тенденции;\n",
    "\n",
    "- график различия среднего чека говорит, что разница между группами вызванна двумя аномально дорогими заказами, при очистке от которых значения не показывают большой разницы."
   ]
  },
  {
   "cell_type": "markdown",
   "id": "66c0f2a8",
   "metadata": {},
   "source": [
    "# 3. Общие выводы."
   ]
  },
  {
   "cell_type": "markdown",
   "id": "83f34b40",
   "metadata": {},
   "source": [
    "Суммируя все полученные нами ранее выводы, заключаем следующее: **тест можно признать успешным, различия по конверсии групп явно лучше у пользователей группы В, стабильны и не имеют предпосылок к ухудшению, значительной разницы в средних чека после очистки данных не наблюдается.**\n",
    "\n",
    "Существенное различие в среднем чеке между группами можно смело списать на аномально большие покупки, совершенные пользователями группы В.\n",
    "\n"
   ]
  },
  {
   "cell_type": "code",
   "execution_count": null,
   "id": "343ad66c",
   "metadata": {},
   "outputs": [],
   "source": []
  }
 ],
 "metadata": {
  "ExecuteTimeLog": [
   {
    "duration": 1243,
    "start_time": "2022-05-05T08:23:28.205Z"
   },
   {
    "duration": 133,
    "start_time": "2022-05-05T08:23:29.450Z"
   },
   {
    "duration": 12,
    "start_time": "2022-05-05T08:23:29.585Z"
   },
   {
    "duration": 11,
    "start_time": "2022-05-05T08:23:29.600Z"
   },
   {
    "duration": 14,
    "start_time": "2022-05-05T08:23:29.612Z"
   },
   {
    "duration": 11,
    "start_time": "2022-05-05T08:23:29.628Z"
   },
   {
    "duration": 125,
    "start_time": "2022-05-05T08:23:29.641Z"
   },
   {
    "duration": 5,
    "start_time": "2022-05-05T08:23:29.768Z"
   },
   {
    "duration": 9,
    "start_time": "2022-05-05T08:23:29.774Z"
   },
   {
    "duration": 6,
    "start_time": "2022-05-05T08:23:29.786Z"
   },
   {
    "duration": 6,
    "start_time": "2022-05-05T08:23:29.794Z"
   },
   {
    "duration": 8,
    "start_time": "2022-05-05T08:23:29.802Z"
   },
   {
    "duration": 112,
    "start_time": "2022-05-05T08:23:29.813Z"
   },
   {
    "duration": 4,
    "start_time": "2022-05-05T08:23:29.927Z"
   },
   {
    "duration": 10,
    "start_time": "2022-05-05T08:23:29.932Z"
   },
   {
    "duration": 6,
    "start_time": "2022-05-05T08:23:29.944Z"
   },
   {
    "duration": 8,
    "start_time": "2022-05-05T08:23:29.952Z"
   },
   {
    "duration": 10,
    "start_time": "2022-05-05T08:23:29.961Z"
   },
   {
    "duration": 7,
    "start_time": "2022-05-05T08:23:29.973Z"
   },
   {
    "duration": 199,
    "start_time": "2022-05-05T08:23:29.981Z"
   },
   {
    "duration": 134,
    "start_time": "2022-05-05T08:23:30.182Z"
   },
   {
    "duration": 16,
    "start_time": "2022-05-05T08:23:30.318Z"
   },
   {
    "duration": 14,
    "start_time": "2022-05-05T08:23:30.336Z"
   },
   {
    "duration": 13,
    "start_time": "2022-05-05T08:23:30.352Z"
   },
   {
    "duration": 440,
    "start_time": "2022-05-05T08:23:30.367Z"
   },
   {
    "duration": 375,
    "start_time": "2022-05-05T08:23:30.809Z"
   },
   {
    "duration": 450,
    "start_time": "2022-05-05T08:23:31.186Z"
   },
   {
    "duration": 8,
    "start_time": "2022-05-05T08:23:31.642Z"
   },
   {
    "duration": 11,
    "start_time": "2022-05-05T08:23:31.651Z"
   },
   {
    "duration": 331,
    "start_time": "2022-05-05T08:23:31.663Z"
   },
   {
    "duration": 7,
    "start_time": "2022-05-05T08:23:31.996Z"
   },
   {
    "duration": 460,
    "start_time": "2022-05-05T08:23:32.005Z"
   },
   {
    "duration": 8,
    "start_time": "2022-05-05T08:23:32.467Z"
   },
   {
    "duration": 17,
    "start_time": "2022-05-05T08:23:32.477Z"
   },
   {
    "duration": 155,
    "start_time": "2022-05-05T08:23:32.495Z"
   },
   {
    "duration": 156,
    "start_time": "2022-05-05T08:23:32.651Z"
   },
   {
    "duration": 5,
    "start_time": "2022-05-05T08:23:32.809Z"
   },
   {
    "duration": 23,
    "start_time": "2022-05-05T08:23:32.815Z"
   },
   {
    "duration": 251,
    "start_time": "2022-05-05T08:23:32.839Z"
   },
   {
    "duration": 179,
    "start_time": "2022-05-05T08:23:33.092Z"
   },
   {
    "duration": 5,
    "start_time": "2022-05-05T08:23:33.273Z"
   },
   {
    "duration": 346,
    "start_time": "2022-05-05T08:23:33.280Z"
   },
   {
    "duration": 27,
    "start_time": "2022-05-05T08:23:33.627Z"
   },
   {
    "duration": 10,
    "start_time": "2022-05-05T08:23:33.656Z"
   },
   {
    "duration": 16,
    "start_time": "2022-05-05T08:23:33.668Z"
   },
   {
    "duration": 11,
    "start_time": "2022-05-05T08:23:33.685Z"
   },
   {
    "duration": 45,
    "start_time": "2022-05-05T08:23:33.697Z"
   },
   {
    "duration": 13,
    "start_time": "2022-05-05T08:23:33.743Z"
   },
   {
    "duration": 1138,
    "start_time": "2022-05-09T09:40:45.296Z"
   },
   {
    "duration": 51,
    "start_time": "2022-05-09T09:40:46.435Z"
   },
   {
    "duration": 12,
    "start_time": "2022-05-09T09:40:46.487Z"
   },
   {
    "duration": 6,
    "start_time": "2022-05-09T09:40:46.501Z"
   },
   {
    "duration": 10,
    "start_time": "2022-05-09T09:40:46.508Z"
   },
   {
    "duration": 10,
    "start_time": "2022-05-09T09:40:46.519Z"
   },
   {
    "duration": 57,
    "start_time": "2022-05-09T09:40:46.531Z"
   },
   {
    "duration": 5,
    "start_time": "2022-05-09T09:40:46.589Z"
   },
   {
    "duration": 7,
    "start_time": "2022-05-09T09:40:46.596Z"
   },
   {
    "duration": 6,
    "start_time": "2022-05-09T09:40:46.606Z"
   },
   {
    "duration": 6,
    "start_time": "2022-05-09T09:40:46.614Z"
   },
   {
    "duration": 8,
    "start_time": "2022-05-09T09:40:46.622Z"
   },
   {
    "duration": 46,
    "start_time": "2022-05-09T09:40:46.631Z"
   },
   {
    "duration": 3,
    "start_time": "2022-05-09T09:40:46.679Z"
   },
   {
    "duration": 8,
    "start_time": "2022-05-09T09:40:46.684Z"
   },
   {
    "duration": 7,
    "start_time": "2022-05-09T09:40:46.694Z"
   },
   {
    "duration": 9,
    "start_time": "2022-05-09T09:40:46.703Z"
   },
   {
    "duration": 8,
    "start_time": "2022-05-09T09:40:46.713Z"
   },
   {
    "duration": 10,
    "start_time": "2022-05-09T09:40:46.722Z"
   },
   {
    "duration": 5,
    "start_time": "2022-05-09T09:40:46.734Z"
   },
   {
    "duration": 4,
    "start_time": "2022-05-09T09:40:46.741Z"
   },
   {
    "duration": 5,
    "start_time": "2022-05-09T09:40:46.746Z"
   },
   {
    "duration": 6,
    "start_time": "2022-05-09T09:40:46.753Z"
   },
   {
    "duration": 5,
    "start_time": "2022-05-09T09:40:46.760Z"
   },
   {
    "duration": 43,
    "start_time": "2022-05-09T09:40:46.767Z"
   },
   {
    "duration": 184,
    "start_time": "2022-05-09T09:40:46.812Z"
   },
   {
    "duration": 135,
    "start_time": "2022-05-09T09:40:46.998Z"
   },
   {
    "duration": 7,
    "start_time": "2022-05-09T09:40:47.137Z"
   },
   {
    "duration": 8,
    "start_time": "2022-05-09T09:40:47.145Z"
   },
   {
    "duration": 7,
    "start_time": "2022-05-09T09:40:47.154Z"
   },
   {
    "duration": 442,
    "start_time": "2022-05-09T09:40:47.162Z"
   },
   {
    "duration": 373,
    "start_time": "2022-05-09T09:40:47.606Z"
   },
   {
    "duration": 477,
    "start_time": "2022-05-09T09:40:47.981Z"
   },
   {
    "duration": 7,
    "start_time": "2022-05-09T09:40:48.460Z"
   },
   {
    "duration": 8,
    "start_time": "2022-05-09T09:40:48.469Z"
   },
   {
    "duration": 341,
    "start_time": "2022-05-09T09:40:48.478Z"
   },
   {
    "duration": 9,
    "start_time": "2022-05-09T09:40:48.821Z"
   },
   {
    "duration": 434,
    "start_time": "2022-05-09T09:40:48.831Z"
   },
   {
    "duration": 8,
    "start_time": "2022-05-09T09:40:49.266Z"
   },
   {
    "duration": 13,
    "start_time": "2022-05-09T09:40:49.276Z"
   },
   {
    "duration": 189,
    "start_time": "2022-05-09T09:40:49.290Z"
   },
   {
    "duration": 206,
    "start_time": "2022-05-09T09:40:49.481Z"
   },
   {
    "duration": 5,
    "start_time": "2022-05-09T09:40:49.689Z"
   },
   {
    "duration": 10,
    "start_time": "2022-05-09T09:40:49.707Z"
   },
   {
    "duration": 269,
    "start_time": "2022-05-09T09:40:49.718Z"
   },
   {
    "duration": 196,
    "start_time": "2022-05-09T09:40:49.988Z"
   },
   {
    "duration": 4,
    "start_time": "2022-05-09T09:40:50.186Z"
   },
   {
    "duration": 342,
    "start_time": "2022-05-09T09:40:50.192Z"
   },
   {
    "duration": 23,
    "start_time": "2022-05-09T09:40:50.536Z"
   },
   {
    "duration": 10,
    "start_time": "2022-05-09T09:40:50.561Z"
   },
   {
    "duration": 40,
    "start_time": "2022-05-09T09:40:50.573Z"
   },
   {
    "duration": 27,
    "start_time": "2022-05-09T09:40:50.615Z"
   },
   {
    "duration": 33,
    "start_time": "2022-05-09T09:40:50.644Z"
   },
   {
    "duration": 21,
    "start_time": "2022-05-09T09:40:50.679Z"
   }
  ],
  "kernelspec": {
   "display_name": "Python 3 (ipykernel)",
   "language": "python",
   "name": "python3"
  },
  "language_info": {
   "codemirror_mode": {
    "name": "ipython",
    "version": 3
   },
   "file_extension": ".py",
   "mimetype": "text/x-python",
   "name": "python",
   "nbconvert_exporter": "python",
   "pygments_lexer": "ipython3",
   "version": "3.7.8"
  },
  "toc": {
   "base_numbering": 1,
   "nav_menu": {},
   "number_sections": false,
   "sideBar": true,
   "skip_h1_title": false,
   "title_cell": "Table of Contents",
   "title_sidebar": "Contents",
   "toc_cell": false,
   "toc_position": {
    "height": "calc(100% - 180px)",
    "left": "10px",
    "top": "150px",
    "width": "165px"
   },
   "toc_section_display": true,
   "toc_window_display": true
  }
 },
 "nbformat": 4,
 "nbformat_minor": 5
}
