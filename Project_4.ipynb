{
 "cells": [
  {
   "cell_type": "markdown",
   "id": "acc5e6cf",
   "metadata": {},
   "source": [
    "**Проект \"Рынок заведений общественного питания Москвы\"**"
   ]
  },
  {
   "cell_type": "markdown",
   "id": "5adc4457",
   "metadata": {},
   "source": [
    "# Введение.\n",
    "\n",
    "Вместе с партнерами мы решили попробовать свои силы в ресторанном бизнесе. Так как все мы имеем техническое образование и являемся сторонниками технического прогресса, то было прнято решение приоритетным направлением выбрать современные компьютерные технологии и робототехнику. \n",
    "\n",
    "В предполагаемом нами для открытия небольшом ресторане мы хотим использовать нейронную сеть для обработки и предугадывания заказов клиентов с методами машинного обучения и роботов-официантов. По нашим расчетам это позволит увеличить скорость и качество обслуживания, сократит издержки и будет являться притягивающим необычным фактором для посетителей. \n",
    "\n",
    "Однако для этого потребуется привлечение дополнительных инвестиций. Мы с партнерами готовы сами разработать и запустить алгоритм для нейронной сети. А вот для реализации идеи с роботами-официантами мы предполагаем привлечь стороннего партнера. Для этого нам и требуется инвестор.\n",
    "\n",
    "Также для удачного запуска нашего проекта нам необходимо выбрать подходящее место размещения нашего объекта.\n",
    "\n",
    "Этот проект позволит проанализировать рынок заведений общественного питания в Москве и определиться в каком районе лучше располагать наш ресторан. \n",
    "\n",
    "Этот анализ будет также представлен для потенциальных инвесторов в презентации.\n",
    "\n",
    "Ссылка: <https://disk.yandex.ru/i/la4jlB7-DIrdPg>"
   ]
  },
  {
   "cell_type": "markdown",
   "id": "4ffdf886",
   "metadata": {},
   "source": [
    "# Содержание\n",
    "\n",
    "1. Загрузка и предобработка данных.\n",
    "\n",
    "2. Исследование соотношения видов объектов общественного питания по количеству.\n",
    "\n",
    "3. Исследование соотношения сетевых и несетевых заведений по количеству.\n",
    "\n",
    "4. Исследование характера сетевых заведений по группам.\n",
    "\n",
    "5. Исследование видов объектов общественного питания по среднему количеству посадочных мест.\n",
    "\n",
    "6. Исследование расположения объектов общественного питания по улицам.\n",
    "\n",
    "7. Топ-10 улиц по количеству объектов общественного питания.\n",
    "\n",
    "8. Улицы с одним объектом общественного питания.\n",
    "\n",
    "9. Вывод. "
   ]
  },
  {
   "cell_type": "markdown",
   "id": "16f67839",
   "metadata": {},
   "source": [
    "# 1. Загрузка и предобработка данных"
   ]
  },
  {
   "cell_type": "markdown",
   "id": "11a2ce61",
   "metadata": {},
   "source": [
    "Первым делом импортируем необходимые нам библиотеки."
   ]
  },
  {
   "cell_type": "code",
   "execution_count": 2,
   "id": "b5f9fc5c",
   "metadata": {},
   "outputs": [],
   "source": [
    "import pandas as pd\n",
    "import numpy as np\n",
    "from numpy import median\n",
    "#from scipy import stats as st\n",
    "#import math as mth\n",
    "#import datetime as dt\n",
    "#from datetime import datetime, timedelta\n",
    "#import plotly.express as px \n",
    "f#rom plotly import graph_objects as go\n",
    "import re\n",
    "\n",
    "import matplotlib.pyplot as plt\n",
    "import seaborn as sns\n",
    "\n",
    "%config InlineBackend.figure_format='retina'\n",
    "%matplotlib inline\n",
    "\n",
    "from pandas.plotting import register_matplotlib_converters\n",
    "import warnings\n",
    "register_matplotlib_converters()\n",
    "\n",
    "pd.options.display.max_colwidth = 600"
   ]
  },
  {
   "cell_type": "markdown",
   "id": "9261cd54",
   "metadata": {},
   "source": [
    "Теперь откроем файл с информацией об объектах общественного питания полученного из открытых данных."
   ]
  },
  {
   "cell_type": "code",
   "execution_count": 3,
   "id": "995d897e",
   "metadata": {},
   "outputs": [
    {
     "data": {
      "text/html": [
       "<div>\n",
       "<style scoped>\n",
       "    .dataframe tbody tr th:only-of-type {\n",
       "        vertical-align: middle;\n",
       "    }\n",
       "\n",
       "    .dataframe tbody tr th {\n",
       "        vertical-align: top;\n",
       "    }\n",
       "\n",
       "    .dataframe thead th {\n",
       "        text-align: right;\n",
       "    }\n",
       "</style>\n",
       "<table border=\"1\" class=\"dataframe\">\n",
       "  <thead>\n",
       "    <tr style=\"text-align: right;\">\n",
       "      <th></th>\n",
       "      <th>id</th>\n",
       "      <th>object_name</th>\n",
       "      <th>chain</th>\n",
       "      <th>object_type</th>\n",
       "      <th>address</th>\n",
       "      <th>number</th>\n",
       "    </tr>\n",
       "  </thead>\n",
       "  <tbody>\n",
       "    <tr>\n",
       "      <td>0</td>\n",
       "      <td>151635</td>\n",
       "      <td>СМЕТАНА</td>\n",
       "      <td>нет</td>\n",
       "      <td>кафе</td>\n",
       "      <td>город Москва, улица Егора Абакумова, дом 9</td>\n",
       "      <td>48</td>\n",
       "    </tr>\n",
       "    <tr>\n",
       "      <td>1</td>\n",
       "      <td>77874</td>\n",
       "      <td>Родник</td>\n",
       "      <td>нет</td>\n",
       "      <td>кафе</td>\n",
       "      <td>город Москва, улица Талалихина, дом 2/1, корпус 1</td>\n",
       "      <td>35</td>\n",
       "    </tr>\n",
       "    <tr>\n",
       "      <td>2</td>\n",
       "      <td>24309</td>\n",
       "      <td>Кафе «Академия»</td>\n",
       "      <td>нет</td>\n",
       "      <td>кафе</td>\n",
       "      <td>город Москва, Абельмановская улица, дом 6</td>\n",
       "      <td>95</td>\n",
       "    </tr>\n",
       "    <tr>\n",
       "      <td>3</td>\n",
       "      <td>21894</td>\n",
       "      <td>ПИЦЦЕТОРИЯ</td>\n",
       "      <td>да</td>\n",
       "      <td>кафе</td>\n",
       "      <td>город Москва, Абрамцевская улица, дом 1</td>\n",
       "      <td>40</td>\n",
       "    </tr>\n",
       "    <tr>\n",
       "      <td>4</td>\n",
       "      <td>119365</td>\n",
       "      <td>Кафе «Вишневая метель»</td>\n",
       "      <td>нет</td>\n",
       "      <td>кафе</td>\n",
       "      <td>город Москва, Абрамцевская улица, дом 9, корпус 1</td>\n",
       "      <td>50</td>\n",
       "    </tr>\n",
       "  </tbody>\n",
       "</table>\n",
       "</div>"
      ],
      "text/plain": [
       "       id             object_name chain object_type  \\\n",
       "0  151635                 СМЕТАНА   нет        кафе   \n",
       "1   77874                  Родник   нет        кафе   \n",
       "2   24309         Кафе «Академия»   нет        кафе   \n",
       "3   21894              ПИЦЦЕТОРИЯ    да        кафе   \n",
       "4  119365  Кафе «Вишневая метель»   нет        кафе   \n",
       "\n",
       "                                             address  number  \n",
       "0         город Москва, улица Егора Абакумова, дом 9      48  \n",
       "1  город Москва, улица Талалихина, дом 2/1, корпус 1      35  \n",
       "2          город Москва, Абельмановская улица, дом 6      95  \n",
       "3            город Москва, Абрамцевская улица, дом 1      40  \n",
       "4  город Москва, Абрамцевская улица, дом 9, корпус 1      50  "
      ]
     },
     "execution_count": 3,
     "metadata": {},
     "output_type": "execute_result"
    }
   ],
   "source": [
    "try:\n",
    "    rest_data = pd.read_csv('rest_data.csv')\n",
    "except:\n",
    "    rest_data = pd.read_csv('/datasets/rest_data.csv')\n",
    "    \n",
    "rest_data.head()"
   ]
  },
  {
   "cell_type": "markdown",
   "id": "6fbf0365",
   "metadata": {},
   "source": [
    "Посмотрим на информацию о латафрейме."
   ]
  },
  {
   "cell_type": "code",
   "execution_count": 4,
   "id": "6fde8f66",
   "metadata": {},
   "outputs": [
    {
     "data": {
      "text/plain": [
       "(15366, 6)"
      ]
     },
     "execution_count": 4,
     "metadata": {},
     "output_type": "execute_result"
    }
   ],
   "source": [
    "rest_data.shape"
   ]
  },
  {
   "cell_type": "code",
   "execution_count": 5,
   "id": "10706768",
   "metadata": {
    "scrolled": true
   },
   "outputs": [
    {
     "name": "stdout",
     "output_type": "stream",
     "text": [
      "<class 'pandas.core.frame.DataFrame'>\n",
      "RangeIndex: 15366 entries, 0 to 15365\n",
      "Data columns (total 6 columns):\n",
      "id             15366 non-null int64\n",
      "object_name    15366 non-null object\n",
      "chain          15366 non-null object\n",
      "object_type    15366 non-null object\n",
      "address        15366 non-null object\n",
      "number         15366 non-null int64\n",
      "dtypes: int64(2), object(4)\n",
      "memory usage: 720.4+ KB\n"
     ]
    }
   ],
   "source": [
    "rest_data.info()"
   ]
  },
  {
   "cell_type": "markdown",
   "id": "ca2f914f",
   "metadata": {},
   "source": [
    "Данные представленны в таблице из 6 столбцов и 15366 строк.\n",
    "\n",
    "Проверим данные на пропуски. (предварительно заключаем, что их быть не должно)"
   ]
  },
  {
   "cell_type": "code",
   "execution_count": 6,
   "id": "ba375364",
   "metadata": {},
   "outputs": [
    {
     "data": {
      "text/plain": [
       "id             0\n",
       "object_name    0\n",
       "chain          0\n",
       "object_type    0\n",
       "address        0\n",
       "number         0\n",
       "dtype: int64"
      ]
     },
     "execution_count": 6,
     "metadata": {},
     "output_type": "execute_result"
    }
   ],
   "source": [
    "rest_data.isna().sum()"
   ]
  },
  {
   "cell_type": "markdown",
   "id": "3f595c38",
   "metadata": {},
   "source": [
    "Так и есть, данные не имеют пропусков.\n",
    "\n",
    "Теперь проверим на очевидные дубликаты."
   ]
  },
  {
   "cell_type": "code",
   "execution_count": 7,
   "id": "91adc2ad",
   "metadata": {},
   "outputs": [
    {
     "data": {
      "text/plain": [
       "0"
      ]
     },
     "execution_count": 7,
     "metadata": {},
     "output_type": "execute_result"
    }
   ],
   "source": [
    "rest_data.duplicated().sum()"
   ]
  },
  {
   "cell_type": "markdown",
   "id": "1986a87e",
   "metadata": {},
   "source": [
    "Дуликаты отсутствуют.\n",
    "\n",
    "Проверим данные на неочевидные дубликаты.\n",
    "\n",
    "Посчитаем количество уникальных значений `'id'`.\n"
   ]
  },
  {
   "cell_type": "code",
   "execution_count": 8,
   "id": "ea721414",
   "metadata": {},
   "outputs": [
    {
     "data": {
      "text/plain": [
       "15366"
      ]
     },
     "execution_count": 8,
     "metadata": {},
     "output_type": "execute_result"
    }
   ],
   "source": [
    "rest_data['id'].nunique()"
   ]
  },
  {
   "cell_type": "markdown",
   "id": "80899f2c",
   "metadata": {},
   "source": [
    "Оно совпадает с количеством строк в датафрейме.\n",
    "\n",
    "Теперь посмотрим на уникальные значения в графе `chain`."
   ]
  },
  {
   "cell_type": "code",
   "execution_count": 9,
   "id": "8a4e3609",
   "metadata": {},
   "outputs": [
    {
     "data": {
      "text/plain": [
       "array(['нет', 'да'], dtype=object)"
      ]
     },
     "execution_count": 9,
     "metadata": {},
     "output_type": "execute_result"
    }
   ],
   "source": [
    "rest_data['chain'].unique()"
   ]
  },
  {
   "cell_type": "markdown",
   "id": "fb935268",
   "metadata": {},
   "source": [
    "Только два значения - да и нет. Очень зорошо.\n",
    "\n",
    "Посмотрим на уникальные значения в столбце `object_type`."
   ]
  },
  {
   "cell_type": "code",
   "execution_count": 10,
   "id": "404dfb8b",
   "metadata": {},
   "outputs": [
    {
     "data": {
      "text/plain": [
       "array(['кафе', 'столовая', 'закусочная',\n",
       "       'предприятие быстрого обслуживания', 'ресторан', 'кафетерий',\n",
       "       'буфет', 'бар', 'магазин (отдел кулинарии)'], dtype=object)"
      ]
     },
     "execution_count": 10,
     "metadata": {},
     "output_type": "execute_result"
    }
   ],
   "source": [
    "rest_data['object_type'].unique()"
   ]
  },
  {
   "cell_type": "markdown",
   "id": "c4905e15",
   "metadata": {},
   "source": [
    "Дублирующихся значений нет. Идем далее.\n",
    "\n",
    "Посмотрим на количество уникальных уникальных названий заведений в столбце `object_name`."
   ]
  },
  {
   "cell_type": "code",
   "execution_count": 11,
   "id": "72e9450d",
   "metadata": {},
   "outputs": [
    {
     "data": {
      "text/plain": [
       "10393"
      ]
     },
     "execution_count": 11,
     "metadata": {},
     "output_type": "execute_result"
    }
   ],
   "source": [
    "rest_data['object_name'].nunique()"
   ]
  },
  {
   "cell_type": "markdown",
   "id": "70fa2e76",
   "metadata": {},
   "source": [
    "10183 - очень большое количество уникальных названий заведений.\n",
    "\n",
    "Посмтрим на топ-20 самых популярных названий."
   ]
  },
  {
   "cell_type": "code",
   "execution_count": 12,
   "id": "3d0c7647",
   "metadata": {},
   "outputs": [
    {
     "data": {
      "text/plain": [
       "Столовая                    267\n",
       "Кафе                        236\n",
       "Шаурма                      234\n",
       "KFC                         155\n",
       "Шоколадница                 142\n",
       "Бургер Кинг                 122\n",
       "Макдоналдс                  122\n",
       "Домино'с Пицца               86\n",
       "Теремок                      84\n",
       "Крошка Картошка              82\n",
       "Пекарня                      76\n",
       "Милти                        65\n",
       "Суши Wok                     61\n",
       "Буфет                        59\n",
       "СТОЛОВАЯ                     52\n",
       "Папа Джонс                   50\n",
       "Школьно-базовая столовая     44\n",
       "Кофе с собой                 44\n",
       "Чайхона №1                   42\n",
       "КАФЕ                         41\n",
       "Name: object_name, dtype: int64"
      ]
     },
     "execution_count": 12,
     "metadata": {},
     "output_type": "execute_result"
    }
   ],
   "source": [
    "rest_data['object_name'].value_counts().head(20)"
   ]
  },
  {
   "cell_type": "markdown",
   "id": "4a81b7ad",
   "metadata": {},
   "source": [
    "Здесь мы видим как знакомые названия известных сетевых заведений, так и обычные \"столовая\" и \"кафе\".\n",
    "\n",
    "Отсортируем данные по сетевому признакуи выведем только топ-25 сетевых заведений."
   ]
  },
  {
   "cell_type": "code",
   "execution_count": 13,
   "id": "a5841d89",
   "metadata": {},
   "outputs": [
    {
     "data": {
      "text/plain": [
       "KFC                155\n",
       "Шоколадница        141\n",
       "Бургер Кинг        122\n",
       "Макдоналдс         122\n",
       "Домино'с Пицца      86\n",
       "Теремок             84\n",
       "Крошка Картошка     82\n",
       "Милти               65\n",
       "Суши Wok            61\n",
       "Папа Джонс          50\n",
       "Кофе с собой        44\n",
       "Чайхона №1          42\n",
       "Хинкальная          35\n",
       "Якитория            33\n",
       "Кофе Хаус           31\n",
       "Додо Пицца          31\n",
       "Starbucks           30\n",
       "Subway              29\n",
       "МАКДОНАЛДС          29\n",
       "Тануки              26\n",
       "Хлеб насущный       24\n",
       "Иль Патио           23\n",
       "Мята Lounge         23\n",
       "Прайм стар          22\n",
       "Cofix               22\n",
       "Name: object_name, dtype: int64"
      ]
     },
     "execution_count": 13,
     "metadata": {},
     "output_type": "execute_result"
    }
   ],
   "source": [
    "rest_data_y = rest_data.query('chain == \"да\"')\n",
    "rest_data_y['object_name'].value_counts().head(25)"
   ]
  },
  {
   "cell_type": "markdown",
   "id": "230756ee",
   "metadata": {},
   "source": [
    "Мы видим, что \"столовая\" и \"кафе\" отсеялись, значит это были несетевые объекты без уникального названия. В этом проекте можно обработать только 25 самых распространенных заведений общественного питания.\n",
    "\n",
    "Для того чтобы найти неочевидные дубликаты для составим список значений для замены, искать которые с помощью метода `contains`. "
   ]
  },
  {
   "cell_type": "code",
   "execution_count": 14,
   "id": "e6445ba7",
   "metadata": {
    "scrolled": true
   },
   "outputs": [
    {
     "data": {
      "text/plain": [
       "array(['Мята Lounge', 'Кафе «Мята Lounge» Кальянный клуб',\n",
       "       'Кальянная Мята Lounge', 'Кальян-бар Мята Lounge',\n",
       "       'Кальян-бар «Мята Lounge»', 'Кальян- бар «Мята Lounge»',\n",
       "       'Мята Lounge Шаболовка', 'Мята Lounge Автозаводская',\n",
       "       'Мята lounge', 'Лаундж-бар «Мята Lounge»', 'Бар Мята Lounge',\n",
       "       'Мята Lounge Октябрьская', 'Кальянная «Мята Lounge»'], dtype=object)"
      ]
     },
     "execution_count": 14,
     "metadata": {},
     "output_type": "execute_result"
    }
   ],
   "source": [
    "#Пример поиска дублирующихся значений.\n",
    "myata =  rest_data[rest_data['object_name'].str.contains('мята lounge', flags=re.IGNORECASE)]\n",
    "myata = myata['object_name'].unique()\n",
    "myata"
   ]
  },
  {
   "cell_type": "markdown",
   "id": "5d89dc0f",
   "metadata": {},
   "source": [
    "Создадим функцию, которая будет искать и заменять дублирующиеся значения в датафрейме и передадим ей список."
   ]
  },
  {
   "cell_type": "code",
   "execution_count": 15,
   "id": "8f4773ee",
   "metadata": {},
   "outputs": [],
   "source": [
    "synonyms = {'Мята Lounge':['Мята Lounge', 'Кафе «Мята Lounge» Кальянный клуб',\n",
    "       'Кальянная Мята Lounge', 'Кальян-бар Мята Lounge',\n",
    "       'Кальян-бар «Мята Lounge»', 'Кальян- бар «Мята Lounge»',\n",
    "       'Мята Lounge Шаболовка', 'Мята Lounge Автозаводская',\n",
    "       'Мята lounge', 'Лаундж-бар «Мята Lounge»', 'Бар Мята Lounge',\n",
    "       'Мята Lounge Октябрьская', 'Кальянная «Мята Lounge»'],\n",
    "           'McDonalds':['МАКДОНАЛДС', 'Ресторан «Макдоналдс»', 'Макдоналдс',\n",
    "       'Предприятие быстрого обслуживания «Макдоналдс»',\n",
    "       'МОСКВА - МАКДОНАЛДС', 'КАФЕ МАКДОНАЛДС', 'КАФЕ «МАКДОНАЛДС»',\n",
    "       'Кафе «МАКДОНАЛДС»', 'РЕСТОРАН«МАКДОНАЛДС»', 'Кафе «Макдоналдс»'],\n",
    "           'Якитория':['ресторан «Якитория»', 'Кафе «Якитория»', 'Якитория', 'ЯКИТОРИЯ',\n",
    "       'Ресторан «Якитория»', 'Якитория и Ян Примус', 'Кафе Якитория',\n",
    "       'КАФЕ «ЯКИТОРИЯ»', 'Ресторан «ЯКИТОРИЯ»', 'ЯКИТОРИЯ И СПОРТ БАР'],\n",
    "           'Суши Wok':['Суши Wok', 'СУШИ ВОК', 'Суши WoK', 'Суши Вок', 'Суши WOK',\n",
    "       'СУШИ WOK', 'Кафе «Суши Вок»', 'Сеть магазинов «Суши Wok»',\n",
    "       'Кафе Суши Wok', 'Кафе «Суши Wok»', 'Бар «Суши Wok»', 'Суши вок'],\n",
    "           'Тануки':['Тануки', 'ТАНУКИ', 'Кафе «Тануки»', 'Ресторан «Тануки»',\n",
    "       'Ресторан «ТАНУКИ»', 'РЕСТОРАН «Тануки»', 'Ресторан Тануки',\n",
    "       'РЕСТОРАН «ТАНУКИ»', 'Ресторан ТАНУКИ'],\n",
    "           'Доминос Пицца':[\"Домино'с Пицца\", \"Домино'с пицца\", \"Пиццерия «Домино'с Пицца»\",\n",
    "       \"Предприятие быстрого обслуживания «Домино'с Пицца»\",\n",
    "       \"ДОМИНО'С ПИЦЦА\", \"Ресторан «Домино'с Пицца»\",\n",
    "       \"Кафе «Домино'с Пицца»\", \"Домино'с Пицца Domino,s Pizza\"],\n",
    "           'Столовая \"Му-Му\"':['Му-Му', 'МУ-МУ', 'Му-му', 'Кафе «Му-Му»', 'КАФЕ «МУ-МУ»',\n",
    "       'кафе «Му-Му»', 'Кафе МУ-МУ', 'Кафе «Му-му»',\n",
    "       'Кафе быстрого питания Му-му'],\n",
    "           'Хлеб Насущный':['Хлеб насущный', 'КАФЕ «Хлеб насущный»', 'Хлеб Насущный',\n",
    "       'ХЛЕБ НАСУЩНЫЙ'],\n",
    "           'Шоколадница':['ШОКОЛАДНИЦА', 'Шоколадница', 'Шоколадница Кофе Хаус',\n",
    "       'Кофейня «Шоколадница»', 'Кафе «Шоколадница»',\n",
    "       'КАФЕ «Шоколадница»', 'кафе «Шоколадница»', 'Кофейня Шоколадница',\n",
    "       'Кофейня ШОКОЛАДНИЦА', 'КОФЕЙНЯ «ШОКОЛАДНИЦА»',\n",
    "       'Шоколадница Кофемания'],\n",
    "           'Теремок':['Теремок', 'ТЕРЕМОК',\n",
    "       'Предприятие быстрого обслуживания «Теремок»', 'Кафе «Теремок»',\n",
    "       'Кафе теремок', 'ТЕРЕМОК ИНВЕСТ', 'КАФЕ «Теремок»',\n",
    "       'Теремок-Инвест', 'КАФЕ «ТЕРЕМОК»', 'Ресторан «Теремок»',\n",
    "       'Закусочная «Теремок»', 'ПБО «Теремок»'],\n",
    "           'Чайхона №1':['Чайхона №1', 'РЕСТОРАН «Чайхона №1»', 'Кафе Чайхона №1',\n",
    "       'Ресторан «Чайхона №1»', 'Чайхона №1 Бутово', 'ЧАЙХОНА №1',\n",
    "       'РЕСТОРАН «ЧАЙХОНА №1»', 'Павлин Мавлин Чайхона №1',\n",
    "       'Вlack Burger Чайхона №1'],\n",
    "           'KFC':['KFC', 'Кафе «KFC»', 'Ростикс KFC', 'Закусочная KFC',\n",
    "       'KFC Волгоградский', 'КАФЕ KFC', 'ПБО «KFC Покрышкина»',\n",
    "       'Предприятие быстрого обслуживания «KFC»', 'Закусочная «KFC»',\n",
    "       'Ресторан KFC', 'ПБО «KFC»', 'Ресторан «KFC»', 'РОСТИКС KFC',\n",
    "       'Fridays KFC', 'Ресторан быстрого питания KFC'],\n",
    "           'Subway':['Сабвей', 'Кафе «Subway»', 'Subway', 'Сабвей СушиВок', 'САБВЕЙ',\n",
    "       'Сабвей Subway', 'Кафе «Сабвей» Старбакс', 'SUBWAY',\n",
    "       'Кафе «SUBWAY»'],\n",
    "           'Burger King':['Бургер Кинг', 'БУРГЕР КИНГ',\n",
    "       'Предприятие быстрого обслуживания «Бургер Кинг»',\n",
    "       'Бургер Кинг Burger King', 'Бургер кинг',\n",
    "       'Закусочная «Бургер Кинг»', 'Кафе-закусочная «Бургер Кинг»',\n",
    "       'Кафе «Бургер Кинг»', 'Ресторан «Бургер Кинг»', 'Кафе Бургер Кинг',\n",
    "       'Ресторан «БУРГЕР КИНГ»', 'Кафе БУРГЕР КИНГ', 'Кафе «БУРГЕР КИНГ»'],\n",
    "           'Крошка Картошка':['Крошка Картошка',\n",
    "       'Предприятие быстрого обслуживания «Крошка Картошка»',\n",
    "       'Крошка картошка', 'Закусочная «Крошка Картошка»',\n",
    "       'Кафе «Крошка Картошка»',\n",
    "       'Ресторан быстрого питания «Крошка Картошка»',\n",
    "       'Предприятие быстрого питания «Крошка Картошка»',\n",
    "       'КРОШКА КАРТОШКА'],\n",
    "           'Милти':['Милти', 'Точка продажи готовой еды Милти', 'МИЛТИ',\n",
    "       'Предприятие быстрого обслуживания «Милти»',\n",
    "       'Магазин готовой еды «Милти»', 'Готовые блюда Милти'],\n",
    "           'Папа Джонс':['Папа Джонс', 'кафе «Папа Джонс»', 'Пиццерия «Папа Джонс»',\n",
    "       'Пиццерия «ПАПА ДЖОНС»', 'ПИЦЦЕРИЯ «Папа Джонс»',\n",
    "       'ПАПА ДЖОНС ПИЦЦА', 'Пицерия «Папа Джонс»', 'Пиццерия Папа Джонс',\n",
    "       'Кафе «Папа Джонс»', 'ПАПА ДЖОНС'],\n",
    "           'Кофе Хаус':['Кофе Хаус', 'Шоколадница Кофе Хаус',\n",
    "       'КОФЕ ХАУС. ЭКСПРЕССО И КАПУЧИНО БАР', 'Кофейня «Кофе Хаус»',\n",
    "       'КОФЕ ХАУС', 'Кофе Хаус,Экспресс', 'Кафе «Кофе Хаус»',\n",
    "       'Кофейня «Кофе хаус»'],\n",
    "           'Starbucks':['Старбакс Starbucks', 'Starbucks', 'Кафе «Starbucks»',\n",
    "       'Кофейня «Старбакс»', 'Старбакс', 'Кафе «Сабвей» Старбакс',\n",
    "       'кафе «Старбакс»', 'Кафе «Кофейня Старбакс»', 'КАФЕ Starbucks',\n",
    "       'Кофейня «СТАРБАКС КОФЕ»', 'Старбакс Кофе', 'Starbucks кофе',\n",
    "       'Кафе «Старбакс»', 'Starbucks, СТАРБАКС КОФЕ',\n",
    "       'Starbucks Старбакс', 'STARBUCKS COFFEE', 'Кофемания Starbucks'],\n",
    "           'Иль Патио':['ИЛЬ ПАТИО', 'Иль-патио', 'Иль Патио', 'Иль Патио Планета Суши',\n",
    "       'Ресторан «ИЛЬ ПАТИО»', 'Ресторан «Иль Патио»', 'Шикари Иль Патио',\n",
    "       'Кафе Иль Патио «Il Patio»', 'Кафе «Иль Патио»'],\n",
    "           'Прайм Стар':['Prime Прайм стар', 'Прайм стар', 'Прайм Стар',\n",
    "       'ПРАЙМкафе Прайм стар', 'Кафе «Prime» Прайм стар',\n",
    "       'Кафе «PRIME» Прайм стар', 'Кафе PRIME Прайм стар',\n",
    "       'Прайм-кафе Прайм стар', 'Кафе «Prime» (Прайм стар)',\n",
    "       'Прайм Стар кафе', 'Кафе «Прайм Стар»',\n",
    "       'Кафе Prime Прайм стар Прайм-кафе', 'PRIME Прайм стар Прайм-кафе',\n",
    "       'ПРАЙМ СТАР', 'PRIME STAR Прайм стар'],\n",
    "           'Cofix':['COFIX', 'Cofix'],\n",
    "           'Кофе с собой':['КОФЕ С СОБОЙ', 'Кофе с собой', 'Кофе с собой Gate 42',\n",
    "       'Кофе с собой «Кофейня»', 'Бодрый день Кофе с собой',\n",
    "       'Кофе с Собой'],\n",
    "           'Додо Пицца':['Додо Пицца', 'Додо пицца', 'Пиццерия «Додо Пицца»',\n",
    "       'Предприятие быстрого обслуживания «ДОДО Пицца»', 'ДоДо Пицца',\n",
    "       'ДОДО ПИЦЦА', 'ДОДО Пицца', 'ДоДо пицца', 'ДОДО пицца']}\n",
    "\n",
    "def check_synonyms(cell):\n",
    "    for name, syn in synonyms.items():\n",
    "        if cell in syn: return name\n",
    "    return cell"
   ]
  },
  {
   "cell_type": "markdown",
   "id": "6846953e",
   "metadata": {},
   "source": [
    "Применим функцию к датафрейму."
   ]
  },
  {
   "cell_type": "code",
   "execution_count": 16,
   "id": "5a389c54",
   "metadata": {},
   "outputs": [],
   "source": [
    "rest_data['object_name'] = rest_data['object_name'].apply(check_synonyms)"
   ]
  },
  {
   "cell_type": "markdown",
   "id": "f487de04",
   "metadata": {
    "scrolled": true
   },
   "source": [
    "Готово. Заменили значения-синонимы."
   ]
  },
  {
   "cell_type": "markdown",
   "id": "93e1e69b",
   "metadata": {},
   "source": [
    "Также проверим есть ли в наших данных данных завдения без посадочных мест и к ккаким типам объектов они относятся."
   ]
  },
  {
   "cell_type": "code",
   "execution_count": 17,
   "id": "52bec29a",
   "metadata": {},
   "outputs": [
    {
     "data": {
      "text/plain": [
       "array(['закусочная', 'предприятие быстрого обслуживания', 'столовая',\n",
       "       'кафетерий', 'кафе', 'магазин (отдел кулинарии)', 'буфет', 'бар',\n",
       "       'ресторан'], dtype=object)"
      ]
     },
     "execution_count": 17,
     "metadata": {},
     "output_type": "execute_result"
    }
   ],
   "source": [
    "shop = rest_data[rest_data['number']==0]['object_type'].unique()\n",
    "shop"
   ]
  },
  {
   "cell_type": "markdown",
   "id": "f73b2bb4",
   "metadata": {},
   "source": [
    "Здесь мы видим как и прогнозируемые типы объектов - магазин(отел кулинарии), буфет. Так и завдения предполагающие наличие посадочных мест.\n",
    "\n",
    "Наши данные готовы к дальнейшему анализу."
   ]
  },
  {
   "cell_type": "markdown",
   "id": "0be5d75f",
   "metadata": {},
   "source": [
    "# 2. Исследование соотношения видов объектов общественного питания по количеству."
   ]
  },
  {
   "cell_type": "markdown",
   "id": "123a57b9",
   "metadata": {},
   "source": [
    "Проведем анализ данные на распределение заведений по виду объекта.\n",
    "\n",
    "Для этого сгруппируем данные по столбцу `'object_type'` и посмотрим на соотношение."
   ]
  },
  {
   "cell_type": "code",
   "execution_count": 18,
   "id": "84530753",
   "metadata": {
    "scrolled": true
   },
   "outputs": [
    {
     "data": {
      "text/html": [
       "<div>\n",
       "<style scoped>\n",
       "    .dataframe tbody tr th:only-of-type {\n",
       "        vertical-align: middle;\n",
       "    }\n",
       "\n",
       "    .dataframe tbody tr th {\n",
       "        vertical-align: top;\n",
       "    }\n",
       "\n",
       "    .dataframe thead th {\n",
       "        text-align: right;\n",
       "    }\n",
       "</style>\n",
       "<table border=\"1\" class=\"dataframe\">\n",
       "  <thead>\n",
       "    <tr style=\"text-align: right;\">\n",
       "      <th></th>\n",
       "      <th>id</th>\n",
       "    </tr>\n",
       "    <tr>\n",
       "      <th>object_type</th>\n",
       "      <th></th>\n",
       "    </tr>\n",
       "  </thead>\n",
       "  <tbody>\n",
       "    <tr>\n",
       "      <td>кафе</td>\n",
       "      <td>6099</td>\n",
       "    </tr>\n",
       "    <tr>\n",
       "      <td>столовая</td>\n",
       "      <td>2587</td>\n",
       "    </tr>\n",
       "    <tr>\n",
       "      <td>ресторан</td>\n",
       "      <td>2285</td>\n",
       "    </tr>\n",
       "    <tr>\n",
       "      <td>предприятие быстрого обслуживания</td>\n",
       "      <td>1923</td>\n",
       "    </tr>\n",
       "    <tr>\n",
       "      <td>бар</td>\n",
       "      <td>856</td>\n",
       "    </tr>\n",
       "    <tr>\n",
       "      <td>буфет</td>\n",
       "      <td>585</td>\n",
       "    </tr>\n",
       "    <tr>\n",
       "      <td>кафетерий</td>\n",
       "      <td>398</td>\n",
       "    </tr>\n",
       "    <tr>\n",
       "      <td>закусочная</td>\n",
       "      <td>360</td>\n",
       "    </tr>\n",
       "    <tr>\n",
       "      <td>магазин (отдел кулинарии)</td>\n",
       "      <td>273</td>\n",
       "    </tr>\n",
       "  </tbody>\n",
       "</table>\n",
       "</div>"
      ],
      "text/plain": [
       "                                     id\n",
       "object_type                            \n",
       "кафе                               6099\n",
       "столовая                           2587\n",
       "ресторан                           2285\n",
       "предприятие быстрого обслуживания  1923\n",
       "бар                                 856\n",
       "буфет                               585\n",
       "кафетерий                           398\n",
       "закусочная                          360\n",
       "магазин (отдел кулинарии)           273"
      ]
     },
     "execution_count": 18,
     "metadata": {},
     "output_type": "execute_result"
    }
   ],
   "source": [
    "rest_data.groupby('object_type').agg({'id':'nunique'}).sort_values(by='id', ascending=False)"
   ]
  },
  {
   "cell_type": "markdown",
   "id": "02549ff7",
   "metadata": {},
   "source": [
    "Выведем на столбчатую диаграмму для наглядности."
   ]
  },
  {
   "cell_type": "code",
   "execution_count": 19,
   "id": "6bf9c6d2",
   "metadata": {},
   "outputs": [
    {
     "data": {
      "image/png": "[encoded data removed]",
      "text/plain": [
       "<Figure size 720x360 with 1 Axes>"
      ]
     },
     "metadata": {
      "image/png": {
       "height": 331,
       "width": 782
      },
      "needs_background": "light"
     },
     "output_type": "display_data"
    }
   ],
   "source": [
    "plt.figure(figsize=(10, 5))\n",
    "sns.countplot(y='object_type', data=rest_data)\n",
    "plt.title('Количество заведений по типу')\n",
    "plt.ylabel('')\n",
    "plt.xlabel('Количество заведений')\n",
    "plt.show()"
   ]
  },
  {
   "cell_type": "markdown",
   "id": "9415d43e",
   "metadata": {},
   "source": [
    "Также для лучшей информативности посмотрим интерактивную диаграмму."
   ]
  },
  {
   "cell_type": "markdown",
   "id": "e12efd83",
   "metadata": {},
   "source": [
    "a = rest_data.pivot_table(index='object_type', values='id', aggfunc='count').reset_index()\n",
    "a.columns = ['object_type', 'count']\n",
    "a = a.sort_values(by='count', ascending=False)\n",
    "fig = px.bar(a, x='object_type', y='count'\\\n",
    "             , title='Количество заведений по типу'\\\n",
    "             , labels={'object_type':'', 'count':'Количество заведений'}\\\n",
    "             , color='count')\n",
    "fig.show()"
   ]
  },
  {
   "cell_type": "markdown",
   "id": "08e72585",
   "metadata": {},
   "source": [
    "По полученным результатам видим, что **самое большое количество заведений относится к типу \"кафе\", далее идут \"столовая\", \"ресторан\", \"предриятие быстрого обслуживания\". Самое маленькое количество объектов представленно типом \"магазин(отдел кулинарии)\"**."
   ]
  },
  {
   "cell_type": "markdown",
   "id": "6c37033c",
   "metadata": {},
   "source": [
    "# 3. Исследование соотношения сетевых и несетевых заведений по количеству."
   ]
  },
  {
   "cell_type": "markdown",
   "id": "67c5181a",
   "metadata": {},
   "source": [
    "Теперь проведем исследование по соотношению сетевых и несетевых заведения общественного питания.\n",
    "\n",
    "Сгруппируем данные по признаку `chain` и посчитаем количество заведений."
   ]
  },
  {
   "cell_type": "code",
   "execution_count": 21,
   "id": "08a6f549",
   "metadata": {},
   "outputs": [
    {
     "data": {
      "text/html": [
       "<div>\n",
       "<style scoped>\n",
       "    .dataframe tbody tr th:only-of-type {\n",
       "        vertical-align: middle;\n",
       "    }\n",
       "\n",
       "    .dataframe tbody tr th {\n",
       "        vertical-align: top;\n",
       "    }\n",
       "\n",
       "    .dataframe thead th {\n",
       "        text-align: right;\n",
       "    }\n",
       "</style>\n",
       "<table border=\"1\" class=\"dataframe\">\n",
       "  <thead>\n",
       "    <tr style=\"text-align: right;\">\n",
       "      <th></th>\n",
       "      <th>count</th>\n",
       "    </tr>\n",
       "    <tr>\n",
       "      <th>chain</th>\n",
       "      <th></th>\n",
       "    </tr>\n",
       "  </thead>\n",
       "  <tbody>\n",
       "    <tr>\n",
       "      <td>да</td>\n",
       "      <td>2968</td>\n",
       "    </tr>\n",
       "    <tr>\n",
       "      <td>нет</td>\n",
       "      <td>12398</td>\n",
       "    </tr>\n",
       "  </tbody>\n",
       "</table>\n",
       "</div>"
      ],
      "text/plain": [
       "       count\n",
       "chain       \n",
       "да      2968\n",
       "нет    12398"
      ]
     },
     "execution_count": 21,
     "metadata": {},
     "output_type": "execute_result"
    }
   ],
   "source": [
    "rest_by_chain = rest_data.groupby('chain').agg({'id':'nunique'})\n",
    "rest_by_chain.columns=['count']\n",
    "rest_by_chain"
   ]
  },
  {
   "cell_type": "markdown",
   "id": "565aed7f",
   "metadata": {},
   "source": [
    "Мы видим большое преобладание несетевых заведений.\n",
    "\n",
    "Продемонстрируем это на графиках. Построим столбчатую даиграмму и круговой график."
   ]
  },
  {
   "cell_type": "code",
   "execution_count": 22,
   "id": "cf0bf276",
   "metadata": {},
   "outputs": [
    {
     "name": "stderr",
     "output_type": "stream",
     "text": [
      "C:\\Users\\Vladimir\\anaconda3\\envs\\praktikum_env_win_new\\lib\\site-packages\\ipykernel_launcher.py:10: MatplotlibDeprecationWarning:\n",
      "\n",
      "Non-1D inputs to pie() are currently squeeze()d, but this behavior is deprecated since 3.1 and will be removed in 3.3; pass a 1D array instead.\n",
      "\n"
     ]
    },
    {
     "data": {
      "image/png": "[encoded data removed]",
      "text/plain": [
       "<Figure size 1080x504 with 2 Axes>"
      ]
     },
     "metadata": {
      "image/png": {
       "height": 440,
       "width": 877
      },
      "needs_background": "light"
     },
     "output_type": "display_data"
    }
   ],
   "source": [
    "plt.figure(figsize=(15, 7))\n",
    "ax1 = plt.subplot(1, 2, 1)\n",
    "sns.countplot(y='chain', data=rest_data)\n",
    "plt.title('Количество заведений по сетевому типу')\n",
    "plt.ylabel('')\n",
    "plt.xlabel('Количество заведений')\n",
    "ax2 = plt.subplot(1, 2, 2)\n",
    "colors = sns.color_palette('bright')[0:5]\n",
    "labels = ['Сетевой', 'Не сетевой']\n",
    "plt.pie(rest_by_chain, labels=labels, colors=colors, autopct='%.0f%%')\n",
    "plt.title('Соотнощение количества заведений по сетевому типу')\n",
    "plt.show()"
   ]
  },
  {
   "cell_type": "markdown",
   "id": "f26a6bd0",
   "metadata": {},
   "source": [
    "Наши выводы по результатам: **несетевые объекты общественного питания распространены гораздо больше - в соотношении 1:4**."
   ]
  },
  {
   "cell_type": "markdown",
   "id": "6c9a6e77",
   "metadata": {},
   "source": [
    "Также рассмотри распределение сетевых и несетевых заведеий по виду объекта общественного питания.\n",
    "\n",
    "Отобразим на графике."
   ]
  },
  {
   "cell_type": "code",
   "execution_count": 23,
   "id": "327dbc57",
   "metadata": {},
   "outputs": [
    {
     "data": {
      "image/png": "[encoded data removed]",
      "text/plain": [
       "<Figure size 720x360 with 1 Axes>"
      ]
     },
     "metadata": {
      "image/png": {
       "height": 331,
       "width": 782
      },
      "needs_background": "light"
     },
     "output_type": "display_data"
    }
   ],
   "source": [
    "plt.figure(figsize=(10, 5))\n",
    "sns.countplot(y='object_type', data=rest_data, hue='chain')\n",
    "plt.title('Количество заведений по типу')\n",
    "plt.ylabel('')\n",
    "plt.xlabel('Количество заведений')\n",
    "plt.show()"
   ]
  },
  {
   "cell_type": "markdown",
   "id": "f84206fb",
   "metadata": {},
   "source": [
    "Также добавим немного  интерактивности."
   ]
  },
  {
   "cell_type": "markdown",
   "id": "0102d05c",
   "metadata": {},
   "source": [
    "b = rest_data.pivot_table(index=['object_type', 'chain'], values='id', aggfunc='count').reset_index()\n",
    "b.columns = ['object_type', 'chain', 'count']\n",
    "b = b.sort_values(by='count', ascending=False)\n",
    "fig = px.bar(b, x='object_type', y='count'\\\n",
    "             , title='Количество заведений по типу'\\\n",
    "             , labels={'object_type':'', 'count':'Количество заведений'}\\\n",
    "             , color='chain', height=800)\n",
    "fig.show()"
   ]
  },
  {
   "cell_type": "code",
   "execution_count": 25,
   "id": "2b434a5e",
   "metadata": {
    "scrolled": false
   },
   "outputs": [
    {
     "data": {
      "text/html": [
       "<div>\n",
       "<style scoped>\n",
       "    .dataframe tbody tr th:only-of-type {\n",
       "        vertical-align: middle;\n",
       "    }\n",
       "\n",
       "    .dataframe tbody tr th {\n",
       "        vertical-align: top;\n",
       "    }\n",
       "\n",
       "    .dataframe thead th {\n",
       "        text-align: right;\n",
       "    }\n",
       "</style>\n",
       "<table border=\"1\" class=\"dataframe\">\n",
       "  <thead>\n",
       "    <tr style=\"text-align: right;\">\n",
       "      <th></th>\n",
       "      <th></th>\n",
       "      <th>id</th>\n",
       "    </tr>\n",
       "    <tr>\n",
       "      <th>object_type</th>\n",
       "      <th>chain</th>\n",
       "      <th></th>\n",
       "    </tr>\n",
       "  </thead>\n",
       "  <tbody>\n",
       "    <tr>\n",
       "      <td rowspan=\"2\" valign=\"top\">бар</td>\n",
       "      <td>да</td>\n",
       "      <td>37</td>\n",
       "    </tr>\n",
       "    <tr>\n",
       "      <td>нет</td>\n",
       "      <td>819</td>\n",
       "    </tr>\n",
       "    <tr>\n",
       "      <td rowspan=\"2\" valign=\"top\">буфет</td>\n",
       "      <td>да</td>\n",
       "      <td>11</td>\n",
       "    </tr>\n",
       "    <tr>\n",
       "      <td>нет</td>\n",
       "      <td>574</td>\n",
       "    </tr>\n",
       "    <tr>\n",
       "      <td rowspan=\"2\" valign=\"top\">закусочная</td>\n",
       "      <td>да</td>\n",
       "      <td>56</td>\n",
       "    </tr>\n",
       "    <tr>\n",
       "      <td>нет</td>\n",
       "      <td>304</td>\n",
       "    </tr>\n",
       "    <tr>\n",
       "      <td rowspan=\"2\" valign=\"top\">кафе</td>\n",
       "      <td>да</td>\n",
       "      <td>1396</td>\n",
       "    </tr>\n",
       "    <tr>\n",
       "      <td>нет</td>\n",
       "      <td>4703</td>\n",
       "    </tr>\n",
       "    <tr>\n",
       "      <td rowspan=\"2\" valign=\"top\">кафетерий</td>\n",
       "      <td>да</td>\n",
       "      <td>52</td>\n",
       "    </tr>\n",
       "    <tr>\n",
       "      <td>нет</td>\n",
       "      <td>346</td>\n",
       "    </tr>\n",
       "    <tr>\n",
       "      <td rowspan=\"2\" valign=\"top\">магазин (отдел кулинарии)</td>\n",
       "      <td>да</td>\n",
       "      <td>78</td>\n",
       "    </tr>\n",
       "    <tr>\n",
       "      <td>нет</td>\n",
       "      <td>195</td>\n",
       "    </tr>\n",
       "    <tr>\n",
       "      <td rowspan=\"2\" valign=\"top\">предприятие быстрого обслуживания</td>\n",
       "      <td>да</td>\n",
       "      <td>791</td>\n",
       "    </tr>\n",
       "    <tr>\n",
       "      <td>нет</td>\n",
       "      <td>1132</td>\n",
       "    </tr>\n",
       "    <tr>\n",
       "      <td rowspan=\"2\" valign=\"top\">ресторан</td>\n",
       "      <td>да</td>\n",
       "      <td>544</td>\n",
       "    </tr>\n",
       "    <tr>\n",
       "      <td>нет</td>\n",
       "      <td>1741</td>\n",
       "    </tr>\n",
       "    <tr>\n",
       "      <td rowspan=\"2\" valign=\"top\">столовая</td>\n",
       "      <td>да</td>\n",
       "      <td>3</td>\n",
       "    </tr>\n",
       "    <tr>\n",
       "      <td>нет</td>\n",
       "      <td>2584</td>\n",
       "    </tr>\n",
       "  </tbody>\n",
       "</table>\n",
       "</div>"
      ],
      "text/plain": [
       "                                           id\n",
       "object_type                       chain      \n",
       "бар                               да       37\n",
       "                                  нет     819\n",
       "буфет                             да       11\n",
       "                                  нет     574\n",
       "закусочная                        да       56\n",
       "                                  нет     304\n",
       "кафе                              да     1396\n",
       "                                  нет    4703\n",
       "кафетерий                         да       52\n",
       "                                  нет     346\n",
       "магазин (отдел кулинарии)         да       78\n",
       "                                  нет     195\n",
       "предприятие быстрого обслуживания да      791\n",
       "                                  нет    1132\n",
       "ресторан                          да      544\n",
       "                                  нет    1741\n",
       "столовая                          да        3\n",
       "                                  нет    2584"
      ]
     },
     "execution_count": 25,
     "metadata": {},
     "output_type": "execute_result"
    }
   ],
   "source": [
    "rest_data.groupby(['object_type', 'chain']).agg({'id':'nunique'})"
   ]
  },
  {
   "cell_type": "code",
   "execution_count": 26,
   "id": "2901eb5e",
   "metadata": {},
   "outputs": [
    {
     "data": {
      "text/html": [
       "<div>\n",
       "<style scoped>\n",
       "    .dataframe tbody tr th:only-of-type {\n",
       "        vertical-align: middle;\n",
       "    }\n",
       "\n",
       "    .dataframe tbody tr th {\n",
       "        vertical-align: top;\n",
       "    }\n",
       "\n",
       "    .dataframe thead th {\n",
       "        text-align: right;\n",
       "    }\n",
       "</style>\n",
       "<table border=\"1\" class=\"dataframe\">\n",
       "  <thead>\n",
       "    <tr style=\"text-align: right;\">\n",
       "      <th></th>\n",
       "      <th>object_type</th>\n",
       "      <th>chain</th>\n",
       "      <th>count</th>\n",
       "      <th>sum</th>\n",
       "      <th>%</th>\n",
       "    </tr>\n",
       "  </thead>\n",
       "  <tbody>\n",
       "    <tr>\n",
       "      <td>15</td>\n",
       "      <td>бар</td>\n",
       "      <td>да</td>\n",
       "      <td>37</td>\n",
       "      <td>856</td>\n",
       "      <td>4.0</td>\n",
       "    </tr>\n",
       "    <tr>\n",
       "      <td>5</td>\n",
       "      <td>бар</td>\n",
       "      <td>нет</td>\n",
       "      <td>819</td>\n",
       "      <td>856</td>\n",
       "      <td>96.0</td>\n",
       "    </tr>\n",
       "    <tr>\n",
       "      <td>7</td>\n",
       "      <td>буфет</td>\n",
       "      <td>нет</td>\n",
       "      <td>574</td>\n",
       "      <td>585</td>\n",
       "      <td>98.0</td>\n",
       "    </tr>\n",
       "    <tr>\n",
       "      <td>16</td>\n",
       "      <td>буфет</td>\n",
       "      <td>да</td>\n",
       "      <td>11</td>\n",
       "      <td>585</td>\n",
       "      <td>2.0</td>\n",
       "    </tr>\n",
       "    <tr>\n",
       "      <td>10</td>\n",
       "      <td>закусочная</td>\n",
       "      <td>нет</td>\n",
       "      <td>304</td>\n",
       "      <td>360</td>\n",
       "      <td>84.0</td>\n",
       "    </tr>\n",
       "    <tr>\n",
       "      <td>13</td>\n",
       "      <td>закусочная</td>\n",
       "      <td>да</td>\n",
       "      <td>56</td>\n",
       "      <td>360</td>\n",
       "      <td>16.0</td>\n",
       "    </tr>\n",
       "    <tr>\n",
       "      <td>0</td>\n",
       "      <td>кафе</td>\n",
       "      <td>нет</td>\n",
       "      <td>4703</td>\n",
       "      <td>6099</td>\n",
       "      <td>77.0</td>\n",
       "    </tr>\n",
       "    <tr>\n",
       "      <td>3</td>\n",
       "      <td>кафе</td>\n",
       "      <td>да</td>\n",
       "      <td>1396</td>\n",
       "      <td>6099</td>\n",
       "      <td>23.0</td>\n",
       "    </tr>\n",
       "    <tr>\n",
       "      <td>14</td>\n",
       "      <td>кафетерий</td>\n",
       "      <td>да</td>\n",
       "      <td>52</td>\n",
       "      <td>398</td>\n",
       "      <td>13.0</td>\n",
       "    </tr>\n",
       "    <tr>\n",
       "      <td>9</td>\n",
       "      <td>кафетерий</td>\n",
       "      <td>нет</td>\n",
       "      <td>346</td>\n",
       "      <td>398</td>\n",
       "      <td>87.0</td>\n",
       "    </tr>\n",
       "    <tr>\n",
       "      <td>11</td>\n",
       "      <td>магазин (отдел кулинарии)</td>\n",
       "      <td>нет</td>\n",
       "      <td>195</td>\n",
       "      <td>273</td>\n",
       "      <td>71.0</td>\n",
       "    </tr>\n",
       "    <tr>\n",
       "      <td>12</td>\n",
       "      <td>магазин (отдел кулинарии)</td>\n",
       "      <td>да</td>\n",
       "      <td>78</td>\n",
       "      <td>273</td>\n",
       "      <td>29.0</td>\n",
       "    </tr>\n",
       "    <tr>\n",
       "      <td>4</td>\n",
       "      <td>предприятие быстрого обслуживания</td>\n",
       "      <td>нет</td>\n",
       "      <td>1132</td>\n",
       "      <td>1923</td>\n",
       "      <td>59.0</td>\n",
       "    </tr>\n",
       "    <tr>\n",
       "      <td>6</td>\n",
       "      <td>предприятие быстрого обслуживания</td>\n",
       "      <td>да</td>\n",
       "      <td>791</td>\n",
       "      <td>1923</td>\n",
       "      <td>41.0</td>\n",
       "    </tr>\n",
       "    <tr>\n",
       "      <td>8</td>\n",
       "      <td>ресторан</td>\n",
       "      <td>да</td>\n",
       "      <td>544</td>\n",
       "      <td>2285</td>\n",
       "      <td>24.0</td>\n",
       "    </tr>\n",
       "    <tr>\n",
       "      <td>2</td>\n",
       "      <td>ресторан</td>\n",
       "      <td>нет</td>\n",
       "      <td>1741</td>\n",
       "      <td>2285</td>\n",
       "      <td>76.0</td>\n",
       "    </tr>\n",
       "    <tr>\n",
       "      <td>1</td>\n",
       "      <td>столовая</td>\n",
       "      <td>нет</td>\n",
       "      <td>2584</td>\n",
       "      <td>2587</td>\n",
       "      <td>100.0</td>\n",
       "    </tr>\n",
       "    <tr>\n",
       "      <td>17</td>\n",
       "      <td>столовая</td>\n",
       "      <td>да</td>\n",
       "      <td>3</td>\n",
       "      <td>2587</td>\n",
       "      <td>0.0</td>\n",
       "    </tr>\n",
       "  </tbody>\n",
       "</table>\n",
       "</div>"
      ],
      "text/plain": [
       "                          object_type chain  count   sum      %\n",
       "15                                бар    да     37   856    4.0\n",
       "5                                 бар   нет    819   856   96.0\n",
       "7                               буфет   нет    574   585   98.0\n",
       "16                              буфет    да     11   585    2.0\n",
       "10                         закусочная   нет    304   360   84.0\n",
       "13                         закусочная    да     56   360   16.0\n",
       "0                                кафе   нет   4703  6099   77.0\n",
       "3                                кафе    да   1396  6099   23.0\n",
       "14                          кафетерий    да     52   398   13.0\n",
       "9                           кафетерий   нет    346   398   87.0\n",
       "11          магазин (отдел кулинарии)   нет    195   273   71.0\n",
       "12          магазин (отдел кулинарии)    да     78   273   29.0\n",
       "4   предприятие быстрого обслуживания   нет   1132  1923   59.0\n",
       "6   предприятие быстрого обслуживания    да    791  1923   41.0\n",
       "8                            ресторан    да    544  2285   24.0\n",
       "2                            ресторан   нет   1741  2285   76.0\n",
       "1                            столовая   нет   2584  2587  100.0\n",
       "17                           столовая    да      3  2587    0.0"
      ]
     },
     "execution_count": 26,
     "metadata": {},
     "output_type": "execute_result"
    }
   ],
   "source": [
    "c = rest_data.pivot_table(index='object_type', values='id', aggfunc='count').reset_index()\n",
    "c.columns = ['object_type', 'sum']\n",
    "b = b.merge(c, on='object_type', how='left')\n",
    "b['%'] = (b['count']/b['sum']*100).round()\n",
    "b.sort_values(by='object_type')"
   ]
  },
  {
   "cell_type": "code",
   "execution_count": 27,
   "id": "470cfd99",
   "metadata": {},
   "outputs": [
    {
     "data": {
      "text/plain": [
       "<Figure size 360x1080 with 0 Axes>"
      ]
     },
     "metadata": {},
     "output_type": "display_data"
    },
    {
     "data": {
      "image/png": "[encoded data removed]",
      "text/plain": [
       "<Figure size 414.5x360 with 1 Axes>"
      ]
     },
     "metadata": {
      "image/png": {
       "height": 367,
       "width": 415
      },
      "needs_background": "light"
     },
     "output_type": "display_data"
    }
   ],
   "source": [
    "plt.figure(figsize=(5, 15))\n",
    "sns.catplot(x='%', y='object_type', hue='chain', kind='bar', data=b)\n",
    "plt.title('Соотношение сетевых и несетевых заведений')\n",
    "plt.ylabel('')\n",
    "plt.xlabel('Проценты')\n",
    "plt.show()"
   ]
  },
  {
   "cell_type": "markdown",
   "id": "68e038ce",
   "metadata": {},
   "source": [
    "Мы видим по результатам, что **сетевой тип характерен для объектов \"кафе\", \"ресторан\", \"предприятие общественного питания\" и \"магазин (отдел кулинарии)\"**. "
   ]
  },
  {
   "cell_type": "markdown",
   "id": "545ec558",
   "metadata": {},
   "source": [
    "По соотношению сетевых заведений к несетевым можно выделить **предприятия быстрого обслуживания, отношение которых 2:3, и это самй высокий показатель**. В остальных случаях преобладание несетевых заведений много больше. Также стоит отметить типы заведений **буфет, бар, столовая, в которых более 95% объектов представленны несетевыми заведениями**."
   ]
  },
  {
   "cell_type": "markdown",
   "id": "964309ab",
   "metadata": {},
   "source": [
    "# 4. Исследование характера сетевых заведений по группам."
   ]
  },
  {
   "cell_type": "markdown",
   "id": "2585aec6",
   "metadata": {},
   "source": [
    "Проведем исследование сетевых объектов общественного питания по количеству посадочных мест. Мы хотим узнать, что взаимосвязь количетсва завдений для одной сети с количеством посадочных мест для сетевых заведений.\n",
    "\n",
    "Для этого отфильтруем данные по признаку `chain` и разделим все заведения по четырем группам: \n",
    "\n",
    " - много заведений, много мест;\n",
    " \n",
    " - много заведений, мало мест;\n",
    " \n",
    " - мало заведений, много мест;\n",
    " \n",
    " - мало заведений, мало мест."
   ]
  },
  {
   "cell_type": "code",
   "execution_count": 28,
   "id": "890b4839",
   "metadata": {},
   "outputs": [],
   "source": [
    "rest_chain_y = rest_data.query('chain == \"да\"')"
   ]
  },
  {
   "cell_type": "markdown",
   "id": "ceb68b7f",
   "metadata": {},
   "source": [
    "Выделим в отдельную таблицу сгруппированные данные по количеству завдений и среднему количеству посадочных мест для сетевых объектов."
   ]
  },
  {
   "cell_type": "code",
   "execution_count": 29,
   "id": "44ea9ffd",
   "metadata": {
    "scrolled": false
   },
   "outputs": [
    {
     "data": {
      "text/html": [
       "<div>\n",
       "<style scoped>\n",
       "    .dataframe tbody tr th:only-of-type {\n",
       "        vertical-align: middle;\n",
       "    }\n",
       "\n",
       "    .dataframe tbody tr th {\n",
       "        vertical-align: top;\n",
       "    }\n",
       "\n",
       "    .dataframe thead th {\n",
       "        text-align: right;\n",
       "    }\n",
       "</style>\n",
       "<table border=\"1\" class=\"dataframe\">\n",
       "  <thead>\n",
       "    <tr style=\"text-align: right;\">\n",
       "      <th></th>\n",
       "      <th>name</th>\n",
       "      <th>number_restaurant</th>\n",
       "      <th>number_place</th>\n",
       "    </tr>\n",
       "  </thead>\n",
       "  <tbody>\n",
       "    <tr>\n",
       "      <td>29</td>\n",
       "      <td>KFC</td>\n",
       "      <td>188</td>\n",
       "      <td>56</td>\n",
       "    </tr>\n",
       "    <tr>\n",
       "      <td>506</td>\n",
       "      <td>Шоколадница</td>\n",
       "      <td>185</td>\n",
       "      <td>58</td>\n",
       "    </tr>\n",
       "    <tr>\n",
       "      <td>38</td>\n",
       "      <td>McDonalds</td>\n",
       "      <td>173</td>\n",
       "      <td>87</td>\n",
       "    </tr>\n",
       "    <tr>\n",
       "      <td>7</td>\n",
       "      <td>Burger King</td>\n",
       "      <td>159</td>\n",
       "      <td>48</td>\n",
       "    </tr>\n",
       "    <tr>\n",
       "      <td>465</td>\n",
       "      <td>Теремок</td>\n",
       "      <td>111</td>\n",
       "      <td>27</td>\n",
       "    </tr>\n",
       "    <tr>\n",
       "      <td>...</td>\n",
       "      <td>...</td>\n",
       "      <td>...</td>\n",
       "      <td>...</td>\n",
       "    </tr>\n",
       "    <tr>\n",
       "      <td>219</td>\n",
       "      <td>Кафе «Кулинарное бюро»</td>\n",
       "      <td>1</td>\n",
       "      <td>18</td>\n",
       "    </tr>\n",
       "    <tr>\n",
       "      <td>218</td>\n",
       "      <td>Кафе «Кулинарная лавка братьев Караваевых»</td>\n",
       "      <td>1</td>\n",
       "      <td>10</td>\n",
       "    </tr>\n",
       "    <tr>\n",
       "      <td>215</td>\n",
       "      <td>Кафе «Ваби-Саби»</td>\n",
       "      <td>1</td>\n",
       "      <td>98</td>\n",
       "    </tr>\n",
       "    <tr>\n",
       "      <td>210</td>\n",
       "      <td>Кальянная F-lounge</td>\n",
       "      <td>1</td>\n",
       "      <td>30</td>\n",
       "    </tr>\n",
       "    <tr>\n",
       "      <td>517</td>\n",
       "      <td>ресторан «Брудер»</td>\n",
       "      <td>1</td>\n",
       "      <td>86</td>\n",
       "    </tr>\n",
       "  </tbody>\n",
       "</table>\n",
       "<p>518 rows × 3 columns</p>\n",
       "</div>"
      ],
      "text/plain": [
       "                                           name  number_restaurant  \\\n",
       "29                                          KFC                188   \n",
       "506                                 Шоколадница                185   \n",
       "38                                    McDonalds                173   \n",
       "7                                   Burger King                159   \n",
       "465                                     Теремок                111   \n",
       "..                                          ...                ...   \n",
       "219                      Кафе «Кулинарное бюро»                  1   \n",
       "218  Кафе «Кулинарная лавка братьев Караваевых»                  1   \n",
       "215                            Кафе «Ваби-Саби»                  1   \n",
       "210                          Кальянная F-lounge                  1   \n",
       "517                           ресторан «Брудер»                  1   \n",
       "\n",
       "     number_place  \n",
       "29             56  \n",
       "506            58  \n",
       "38             87  \n",
       "7              48  \n",
       "465            27  \n",
       "..            ...  \n",
       "219            18  \n",
       "218            10  \n",
       "215            98  \n",
       "210            30  \n",
       "517            86  \n",
       "\n",
       "[518 rows x 3 columns]"
      ]
     },
     "execution_count": 29,
     "metadata": {},
     "output_type": "execute_result"
    }
   ],
   "source": [
    "rest_chain_y = rest_chain_y.pivot_table(index=['object_name'], values='number', aggfunc=['count', 'mean']).reset_index()\n",
    "rest_chain_y.columns = ['name','number_restaurant','number_place']\n",
    "rest_chain_y['number_place'] = rest_chain_y['number_place'].apply(round)\n",
    "rest_chain_y = rest_chain_y.sort_values(by = ['number_restaurant'], ascending= False)\n",
    "rest_chain_y"
   ]
  },
  {
   "cell_type": "code",
   "execution_count": 30,
   "id": "3f60e30e",
   "metadata": {},
   "outputs": [
    {
     "data": {
      "text/plain": [
       "5.72972972972973"
      ]
     },
     "execution_count": 30,
     "metadata": {},
     "output_type": "execute_result"
    }
   ],
   "source": [
    "rest_chain_y['number_restaurant'].mean()"
   ]
  },
  {
   "cell_type": "code",
   "execution_count": 31,
   "id": "42495cfb",
   "metadata": {},
   "outputs": [
    {
     "data": {
      "text/plain": [
       "48.0"
      ]
     },
     "execution_count": 31,
     "metadata": {},
     "output_type": "execute_result"
    }
   ],
   "source": [
    "rest_chain_y['number_place'].median()"
   ]
  },
  {
   "cell_type": "markdown",
   "id": "2dd1c292",
   "metadata": {},
   "source": [
    "Медианное значение количетсва посадочных мест 48. Возьмем за точку отсечения между группами 50 посадочныъ мест.\n",
    "А границу разделения между крупными и некрупными сетевыми хаведениями возьмем количество заведений 5.\n",
    "\n",
    "\n",
    "Зададим функцию, которая обработает и разделит данные по группам."
   ]
  },
  {
   "cell_type": "code",
   "execution_count": 32,
   "id": "3f69b7e3",
   "metadata": {},
   "outputs": [],
   "source": [
    "def category(row):\n",
    "    num_rest = row['number_restaurant']\n",
    "    num_place = row['number_place']\n",
    "    if num_rest <= 5 and num_place <= 50:\n",
    "        return 'Мало заведений - мало мест'\n",
    " \n",
    "    elif num_rest > 5 and num_place <= 50:\n",
    "        return 'Много заведений - мало мест'  \n",
    " \n",
    "    elif num_rest <= 5 and num_place > 50:\n",
    "        return 'Мало заведений - много мест'\n",
    " \n",
    "    return 'Много заведений - много мест'"
   ]
  },
  {
   "cell_type": "markdown",
   "id": "1fa993f4",
   "metadata": {},
   "source": [
    "Применим к созданому датафрйему и создадим отдельный столбец `category`"
   ]
  },
  {
   "cell_type": "code",
   "execution_count": 33,
   "id": "4b878afe",
   "metadata": {},
   "outputs": [
    {
     "data": {
      "text/html": [
       "<div>\n",
       "<style scoped>\n",
       "    .dataframe tbody tr th:only-of-type {\n",
       "        vertical-align: middle;\n",
       "    }\n",
       "\n",
       "    .dataframe tbody tr th {\n",
       "        vertical-align: top;\n",
       "    }\n",
       "\n",
       "    .dataframe thead th {\n",
       "        text-align: right;\n",
       "    }\n",
       "</style>\n",
       "<table border=\"1\" class=\"dataframe\">\n",
       "  <thead>\n",
       "    <tr style=\"text-align: right;\">\n",
       "      <th></th>\n",
       "      <th>name</th>\n",
       "      <th>number_restaurant</th>\n",
       "      <th>number_place</th>\n",
       "      <th>category</th>\n",
       "    </tr>\n",
       "  </thead>\n",
       "  <tbody>\n",
       "    <tr>\n",
       "      <td>29</td>\n",
       "      <td>KFC</td>\n",
       "      <td>188</td>\n",
       "      <td>56</td>\n",
       "      <td>Много заведений - много мест</td>\n",
       "    </tr>\n",
       "    <tr>\n",
       "      <td>506</td>\n",
       "      <td>Шоколадница</td>\n",
       "      <td>185</td>\n",
       "      <td>58</td>\n",
       "      <td>Много заведений - много мест</td>\n",
       "    </tr>\n",
       "    <tr>\n",
       "      <td>38</td>\n",
       "      <td>McDonalds</td>\n",
       "      <td>173</td>\n",
       "      <td>87</td>\n",
       "      <td>Много заведений - много мест</td>\n",
       "    </tr>\n",
       "    <tr>\n",
       "      <td>7</td>\n",
       "      <td>Burger King</td>\n",
       "      <td>159</td>\n",
       "      <td>48</td>\n",
       "      <td>Много заведений - мало мест</td>\n",
       "    </tr>\n",
       "    <tr>\n",
       "      <td>465</td>\n",
       "      <td>Теремок</td>\n",
       "      <td>111</td>\n",
       "      <td>27</td>\n",
       "      <td>Много заведений - мало мест</td>\n",
       "    </tr>\n",
       "  </tbody>\n",
       "</table>\n",
       "</div>"
      ],
      "text/plain": [
       "            name  number_restaurant  number_place  \\\n",
       "29           KFC                188            56   \n",
       "506  Шоколадница                185            58   \n",
       "38     McDonalds                173            87   \n",
       "7    Burger King                159            48   \n",
       "465      Теремок                111            27   \n",
       "\n",
       "                         category  \n",
       "29   Много заведений - много мест  \n",
       "506  Много заведений - много мест  \n",
       "38   Много заведений - много мест  \n",
       "7     Много заведений - мало мест  \n",
       "465   Много заведений - мало мест  "
      ]
     },
     "execution_count": 33,
     "metadata": {},
     "output_type": "execute_result"
    }
   ],
   "source": [
    "rest_chain_y['category'] = rest_chain_y.apply(category, axis=1)\n",
    "rest_chain_y.head()"
   ]
  },
  {
   "cell_type": "markdown",
   "id": "4701f73c",
   "metadata": {},
   "source": [
    "Теперь отобразим на диаграмме распределение объектов общественного питания с группировкой."
   ]
  },
  {
   "cell_type": "code",
   "execution_count": 34,
   "id": "ac6d0d57",
   "metadata": {},
   "outputs": [
    {
     "data": {
      "image/png": "[encoded data removed]",
      "text/plain": [
       "<Figure size 720x360 with 1 Axes>"
      ]
     },
     "metadata": {
      "image/png": {
       "height": 331,
       "width": 612
      },
      "needs_background": "light"
     },
     "output_type": "display_data"
    }
   ],
   "source": [
    "plt.figure(figsize=(10, 5))\n",
    "sns.scatterplot(x='number_restaurant', y='number_place', data=rest_chain_y, hue='category')\n",
    "plt.title('Распределение заведений по группам')\n",
    "plt.ylabel('Количество посадочных мест')\n",
    "plt.xlabel('Количество заведений')\n",
    "plt.show()"
   ]
  },
  {
   "cell_type": "markdown",
   "id": "6a1c9c02",
   "metadata": {},
   "source": [
    "Также добавим  интереактивный график."
   ]
  },
  {
   "cell_type": "markdown",
   "id": "d53d3c5e",
   "metadata": {},
   "source": [
    "fig = px.scatter(rest_chain_y, x='number_restaurant', y='number_place'\\\n",
    "                 , color='category', title='Распределение завдений по группам'\\\n",
    "                 , labels={'number_restaurant':'Количество заведений', 'number_place':'Количество посадочных мест'})\n",
    "fig.show()"
   ]
  },
  {
   "cell_type": "markdown",
   "id": "617479cc",
   "metadata": {},
   "source": [
    "На графике мы видим, что **чем крупнее сеть, тем реже становиться распределение. Также можно добавить, что количество посадочных мест по крупным сетям распределено неравномерно, с большим разбросом. Но можно заключить, что крупные сети более предпочитают небольшое количество посадочных мест.**\n",
    "\n",
    "**Некрупные сети имеют более компактное распределение, но также имеют большие выбросы по количеству посадочных мест. Это может быть обусловленно погрешностью принятой нами при обработке синонимов названий заведений( некоторые сетевые заведения представленны в количестве одна единица).**"
   ]
  },
  {
   "cell_type": "code",
   "execution_count": 36,
   "id": "60658e9d",
   "metadata": {},
   "outputs": [],
   "source": [
    "rest_data_y = rest_data.query('chain == \"да\"').rename(columns={'object_name':'name'})\n",
    "rest_data_y = rest_data_y.merge(rest_chain_y, on='name', how='left')"
   ]
  },
  {
   "cell_type": "code",
   "execution_count": 37,
   "id": "a5feaa0f",
   "metadata": {},
   "outputs": [
    {
     "data": {
      "image/png": "[encoded data removed]",
      "text/plain": [
       "<Figure size 1440x720 with 1 Axes>"
      ]
     },
     "metadata": {
      "image/png": {
       "height": 603,
       "width": 1170
      },
      "needs_background": "light"
     },
     "output_type": "display_data"
    }
   ],
   "source": [
    "plt.figure(figsize=(20, 10))\n",
    "sns.histplot(rest_data_y, x='number', hue='category', kde=True)\n",
    "plt.title('Распределние заведение по посадочным местам по группам')\n",
    "plt.xlabel('Количество посадочных мест')\n",
    "plt.ylabel('Количество заведений')\n",
    "plt.show()"
   ]
  },
  {
   "cell_type": "markdown",
   "id": "4b70ffbb",
   "metadata": {},
   "source": [
    "# 5. Исследование видов объектов общественного питания по среднему количеству посадочных мест."
   ]
  },
  {
   "cell_type": "markdown",
   "id": "899244d1",
   "metadata": {},
   "source": [
    "Теперь посмотрим на распределение завдений по количеству посадочных мест по сетевому признаку.\n",
    "\n",
    "Для этого сгруппируем данные типу объекта и сетевому признаку и посчитаме медианное количество посадочных мест."
   ]
  },
  {
   "cell_type": "code",
   "execution_count": 38,
   "id": "b05db6e1",
   "metadata": {},
   "outputs": [],
   "source": [
    "rest_by_type = rest_data.pivot_table(index=['object_type', 'chain'], values='number', aggfunc='median').reset_index()\n",
    "rest_by_type['number'] = rest_by_type['number'].round()\n",
    "rest_by_type = rest_by_type.sort_values(by='number', ascending=False)"
   ]
  },
  {
   "cell_type": "markdown",
   "id": "13cfe7d3",
   "metadata": {},
   "source": [
    "Отобразим результаты на графике."
   ]
  },
  {
   "cell_type": "code",
   "execution_count": 39,
   "id": "79ed21f0",
   "metadata": {},
   "outputs": [
    {
     "data": {
      "text/plain": [
       "<Figure size 360x1080 with 0 Axes>"
      ]
     },
     "metadata": {},
     "output_type": "display_data"
    },
    {
     "data": {
      "image/png": "[encoded data removed]",
      "text/plain": [
       "<Figure size 414.5x360 with 1 Axes>"
      ]
     },
     "metadata": {
      "image/png": {
       "height": 367,
       "width": 497
      },
      "needs_background": "light"
     },
     "output_type": "display_data"
    }
   ],
   "source": [
    "plt.figure(figsize=(5, 15))\n",
    "sns.catplot(x='number', y='object_type', hue='chain', kind='bar', data=rest_by_type)\n",
    "plt.title('Распределение заведений по медианному количеству посадочных мест')\n",
    "plt.ylabel('')\n",
    "plt.xlabel('Количество посадочных мест')\n",
    "plt.show()"
   ]
  },
  {
   "cell_type": "markdown",
   "id": "f92e01ba",
   "metadata": {},
   "source": [
    "Также отобразим результаты на интреактивном графике."
   ]
  },
  {
   "cell_type": "markdown",
   "id": "bf3913ac",
   "metadata": {},
   "source": [
    "fig = px.bar(rest_by_type, x='object_type', y='number', color='chain'\\\n",
    "            , labels={'object_type':'', 'number':'Количество посадочных мест'}\\\n",
    "            , title='Распределение заведений по медианному количеству посадочных мест')\n",
    "fig.show()"
   ]
  },
  {
   "cell_type": "markdown",
   "id": "13755263",
   "metadata": {},
   "source": [
    "Мы видим, что **наибольшее количество посадочных мест имеют \"столовая\" и \"ресторан\"**. А **меньше всего посадочных мест в заведениях \"кафетерий\", \"закусочная\", \"магазин (отдел кулинарии)\".**"
   ]
  },
  {
   "cell_type": "markdown",
   "id": "e52096cf",
   "metadata": {},
   "source": [
    "Теперь отобразим те же условия, но для среднего количества посадочных мест."
   ]
  },
  {
   "cell_type": "code",
   "execution_count": 41,
   "id": "a29ea185",
   "metadata": {},
   "outputs": [],
   "source": [
    "report = rest_data.pivot_table(index=['object_type', 'chain'], values='number', aggfunc='mean').reset_index()\n",
    "report['number'] = report['number'].round()\n",
    "report = report.sort_values(by='number', ascending=False)"
   ]
  },
  {
   "cell_type": "markdown",
   "id": "cda0f548",
   "metadata": {},
   "source": [
    "Построим столбчатую диаграмму."
   ]
  },
  {
   "cell_type": "code",
   "execution_count": 42,
   "id": "2ec485a4",
   "metadata": {},
   "outputs": [
    {
     "data": {
      "text/plain": [
       "<Figure size 360x1080 with 0 Axes>"
      ]
     },
     "metadata": {},
     "output_type": "display_data"
    },
    {
     "data": {
      "image/png": "[encoded data removed]",
      "text/plain": [
       "<Figure size 414.5x360 with 1 Axes>"
      ]
     },
     "metadata": {
      "image/png": {
       "height": 367,
       "width": 488
      },
      "needs_background": "light"
     },
     "output_type": "display_data"
    }
   ],
   "source": [
    "plt.figure(figsize=(5, 15))\n",
    "sns.catplot(x='number', y='object_type', hue='chain', kind='bar', data=report)\n",
    "plt.title('Распределение заведений по среднему количеству посадочных мест')\n",
    "plt.ylabel('')\n",
    "plt.xlabel('Количество посадочных мест')\n",
    "plt.show()"
   ]
  },
  {
   "cell_type": "markdown",
   "id": "6c4526e9",
   "metadata": {},
   "source": [
    "Добавим интерактивности."
   ]
  },
  {
   "cell_type": "markdown",
   "id": "8a1475d5",
   "metadata": {},
   "source": [
    "fig = px.bar(report, x='object_type', y='number', color='chain'\\\n",
    "            , labels={'object_type':'', 'number':'Количество посадочных мест'}\\\n",
    "            , title='Распределение заведений по среднему количеству посадочных мест')\n",
    "fig.show()"
   ]
  },
  {
   "cell_type": "markdown",
   "id": "b3c31fc5",
   "metadata": {},
   "source": [
    "Мы видим практически идентичные результаты, поэтому окончательно заключаем,что **наибольшее количество посадочных мест имеют \"столовая\" и \"ресторан\"**. А **меньше всего посадочных мест в заведениях \"кафетерий\", \"закусочная\", \"магазин (отдел кулинарии)\".**"
   ]
  },
  {
   "cell_type": "markdown",
   "id": "f28d3568",
   "metadata": {},
   "source": [
    "# 6. Исследование расположения объектов общественного питания по улицам."
   ]
  },
  {
   "cell_type": "markdown",
   "id": "fe0a8588",
   "metadata": {},
   "source": [
    "Теперь нам необходимо узнать распределение объектов общественного питания по улицам и районам Москвы. \n",
    "\n",
    "Для этого надо выделить в отедльный столбец названия улиц из соответствующего столбца изначального датафрейма.\n",
    "\n",
    "Также нам надо будет добавить внешние данные с привязкой улиц к районам Москвы.\n",
    "\n",
    "Приступим."
   ]
  },
  {
   "cell_type": "code",
   "execution_count": 44,
   "id": "aae299a4",
   "metadata": {
    "scrolled": true
   },
   "outputs": [
    {
     "data": {
      "text/html": [
       "<div>\n",
       "<style scoped>\n",
       "    .dataframe tbody tr th:only-of-type {\n",
       "        vertical-align: middle;\n",
       "    }\n",
       "\n",
       "    .dataframe tbody tr th {\n",
       "        vertical-align: top;\n",
       "    }\n",
       "\n",
       "    .dataframe thead th {\n",
       "        text-align: right;\n",
       "    }\n",
       "</style>\n",
       "<table border=\"1\" class=\"dataframe\">\n",
       "  <thead>\n",
       "    <tr style=\"text-align: right;\">\n",
       "      <th></th>\n",
       "      <th>id</th>\n",
       "      <th>object_name</th>\n",
       "      <th>chain</th>\n",
       "      <th>object_type</th>\n",
       "      <th>address</th>\n",
       "      <th>number</th>\n",
       "    </tr>\n",
       "  </thead>\n",
       "  <tbody>\n",
       "    <tr>\n",
       "      <td>0</td>\n",
       "      <td>151635</td>\n",
       "      <td>СМЕТАНА</td>\n",
       "      <td>нет</td>\n",
       "      <td>кафе</td>\n",
       "      <td>город Москва, улица Егора Абакумова, дом 9</td>\n",
       "      <td>48</td>\n",
       "    </tr>\n",
       "    <tr>\n",
       "      <td>1</td>\n",
       "      <td>77874</td>\n",
       "      <td>Родник</td>\n",
       "      <td>нет</td>\n",
       "      <td>кафе</td>\n",
       "      <td>город Москва, улица Талалихина, дом 2/1, корпус 1</td>\n",
       "      <td>35</td>\n",
       "    </tr>\n",
       "    <tr>\n",
       "      <td>2</td>\n",
       "      <td>24309</td>\n",
       "      <td>Кафе «Академия»</td>\n",
       "      <td>нет</td>\n",
       "      <td>кафе</td>\n",
       "      <td>город Москва, Абельмановская улица, дом 6</td>\n",
       "      <td>95</td>\n",
       "    </tr>\n",
       "    <tr>\n",
       "      <td>3</td>\n",
       "      <td>21894</td>\n",
       "      <td>ПИЦЦЕТОРИЯ</td>\n",
       "      <td>да</td>\n",
       "      <td>кафе</td>\n",
       "      <td>город Москва, Абрамцевская улица, дом 1</td>\n",
       "      <td>40</td>\n",
       "    </tr>\n",
       "    <tr>\n",
       "      <td>4</td>\n",
       "      <td>119365</td>\n",
       "      <td>Кафе «Вишневая метель»</td>\n",
       "      <td>нет</td>\n",
       "      <td>кафе</td>\n",
       "      <td>город Москва, Абрамцевская улица, дом 9, корпус 1</td>\n",
       "      <td>50</td>\n",
       "    </tr>\n",
       "  </tbody>\n",
       "</table>\n",
       "</div>"
      ],
      "text/plain": [
       "       id             object_name chain object_type  \\\n",
       "0  151635                 СМЕТАНА   нет        кафе   \n",
       "1   77874                  Родник   нет        кафе   \n",
       "2   24309         Кафе «Академия»   нет        кафе   \n",
       "3   21894              ПИЦЦЕТОРИЯ    да        кафе   \n",
       "4  119365  Кафе «Вишневая метель»   нет        кафе   \n",
       "\n",
       "                                             address  number  \n",
       "0         город Москва, улица Егора Абакумова, дом 9      48  \n",
       "1  город Москва, улица Талалихина, дом 2/1, корпус 1      35  \n",
       "2          город Москва, Абельмановская улица, дом 6      95  \n",
       "3            город Москва, Абрамцевская улица, дом 1      40  \n",
       "4  город Москва, Абрамцевская улица, дом 9, корпус 1      50  "
      ]
     },
     "execution_count": 44,
     "metadata": {},
     "output_type": "execute_result"
    }
   ],
   "source": [
    "rest_data.head()"
   ]
  },
  {
   "cell_type": "markdown",
   "id": "a297db9c",
   "metadata": {},
   "source": [
    "Выделим в столбец `streetname` название улиц."
   ]
  },
  {
   "cell_type": "code",
   "execution_count": 45,
   "id": "03bdf834",
   "metadata": {},
   "outputs": [],
   "source": [
    "rest_data['streetname']= rest_data['address'].str.extract(r'(?:,\\s+)(.+?)(?:,)')"
   ]
  },
  {
   "cell_type": "markdown",
   "id": "efcb3681",
   "metadata": {},
   "source": [
    "Импортируем внешние данные для привязки улиц по районам."
   ]
  },
  {
   "cell_type": "code",
   "execution_count": 46,
   "id": "f1450473",
   "metadata": {},
   "outputs": [
    {
     "data": {
      "text/html": [
       "<div>\n",
       "<style scoped>\n",
       "    .dataframe tbody tr th:only-of-type {\n",
       "        vertical-align: middle;\n",
       "    }\n",
       "\n",
       "    .dataframe tbody tr th {\n",
       "        vertical-align: top;\n",
       "    }\n",
       "\n",
       "    .dataframe thead th {\n",
       "        text-align: right;\n",
       "    }\n",
       "</style>\n",
       "<table border=\"1\" class=\"dataframe\">\n",
       "  <thead>\n",
       "    <tr style=\"text-align: right;\">\n",
       "      <th></th>\n",
       "      <th>streetname</th>\n",
       "      <th>areaid</th>\n",
       "      <th>okrug</th>\n",
       "      <th>area</th>\n",
       "    </tr>\n",
       "  </thead>\n",
       "  <tbody>\n",
       "    <tr>\n",
       "      <td>0</td>\n",
       "      <td>Выставочный переулок</td>\n",
       "      <td>17</td>\n",
       "      <td>ЦАО</td>\n",
       "      <td>Пресненский район</td>\n",
       "    </tr>\n",
       "    <tr>\n",
       "      <td>1</td>\n",
       "      <td>улица Гашека</td>\n",
       "      <td>17</td>\n",
       "      <td>ЦАО</td>\n",
       "      <td>Пресненский район</td>\n",
       "    </tr>\n",
       "    <tr>\n",
       "      <td>2</td>\n",
       "      <td>Большая Никитская улица</td>\n",
       "      <td>17</td>\n",
       "      <td>ЦАО</td>\n",
       "      <td>Пресненский район</td>\n",
       "    </tr>\n",
       "    <tr>\n",
       "      <td>3</td>\n",
       "      <td>Глубокий переулок</td>\n",
       "      <td>17</td>\n",
       "      <td>ЦАО</td>\n",
       "      <td>Пресненский район</td>\n",
       "    </tr>\n",
       "    <tr>\n",
       "      <td>4</td>\n",
       "      <td>Большой Гнездниковский переулок</td>\n",
       "      <td>17</td>\n",
       "      <td>ЦАО</td>\n",
       "      <td>Пресненский район</td>\n",
       "    </tr>\n",
       "  </tbody>\n",
       "</table>\n",
       "</div>"
      ],
      "text/plain": [
       "                        streetname  areaid okrug               area\n",
       "0             Выставочный переулок      17   ЦАО  Пресненский район\n",
       "1                     улица Гашека      17   ЦАО  Пресненский район\n",
       "2          Большая Никитская улица      17   ЦАО  Пресненский район\n",
       "3                Глубокий переулок      17   ЦАО  Пресненский район\n",
       "4  Большой Гнездниковский переулок      17   ЦАО  Пресненский район"
      ]
     },
     "execution_count": 46,
     "metadata": {},
     "output_type": "execute_result"
    }
   ],
   "source": [
    "from io import BytesIO\n",
    "import requests\n",
    "spreadsheet_id = '1RRftvrOHQTiYJI_VsSzDntsCo6s4xvEEljzrrv2yrGc'\n",
    "file_name = 'https://docs.google.com/spreadsheets/d/{}/export?format=csv'.format(spreadsheet_id)\n",
    "r = requests.get(file_name)\n",
    "df = pd.read_csv(BytesIO(r.content))\n",
    "df.head()"
   ]
  },
  {
   "cell_type": "markdown",
   "id": "2e752b6f",
   "metadata": {},
   "source": [
    "# 7. Топ-10 улиц по количеству объектов общественного питания."
   ]
  },
  {
   "cell_type": "markdown",
   "id": "78e701d6",
   "metadata": {},
   "source": [
    "Теперь посмотрим на топ-10 улиц по количеству объектов общественного питания.\n",
    "\n",
    "Для этого сгруппируем данные по улицам и посчитаем количество заведений, удалим из списка город Зеленоград и пос. Сосенское. Далее присоединим к данным таблицу с районами Москвы и выведем на экран."
   ]
  },
  {
   "cell_type": "code",
   "execution_count": 47,
   "id": "f5f1a4c8",
   "metadata": {},
   "outputs": [
    {
     "data": {
      "text/html": [
       "<div>\n",
       "<style scoped>\n",
       "    .dataframe tbody tr th:only-of-type {\n",
       "        vertical-align: middle;\n",
       "    }\n",
       "\n",
       "    .dataframe tbody tr th {\n",
       "        vertical-align: top;\n",
       "    }\n",
       "\n",
       "    .dataframe thead th {\n",
       "        text-align: right;\n",
       "    }\n",
       "</style>\n",
       "<table border=\"1\" class=\"dataframe\">\n",
       "  <thead>\n",
       "    <tr style=\"text-align: right;\">\n",
       "      <th></th>\n",
       "      <th>streetname</th>\n",
       "      <th>id</th>\n",
       "      <th>areaid</th>\n",
       "      <th>okrug</th>\n",
       "      <th>area</th>\n",
       "    </tr>\n",
       "  </thead>\n",
       "  <tbody>\n",
       "    <tr>\n",
       "      <td>0</td>\n",
       "      <td>проспект Мира</td>\n",
       "      <td>204</td>\n",
       "      <td>70</td>\n",
       "      <td>СВАО</td>\n",
       "      <td>Алексеевский район</td>\n",
       "    </tr>\n",
       "    <tr>\n",
       "      <td>1</td>\n",
       "      <td>проспект Мира</td>\n",
       "      <td>204</td>\n",
       "      <td>86</td>\n",
       "      <td>СВАО</td>\n",
       "      <td>Ярославский Район</td>\n",
       "    </tr>\n",
       "    <tr>\n",
       "      <td>2</td>\n",
       "      <td>проспект Мира</td>\n",
       "      <td>204</td>\n",
       "      <td>78</td>\n",
       "      <td>СВАО</td>\n",
       "      <td>Район Марьина роща</td>\n",
       "    </tr>\n",
       "    <tr>\n",
       "      <td>3</td>\n",
       "      <td>проспект Мира</td>\n",
       "      <td>204</td>\n",
       "      <td>79</td>\n",
       "      <td>СВАО</td>\n",
       "      <td>Останкинский район</td>\n",
       "    </tr>\n",
       "    <tr>\n",
       "      <td>4</td>\n",
       "      <td>проспект Мира</td>\n",
       "      <td>204</td>\n",
       "      <td>81</td>\n",
       "      <td>СВАО</td>\n",
       "      <td>Район Ростокино</td>\n",
       "    </tr>\n",
       "    <tr>\n",
       "      <td>5</td>\n",
       "      <td>проспект Мира</td>\n",
       "      <td>204</td>\n",
       "      <td>82</td>\n",
       "      <td>СВАО</td>\n",
       "      <td>Район Свиблово</td>\n",
       "    </tr>\n",
       "    <tr>\n",
       "      <td>6</td>\n",
       "      <td>проспект Мира</td>\n",
       "      <td>204</td>\n",
       "      <td>16</td>\n",
       "      <td>ЦАО</td>\n",
       "      <td>Мещанский район</td>\n",
       "    </tr>\n",
       "    <tr>\n",
       "      <td>7</td>\n",
       "      <td>Профсоюзная улица</td>\n",
       "      <td>182</td>\n",
       "      <td>123</td>\n",
       "      <td>ЮЗАО</td>\n",
       "      <td>Академический район</td>\n",
       "    </tr>\n",
       "    <tr>\n",
       "      <td>8</td>\n",
       "      <td>Профсоюзная улица</td>\n",
       "      <td>182</td>\n",
       "      <td>132</td>\n",
       "      <td>ЮЗАО</td>\n",
       "      <td>Район Черемушки</td>\n",
       "    </tr>\n",
       "    <tr>\n",
       "      <td>9</td>\n",
       "      <td>Профсоюзная улица</td>\n",
       "      <td>182</td>\n",
       "      <td>134</td>\n",
       "      <td>ЮЗАО</td>\n",
       "      <td>Район Ясенево</td>\n",
       "    </tr>\n",
       "    <tr>\n",
       "      <td>10</td>\n",
       "      <td>Профсоюзная улица</td>\n",
       "      <td>182</td>\n",
       "      <td>126</td>\n",
       "      <td>ЮЗАО</td>\n",
       "      <td>Район Коньково</td>\n",
       "    </tr>\n",
       "    <tr>\n",
       "      <td>11</td>\n",
       "      <td>Профсоюзная улица</td>\n",
       "      <td>182</td>\n",
       "      <td>129</td>\n",
       "      <td>ЮЗАО</td>\n",
       "      <td>Обручевский район</td>\n",
       "    </tr>\n",
       "    <tr>\n",
       "      <td>12</td>\n",
       "      <td>Профсоюзная улица</td>\n",
       "      <td>182</td>\n",
       "      <td>131</td>\n",
       "      <td>ЮЗАО</td>\n",
       "      <td>Район Теплый Стан</td>\n",
       "    </tr>\n",
       "    <tr>\n",
       "      <td>13</td>\n",
       "      <td>Ленинградский проспект</td>\n",
       "      <td>171</td>\n",
       "      <td>54</td>\n",
       "      <td>САО</td>\n",
       "      <td>Район Аэропорт</td>\n",
       "    </tr>\n",
       "    <tr>\n",
       "      <td>14</td>\n",
       "      <td>Ленинградский проспект</td>\n",
       "      <td>171</td>\n",
       "      <td>55</td>\n",
       "      <td>САО</td>\n",
       "      <td>Район Беговой</td>\n",
       "    </tr>\n",
       "    <tr>\n",
       "      <td>15</td>\n",
       "      <td>Ленинградский проспект</td>\n",
       "      <td>171</td>\n",
       "      <td>69</td>\n",
       "      <td>САО</td>\n",
       "      <td>Хорошевский район</td>\n",
       "    </tr>\n",
       "    <tr>\n",
       "      <td>16</td>\n",
       "      <td>Ленинградский проспект</td>\n",
       "      <td>171</td>\n",
       "      <td>66</td>\n",
       "      <td>САО</td>\n",
       "      <td>Район Сокол</td>\n",
       "    </tr>\n",
       "    <tr>\n",
       "      <td>17</td>\n",
       "      <td>Пресненская набережная</td>\n",
       "      <td>167</td>\n",
       "      <td>17</td>\n",
       "      <td>ЦАО</td>\n",
       "      <td>Пресненский район</td>\n",
       "    </tr>\n",
       "    <tr>\n",
       "      <td>18</td>\n",
       "      <td>Варшавское шоссе</td>\n",
       "      <td>161</td>\n",
       "      <td>109</td>\n",
       "      <td>ЮАО</td>\n",
       "      <td>Район Чертаново Центральное</td>\n",
       "    </tr>\n",
       "    <tr>\n",
       "      <td>19</td>\n",
       "      <td>Варшавское шоссе</td>\n",
       "      <td>161</td>\n",
       "      <td>108</td>\n",
       "      <td>ЮАО</td>\n",
       "      <td>Район Чертаново Северное</td>\n",
       "    </tr>\n",
       "    <tr>\n",
       "      <td>20</td>\n",
       "      <td>Варшавское шоссе</td>\n",
       "      <td>161</td>\n",
       "      <td>110</td>\n",
       "      <td>ЮАО</td>\n",
       "      <td>Район Чертаново Южное</td>\n",
       "    </tr>\n",
       "    <tr>\n",
       "      <td>21</td>\n",
       "      <td>Варшавское шоссе</td>\n",
       "      <td>161</td>\n",
       "      <td>99</td>\n",
       "      <td>ЮАО</td>\n",
       "      <td>Донской район</td>\n",
       "    </tr>\n",
       "    <tr>\n",
       "      <td>22</td>\n",
       "      <td>Варшавское шоссе</td>\n",
       "      <td>161</td>\n",
       "      <td>102</td>\n",
       "      <td>ЮАО</td>\n",
       "      <td>Район Нагатино-Садовники</td>\n",
       "    </tr>\n",
       "    <tr>\n",
       "      <td>23</td>\n",
       "      <td>Варшавское шоссе</td>\n",
       "      <td>161</td>\n",
       "      <td>104</td>\n",
       "      <td>ЮАО</td>\n",
       "      <td>Нагорный район</td>\n",
       "    </tr>\n",
       "    <tr>\n",
       "      <td>24</td>\n",
       "      <td>Варшавское шоссе</td>\n",
       "      <td>161</td>\n",
       "      <td>130</td>\n",
       "      <td>ЮЗАО</td>\n",
       "      <td>Район Северное Бутово</td>\n",
       "    </tr>\n",
       "    <tr>\n",
       "      <td>25</td>\n",
       "      <td>Варшавское шоссе</td>\n",
       "      <td>161</td>\n",
       "      <td>133</td>\n",
       "      <td>ЮЗАО</td>\n",
       "      <td>Район Южное Бутово</td>\n",
       "    </tr>\n",
       "    <tr>\n",
       "      <td>26</td>\n",
       "      <td>Ленинский проспект</td>\n",
       "      <td>147</td>\n",
       "      <td>44</td>\n",
       "      <td>ЗАО</td>\n",
       "      <td>Район Проспект Вернадского</td>\n",
       "    </tr>\n",
       "    <tr>\n",
       "      <td>27</td>\n",
       "      <td>Ленинский проспект</td>\n",
       "      <td>147</td>\n",
       "      <td>47</td>\n",
       "      <td>ЗАО</td>\n",
       "      <td>Район Тропарево-Никулино</td>\n",
       "    </tr>\n",
       "    <tr>\n",
       "      <td>28</td>\n",
       "      <td>Ленинский проспект</td>\n",
       "      <td>147</td>\n",
       "      <td>99</td>\n",
       "      <td>ЮАО</td>\n",
       "      <td>Донской район</td>\n",
       "    </tr>\n",
       "    <tr>\n",
       "      <td>29</td>\n",
       "      <td>Ленинский проспект</td>\n",
       "      <td>147</td>\n",
       "      <td>124</td>\n",
       "      <td>ЮЗАО</td>\n",
       "      <td>Район Гагаринский</td>\n",
       "    </tr>\n",
       "    <tr>\n",
       "      <td>30</td>\n",
       "      <td>Ленинский проспект</td>\n",
       "      <td>147</td>\n",
       "      <td>128</td>\n",
       "      <td>ЮЗАО</td>\n",
       "      <td>Ломоносовский район</td>\n",
       "    </tr>\n",
       "    <tr>\n",
       "      <td>31</td>\n",
       "      <td>Ленинский проспект</td>\n",
       "      <td>147</td>\n",
       "      <td>129</td>\n",
       "      <td>ЮЗАО</td>\n",
       "      <td>Обручевский район</td>\n",
       "    </tr>\n",
       "    <tr>\n",
       "      <td>32</td>\n",
       "      <td>Ленинский проспект</td>\n",
       "      <td>147</td>\n",
       "      <td>131</td>\n",
       "      <td>ЮЗАО</td>\n",
       "      <td>Район Теплый Стан</td>\n",
       "    </tr>\n",
       "    <tr>\n",
       "      <td>33</td>\n",
       "      <td>Ленинский проспект</td>\n",
       "      <td>147</td>\n",
       "      <td>21</td>\n",
       "      <td>ЦАО</td>\n",
       "      <td>Район Якиманка</td>\n",
       "    </tr>\n",
       "    <tr>\n",
       "      <td>34</td>\n",
       "      <td>проспект Вернадского</td>\n",
       "      <td>132</td>\n",
       "      <td>44</td>\n",
       "      <td>ЗАО</td>\n",
       "      <td>Район Проспект Вернадского</td>\n",
       "    </tr>\n",
       "    <tr>\n",
       "      <td>35</td>\n",
       "      <td>проспект Вернадского</td>\n",
       "      <td>132</td>\n",
       "      <td>45</td>\n",
       "      <td>ЗАО</td>\n",
       "      <td>Район Раменки</td>\n",
       "    </tr>\n",
       "    <tr>\n",
       "      <td>36</td>\n",
       "      <td>проспект Вернадского</td>\n",
       "      <td>132</td>\n",
       "      <td>47</td>\n",
       "      <td>ЗАО</td>\n",
       "      <td>Район Тропарево-Никулино</td>\n",
       "    </tr>\n",
       "    <tr>\n",
       "      <td>37</td>\n",
       "      <td>проспект Вернадского</td>\n",
       "      <td>132</td>\n",
       "      <td>124</td>\n",
       "      <td>ЮЗАО</td>\n",
       "      <td>Район Гагаринский</td>\n",
       "    </tr>\n",
       "    <tr>\n",
       "      <td>38</td>\n",
       "      <td>проспект Вернадского</td>\n",
       "      <td>132</td>\n",
       "      <td>128</td>\n",
       "      <td>ЮЗАО</td>\n",
       "      <td>Ломоносовский район</td>\n",
       "    </tr>\n",
       "    <tr>\n",
       "      <td>39</td>\n",
       "      <td>Кутузовский проспект</td>\n",
       "      <td>114</td>\n",
       "      <td>38</td>\n",
       "      <td>ЗАО</td>\n",
       "      <td>Район Дорогомилово</td>\n",
       "    </tr>\n",
       "    <tr>\n",
       "      <td>40</td>\n",
       "      <td>Кутузовский проспект</td>\n",
       "      <td>114</td>\n",
       "      <td>49</td>\n",
       "      <td>ЗАО</td>\n",
       "      <td>Район Фили-Давыдково</td>\n",
       "    </tr>\n",
       "    <tr>\n",
       "      <td>41</td>\n",
       "      <td>Каширское шоссе</td>\n",
       "      <td>112</td>\n",
       "      <td>101</td>\n",
       "      <td>ЮАО</td>\n",
       "      <td>Район Москворечье-Сабурово</td>\n",
       "    </tr>\n",
       "    <tr>\n",
       "      <td>42</td>\n",
       "      <td>Каширское шоссе</td>\n",
       "      <td>112</td>\n",
       "      <td>102</td>\n",
       "      <td>ЮАО</td>\n",
       "      <td>Район Нагатино-Садовники</td>\n",
       "    </tr>\n",
       "    <tr>\n",
       "      <td>43</td>\n",
       "      <td>Каширское шоссе</td>\n",
       "      <td>112</td>\n",
       "      <td>106</td>\n",
       "      <td>ЮАО</td>\n",
       "      <td>Район Орехово-Борисово Южное</td>\n",
       "    </tr>\n",
       "    <tr>\n",
       "      <td>44</td>\n",
       "      <td>Каширское шоссе</td>\n",
       "      <td>112</td>\n",
       "      <td>105</td>\n",
       "      <td>ЮАО</td>\n",
       "      <td>Район Орехово-Борисово Северное</td>\n",
       "    </tr>\n",
       "    <tr>\n",
       "      <td>45</td>\n",
       "      <td>Кировоградская улица</td>\n",
       "      <td>110</td>\n",
       "      <td>109</td>\n",
       "      <td>ЮАО</td>\n",
       "      <td>Район Чертаново Центральное</td>\n",
       "    </tr>\n",
       "    <tr>\n",
       "      <td>46</td>\n",
       "      <td>Кировоградская улица</td>\n",
       "      <td>110</td>\n",
       "      <td>108</td>\n",
       "      <td>ЮАО</td>\n",
       "      <td>Район Чертаново Северное</td>\n",
       "    </tr>\n",
       "    <tr>\n",
       "      <td>47</td>\n",
       "      <td>Кировоградская улица</td>\n",
       "      <td>110</td>\n",
       "      <td>110</td>\n",
       "      <td>ЮАО</td>\n",
       "      <td>Район Чертаново Южное</td>\n",
       "    </tr>\n",
       "  </tbody>\n",
       "</table>\n",
       "</div>"
      ],
      "text/plain": [
       "                streetname   id  areaid okrug                             area\n",
       "0            проспект Мира  204      70  СВАО               Алексеевский район\n",
       "1            проспект Мира  204      86  СВАО                Ярославский Район\n",
       "2            проспект Мира  204      78  СВАО               Район Марьина роща\n",
       "3            проспект Мира  204      79  СВАО               Останкинский район\n",
       "4            проспект Мира  204      81  СВАО                  Район Ростокино\n",
       "5            проспект Мира  204      82  СВАО                   Район Свиблово\n",
       "6            проспект Мира  204      16   ЦАО                  Мещанский район\n",
       "7        Профсоюзная улица  182     123  ЮЗАО              Академический район\n",
       "8        Профсоюзная улица  182     132  ЮЗАО                  Район Черемушки\n",
       "9        Профсоюзная улица  182     134  ЮЗАО                    Район Ясенево\n",
       "10       Профсоюзная улица  182     126  ЮЗАО                   Район Коньково\n",
       "11       Профсоюзная улица  182     129  ЮЗАО                Обручевский район\n",
       "12       Профсоюзная улица  182     131  ЮЗАО                Район Теплый Стан\n",
       "13  Ленинградский проспект  171      54   САО                   Район Аэропорт\n",
       "14  Ленинградский проспект  171      55   САО                    Район Беговой\n",
       "15  Ленинградский проспект  171      69   САО                Хорошевский район\n",
       "16  Ленинградский проспект  171      66   САО                      Район Сокол\n",
       "17  Пресненская набережная  167      17   ЦАО                Пресненский район\n",
       "18        Варшавское шоссе  161     109   ЮАО      Район Чертаново Центральное\n",
       "19        Варшавское шоссе  161     108   ЮАО         Район Чертаново Северное\n",
       "20        Варшавское шоссе  161     110   ЮАО            Район Чертаново Южное\n",
       "21        Варшавское шоссе  161      99   ЮАО                    Донской район\n",
       "22        Варшавское шоссе  161     102   ЮАО         Район Нагатино-Садовники\n",
       "23        Варшавское шоссе  161     104   ЮАО                   Нагорный район\n",
       "24        Варшавское шоссе  161     130  ЮЗАО            Район Северное Бутово\n",
       "25        Варшавское шоссе  161     133  ЮЗАО               Район Южное Бутово\n",
       "26      Ленинский проспект  147      44   ЗАО       Район Проспект Вернадского\n",
       "27      Ленинский проспект  147      47   ЗАО         Район Тропарево-Никулино\n",
       "28      Ленинский проспект  147      99   ЮАО                    Донской район\n",
       "29      Ленинский проспект  147     124  ЮЗАО                Район Гагаринский\n",
       "30      Ленинский проспект  147     128  ЮЗАО              Ломоносовский район\n",
       "31      Ленинский проспект  147     129  ЮЗАО                Обручевский район\n",
       "32      Ленинский проспект  147     131  ЮЗАО                Район Теплый Стан\n",
       "33      Ленинский проспект  147      21   ЦАО                   Район Якиманка\n",
       "34    проспект Вернадского  132      44   ЗАО       Район Проспект Вернадского\n",
       "35    проспект Вернадского  132      45   ЗАО                    Район Раменки\n",
       "36    проспект Вернадского  132      47   ЗАО         Район Тропарево-Никулино\n",
       "37    проспект Вернадского  132     124  ЮЗАО                Район Гагаринский\n",
       "38    проспект Вернадского  132     128  ЮЗАО              Ломоносовский район\n",
       "39    Кутузовский проспект  114      38   ЗАО               Район Дорогомилово\n",
       "40    Кутузовский проспект  114      49   ЗАО             Район Фили-Давыдково\n",
       "41         Каширское шоссе  112     101   ЮАО       Район Москворечье-Сабурово\n",
       "42         Каширское шоссе  112     102   ЮАО         Район Нагатино-Садовники\n",
       "43         Каширское шоссе  112     106   ЮАО     Район Орехово-Борисово Южное\n",
       "44         Каширское шоссе  112     105   ЮАО  Район Орехово-Борисово Северное\n",
       "45    Кировоградская улица  110     109   ЮАО      Район Чертаново Центральное\n",
       "46    Кировоградская улица  110     108   ЮАО         Район Чертаново Северное\n",
       "47    Кировоградская улица  110     110   ЮАО            Район Чертаново Южное"
      ]
     },
     "execution_count": 47,
     "metadata": {},
     "output_type": "execute_result"
    }
   ],
   "source": [
    "top_ten_streets = rest_data.groupby('streetname', as_index=False)['id']\\\n",
    "                           .count().sort_values(by='id', ascending=False)\\\n",
    "                           .query('streetname != \"город Зеленоград\" & streetname != \"поселение Сосенское\"')\\\n",
    "                           .head(10)\n",
    "top_ten_streets = top_ten_streets.merge(df, on='streetname', how='left')\n",
    "top_ten_streets"
   ]
  },
  {
   "cell_type": "markdown",
   "id": "8b050b3b",
   "metadata": {},
   "source": [
    "Отдельно вывдем на экран уникальные названия районов, где располагаются топ-10 улиц."
   ]
  },
  {
   "cell_type": "code",
   "execution_count": 48,
   "id": "b2f62cc4",
   "metadata": {},
   "outputs": [
    {
     "data": {
      "text/plain": [
       "array(['Алексеевский район', 'Ярославский Район', 'Район Марьина роща',\n",
       "       'Останкинский район', 'Район Ростокино', 'Район Свиблово',\n",
       "       'Мещанский район', 'Академический район', 'Район Черемушки',\n",
       "       'Район Ясенево', 'Район Коньково', 'Обручевский район',\n",
       "       'Район Теплый Стан', 'Район Аэропорт', 'Район Беговой',\n",
       "       'Хорошевский район', 'Район Сокол', 'Пресненский район',\n",
       "       'Район Чертаново Центральное', 'Район Чертаново Северное',\n",
       "       'Район Чертаново Южное', 'Донской район',\n",
       "       'Район Нагатино-Садовники', 'Нагорный район',\n",
       "       'Район Северное Бутово', 'Район Южное Бутово',\n",
       "       'Район Проспект Вернадского', 'Район Тропарево-Никулино',\n",
       "       'Район Гагаринский', 'Ломоносовский район', 'Район Якиманка',\n",
       "       'Район Раменки', 'Район Дорогомилово', 'Район Фили-Давыдково',\n",
       "       'Район Москворечье-Сабурово', 'Район Орехово-Борисово Южное',\n",
       "       'Район Орехово-Борисово Северное'], dtype=object)"
      ]
     },
     "execution_count": 48,
     "metadata": {},
     "output_type": "execute_result"
    }
   ],
   "source": [
    "top_ten_streets['area'].unique()"
   ]
  },
  {
   "cell_type": "markdown",
   "id": "b0ae5354",
   "metadata": {},
   "source": [
    "Построим столбчатую диаграмму по количетсву заведений по улицам."
   ]
  },
  {
   "cell_type": "code",
   "execution_count": 49,
   "id": "cb638090",
   "metadata": {},
   "outputs": [
    {
     "data": {
      "text/plain": [
       "<Figure size 720x360 with 0 Axes>"
      ]
     },
     "metadata": {},
     "output_type": "display_data"
    },
    {
     "data": {
      "image/png": "[encoded data removed]",
      "text/plain": [
       "<Figure size 360x360 with 1 Axes>"
      ]
     },
     "metadata": {
      "image/png": {
       "height": 367,
       "width": 356
      },
      "needs_background": "light"
     },
     "output_type": "display_data"
    }
   ],
   "source": [
    "plt.figure(figsize=(10, 5))\n",
    "sns.catplot(x='id', y='streetname', kind='bar', data=top_ten_streets)\n",
    "plt.title('Количество заведений по улицам')\n",
    "plt.ylabel('')\n",
    "plt.xlabel('Количество заведений')\n",
    "plt.show()"
   ]
  },
  {
   "cell_type": "markdown",
   "id": "d675edf7",
   "metadata": {},
   "source": [
    "Самые популярные улицы для размещения объектов общественного питания - **проспект Мира, Профсоюзная ул., Ленинградский проспект, Пресненская набережная.** Если обобщать, то это крупные улицы либо улицы, которые располагаются близко к центру Москвы.\n",
    "\n",
    "Если разделить по районам, то это раойны относящиеся к северу, западу и югу Москвы. \n",
    "\n",
    "(Однако стоит заметить, что так как наше исследование не предполагает анализа местоположения и удаленности от центра заведений, мы не можем проанализировать многочисленные заведения в центре, располагающиеся на многих небольших улицах.)"
   ]
  },
  {
   "cell_type": "markdown",
   "id": "037b89e5",
   "metadata": {},
   "source": [
    "Также проанализируем распределение заведений по количеству посадочных мест по топ-10 улиц."
   ]
  },
  {
   "cell_type": "code",
   "execution_count": 50,
   "id": "eaa237a4",
   "metadata": {},
   "outputs": [],
   "source": [
    "top_ten_streets_list = top_ten_streets['streetname'].unique()\n",
    "data = rest_data.query('streetname in @top_ten_streets_list')"
   ]
  },
  {
   "cell_type": "markdown",
   "id": "40ac3a98",
   "metadata": {},
   "source": [
    "Построим диаграмму распределения."
   ]
  },
  {
   "cell_type": "code",
   "execution_count": 51,
   "id": "529ff520",
   "metadata": {
    "scrolled": true
   },
   "outputs": [
    {
     "data": {
      "image/png": "[encoded data removed]",
      "text/plain": [
       "<Figure size 720x360 with 1 Axes>"
      ]
     },
     "metadata": {
      "image/png": {
       "height": 331,
       "width": 717
      },
      "needs_background": "light"
     },
     "output_type": "display_data"
    }
   ],
   "source": [
    "plt.figure(figsize=(10, 5))\n",
    "ax = sns.stripplot(x='number', y='streetname', data=data)\n",
    "plt.title('Распределение заведений по количеству посадочных мест по улицам')\n",
    "plt.ylabel('')\n",
    "plt.xlabel('Количество посадочных мест')\n",
    "plt.show()"
   ]
  },
  {
   "cell_type": "markdown",
   "id": "7c33c613",
   "metadata": {},
   "source": [
    "А также интерактивный график."
   ]
  },
  {
   "cell_type": "markdown",
   "id": "adcdfc73",
   "metadata": {},
   "source": [
    "fig = px.scatter(data, x='number', y='streetname', color='streetname'\\\n",
    "                , labels={'number':'Количетво', 'streetname':''}\\\n",
    "                , title='Распределение заведений по количеству посадочных мест по улицам')\n",
    "fig.show()"
   ]
  },
  {
   "cell_type": "markdown",
   "id": "db87899c",
   "metadata": {},
   "source": [
    "На диаграмме мы видим очень большие выбросы - это крупные заведения предприятий либо арены и концерт_холлы.\n",
    "\n",
    "Вывод: **основная часть объектов распределены на топ-10 улицах в пределах до 100 посадочных мест**. "
   ]
  },
  {
   "cell_type": "code",
   "execution_count": 53,
   "id": "d1cb3d6d",
   "metadata": {},
   "outputs": [
    {
     "data": {
      "text/html": [
       "<div>\n",
       "<style scoped>\n",
       "    .dataframe tbody tr th:only-of-type {\n",
       "        vertical-align: middle;\n",
       "    }\n",
       "\n",
       "    .dataframe tbody tr th {\n",
       "        vertical-align: top;\n",
       "    }\n",
       "\n",
       "    .dataframe thead th {\n",
       "        text-align: right;\n",
       "    }\n",
       "</style>\n",
       "<table border=\"1\" class=\"dataframe\">\n",
       "  <thead>\n",
       "    <tr style=\"text-align: right;\">\n",
       "      <th></th>\n",
       "      <th>id</th>\n",
       "      <th>object_name</th>\n",
       "      <th>chain</th>\n",
       "      <th>object_type</th>\n",
       "      <th>address</th>\n",
       "      <th>number</th>\n",
       "      <th>streetname</th>\n",
       "    </tr>\n",
       "  </thead>\n",
       "  <tbody>\n",
       "    <tr>\n",
       "      <td>12723</td>\n",
       "      <td>199696</td>\n",
       "      <td>Arena by Soho Family</td>\n",
       "      <td>нет</td>\n",
       "      <td>бар</td>\n",
       "      <td>город Москва, Кутузовский проспект, дом 36, строение 11</td>\n",
       "      <td>1700</td>\n",
       "      <td>Кутузовский проспект</td>\n",
       "    </tr>\n",
       "    <tr>\n",
       "      <td>9064</td>\n",
       "      <td>19719</td>\n",
       "      <td>КОМБИНАТ ПИТАНИЯ «УПРАВЛЕНИЕ АКАДЕМСЕРВИС»</td>\n",
       "      <td>нет</td>\n",
       "      <td>столовая</td>\n",
       "      <td>город Москва, проспект Вернадского, дом 84, строение 1</td>\n",
       "      <td>1288</td>\n",
       "      <td>проспект Вернадского</td>\n",
       "    </tr>\n",
       "    <tr>\n",
       "      <td>4480</td>\n",
       "      <td>27024</td>\n",
       "      <td>РУМ СЕРВИС</td>\n",
       "      <td>нет</td>\n",
       "      <td>ресторан</td>\n",
       "      <td>город Москва, Кутузовский проспект, дом 2/1, строение 1</td>\n",
       "      <td>1200</td>\n",
       "      <td>Кутузовский проспект</td>\n",
       "    </tr>\n",
       "    <tr>\n",
       "      <td>4110</td>\n",
       "      <td>29320</td>\n",
       "      <td>Столовая</td>\n",
       "      <td>нет</td>\n",
       "      <td>столовая</td>\n",
       "      <td>город Москва, Каширское шоссе, дом 31</td>\n",
       "      <td>680</td>\n",
       "      <td>Каширское шоссе</td>\n",
       "    </tr>\n",
       "    <tr>\n",
       "      <td>7104</td>\n",
       "      <td>27033</td>\n",
       "      <td>Банкетный</td>\n",
       "      <td>нет</td>\n",
       "      <td>ресторан</td>\n",
       "      <td>город Москва, Ленинградский проспект, дом 31А, строение 1</td>\n",
       "      <td>625</td>\n",
       "      <td>Ленинградский проспект</td>\n",
       "    </tr>\n",
       "    <tr>\n",
       "      <td>7603</td>\n",
       "      <td>28149</td>\n",
       "      <td>САПФИР 1</td>\n",
       "      <td>нет</td>\n",
       "      <td>столовая</td>\n",
       "      <td>город Москва, Варшавское шоссе, дом 127</td>\n",
       "      <td>500</td>\n",
       "      <td>Варшавское шоссе</td>\n",
       "    </tr>\n",
       "    <tr>\n",
       "      <td>6441</td>\n",
       "      <td>22856</td>\n",
       "      <td>Ресторан «ЦДТ»</td>\n",
       "      <td>нет</td>\n",
       "      <td>ресторан</td>\n",
       "      <td>город Москва, Ленинский проспект, дом 146</td>\n",
       "      <td>495</td>\n",
       "      <td>Ленинский проспект</td>\n",
       "    </tr>\n",
       "    <tr>\n",
       "      <td>9327</td>\n",
       "      <td>167290</td>\n",
       "      <td>Ресторан Фреш Сити</td>\n",
       "      <td>нет</td>\n",
       "      <td>ресторан</td>\n",
       "      <td>город Москва, Пресненская набережная, дом 8, строение 1</td>\n",
       "      <td>478</td>\n",
       "      <td>Пресненская набережная</td>\n",
       "    </tr>\n",
       "    <tr>\n",
       "      <td>1622</td>\n",
       "      <td>23815</td>\n",
       "      <td>Огни Баку</td>\n",
       "      <td>нет</td>\n",
       "      <td>ресторан</td>\n",
       "      <td>город Москва, Варшавское шоссе, дом 152, корпус 2</td>\n",
       "      <td>380</td>\n",
       "      <td>Варшавское шоссе</td>\n",
       "    </tr>\n",
       "    <tr>\n",
       "      <td>8469</td>\n",
       "      <td>93810</td>\n",
       "      <td>Иль Патио</td>\n",
       "      <td>да</td>\n",
       "      <td>ресторан</td>\n",
       "      <td>город Москва, Пресненская набережная, дом 2</td>\n",
       "      <td>350</td>\n",
       "      <td>Пресненская набережная</td>\n",
       "    </tr>\n",
       "  </tbody>\n",
       "</table>\n",
       "</div>"
      ],
      "text/plain": [
       "           id                                 object_name chain object_type  \\\n",
       "12723  199696                        Arena by Soho Family   нет         бар   \n",
       "9064    19719  КОМБИНАТ ПИТАНИЯ «УПРАВЛЕНИЕ АКАДЕМСЕРВИС»   нет    столовая   \n",
       "4480    27024                                  РУМ СЕРВИС   нет    ресторан   \n",
       "4110    29320                                    Столовая   нет    столовая   \n",
       "7104    27033                                   Банкетный   нет    ресторан   \n",
       "7603    28149                                    САПФИР 1   нет    столовая   \n",
       "6441    22856                              Ресторан «ЦДТ»   нет    ресторан   \n",
       "9327   167290                          Ресторан Фреш Сити   нет    ресторан   \n",
       "1622    23815                                   Огни Баку   нет    ресторан   \n",
       "8469    93810                                   Иль Патио    да    ресторан   \n",
       "\n",
       "                                                         address  number  \\\n",
       "12723    город Москва, Кутузовский проспект, дом 36, строение 11    1700   \n",
       "9064      город Москва, проспект Вернадского, дом 84, строение 1    1288   \n",
       "4480     город Москва, Кутузовский проспект, дом 2/1, строение 1    1200   \n",
       "4110                       город Москва, Каширское шоссе, дом 31     680   \n",
       "7104   город Москва, Ленинградский проспект, дом 31А, строение 1     625   \n",
       "7603                     город Москва, Варшавское шоссе, дом 127     500   \n",
       "6441                   город Москва, Ленинский проспект, дом 146     495   \n",
       "9327     город Москва, Пресненская набережная, дом 8, строение 1     478   \n",
       "1622           город Москва, Варшавское шоссе, дом 152, корпус 2     380   \n",
       "8469                 город Москва, Пресненская набережная, дом 2     350   \n",
       "\n",
       "                   streetname  \n",
       "12723    Кутузовский проспект  \n",
       "9064     проспект Вернадского  \n",
       "4480     Кутузовский проспект  \n",
       "4110          Каширское шоссе  \n",
       "7104   Ленинградский проспект  \n",
       "7603         Варшавское шоссе  \n",
       "6441       Ленинский проспект  \n",
       "9327   Пресненская набережная  \n",
       "1622         Варшавское шоссе  \n",
       "8469   Пресненская набережная  "
      ]
     },
     "execution_count": 53,
     "metadata": {},
     "output_type": "execute_result"
    }
   ],
   "source": [
    "data.sort_values(by='number', ascending=False).head(10)"
   ]
  },
  {
   "cell_type": "markdown",
   "id": "af59b23a",
   "metadata": {},
   "source": [
    "# 8. Улицы с одним объектом общественного питания."
   ]
  },
  {
   "cell_type": "markdown",
   "id": "2969a917",
   "metadata": {},
   "source": [
    "Также нам необходимо найти улицы на которых располагется всего один объект общественного питания."
   ]
  },
  {
   "cell_type": "markdown",
   "id": "b17b9329",
   "metadata": {},
   "source": [
    "Для этого сгруппируем данные по улицам и отфильтруем по количеству заведений."
   ]
  },
  {
   "cell_type": "code",
   "execution_count": 54,
   "id": "2781f767",
   "metadata": {},
   "outputs": [
    {
     "name": "stdout",
     "output_type": "stream",
     "text": [
      "Количество улиц с одним объектом питания: 571\n"
     ]
    }
   ],
   "source": [
    "one_rest_streets = rest_data.groupby('streetname', as_index=False)['id']\\\n",
    "                           .count().query('id == 1')\n",
    "print('Количество улиц с одним объектом питания:', len(one_rest_streets))"
   ]
  },
  {
   "cell_type": "markdown",
   "id": "c4f3bf57",
   "metadata": {},
   "source": [
    "В Москве есть 571 улица с всего одним объектом общественного питания."
   ]
  },
  {
   "cell_type": "code",
   "execution_count": 55,
   "id": "147e4552",
   "metadata": {},
   "outputs": [
    {
     "data": {
      "text/html": [
       "<div>\n",
       "<style scoped>\n",
       "    .dataframe tbody tr th:only-of-type {\n",
       "        vertical-align: middle;\n",
       "    }\n",
       "\n",
       "    .dataframe tbody tr th {\n",
       "        vertical-align: top;\n",
       "    }\n",
       "\n",
       "    .dataframe thead th {\n",
       "        text-align: right;\n",
       "    }\n",
       "</style>\n",
       "<table border=\"1\" class=\"dataframe\">\n",
       "  <thead>\n",
       "    <tr style=\"text-align: right;\">\n",
       "      <th></th>\n",
       "      <th>streetname</th>\n",
       "      <th>id</th>\n",
       "    </tr>\n",
       "  </thead>\n",
       "  <tbody>\n",
       "    <tr>\n",
       "      <td>2</td>\n",
       "      <td>1-й Балтийский переулок</td>\n",
       "      <td>1</td>\n",
       "    </tr>\n",
       "    <tr>\n",
       "      <td>3</td>\n",
       "      <td>1-й Басманный переулок</td>\n",
       "      <td>1</td>\n",
       "    </tr>\n",
       "    <tr>\n",
       "      <td>4</td>\n",
       "      <td>1-й Ботанический проезд</td>\n",
       "      <td>1</td>\n",
       "    </tr>\n",
       "    <tr>\n",
       "      <td>7</td>\n",
       "      <td>1-й Вешняковский проезд</td>\n",
       "      <td>1</td>\n",
       "    </tr>\n",
       "    <tr>\n",
       "      <td>9</td>\n",
       "      <td>1-й Голутвинский переулок</td>\n",
       "      <td>1</td>\n",
       "    </tr>\n",
       "    <tr>\n",
       "      <td>...</td>\n",
       "      <td>...</td>\n",
       "      <td>...</td>\n",
       "    </tr>\n",
       "    <tr>\n",
       "      <td>1873</td>\n",
       "      <td>улица Шеногина</td>\n",
       "      <td>1</td>\n",
       "    </tr>\n",
       "    <tr>\n",
       "      <td>1876</td>\n",
       "      <td>улица Шумилова</td>\n",
       "      <td>1</td>\n",
       "    </tr>\n",
       "    <tr>\n",
       "      <td>1877</td>\n",
       "      <td>улица Шумкина</td>\n",
       "      <td>1</td>\n",
       "    </tr>\n",
       "    <tr>\n",
       "      <td>1881</td>\n",
       "      <td>улица Щорса</td>\n",
       "      <td>1</td>\n",
       "    </tr>\n",
       "    <tr>\n",
       "      <td>1886</td>\n",
       "      <td>шоссе Фрезер</td>\n",
       "      <td>1</td>\n",
       "    </tr>\n",
       "  </tbody>\n",
       "</table>\n",
       "<p>571 rows × 2 columns</p>\n",
       "</div>"
      ],
      "text/plain": [
       "                     streetname  id\n",
       "2       1-й Балтийский переулок   1\n",
       "3        1-й Басманный переулок   1\n",
       "4       1-й Ботанический проезд   1\n",
       "7       1-й Вешняковский проезд   1\n",
       "9     1-й Голутвинский переулок   1\n",
       "...                         ...  ..\n",
       "1873             улица Шеногина   1\n",
       "1876             улица Шумилова   1\n",
       "1877              улица Шумкина   1\n",
       "1881                улица Щорса   1\n",
       "1886               шоссе Фрезер   1\n",
       "\n",
       "[571 rows x 2 columns]"
      ]
     },
     "execution_count": 55,
     "metadata": {},
     "output_type": "execute_result"
    }
   ],
   "source": [
    "one_rest_streets"
   ]
  },
  {
   "cell_type": "markdown",
   "id": "9158c37e",
   "metadata": {},
   "source": [
    "Посмотрим на районы где располаются эти улицы."
   ]
  },
  {
   "cell_type": "code",
   "execution_count": 56,
   "id": "ccae562b",
   "metadata": {},
   "outputs": [
    {
     "data": {
      "text/html": [
       "<div>\n",
       "<style scoped>\n",
       "    .dataframe tbody tr th:only-of-type {\n",
       "        vertical-align: middle;\n",
       "    }\n",
       "\n",
       "    .dataframe tbody tr th {\n",
       "        vertical-align: top;\n",
       "    }\n",
       "\n",
       "    .dataframe thead th {\n",
       "        text-align: right;\n",
       "    }\n",
       "</style>\n",
       "<table border=\"1\" class=\"dataframe\">\n",
       "  <thead>\n",
       "    <tr style=\"text-align: right;\">\n",
       "      <th></th>\n",
       "      <th>streetname</th>\n",
       "    </tr>\n",
       "    <tr>\n",
       "      <th>area</th>\n",
       "      <th></th>\n",
       "    </tr>\n",
       "  </thead>\n",
       "  <tbody>\n",
       "    <tr>\n",
       "      <td>Таганский район</td>\n",
       "      <td>27</td>\n",
       "    </tr>\n",
       "    <tr>\n",
       "      <td>Район Хамовники</td>\n",
       "      <td>26</td>\n",
       "    </tr>\n",
       "    <tr>\n",
       "      <td>Басманный район</td>\n",
       "      <td>25</td>\n",
       "    </tr>\n",
       "    <tr>\n",
       "      <td>Тверской район</td>\n",
       "      <td>20</td>\n",
       "    </tr>\n",
       "    <tr>\n",
       "      <td>Пресненский район</td>\n",
       "      <td>19</td>\n",
       "    </tr>\n",
       "    <tr>\n",
       "      <td>...</td>\n",
       "      <td>...</td>\n",
       "    </tr>\n",
       "    <tr>\n",
       "      <td>Район Марьино</td>\n",
       "      <td>1</td>\n",
       "    </tr>\n",
       "    <tr>\n",
       "      <td>Район Матушкино-Савелки</td>\n",
       "      <td>1</td>\n",
       "    </tr>\n",
       "    <tr>\n",
       "      <td>Район Метрогородок</td>\n",
       "      <td>1</td>\n",
       "    </tr>\n",
       "    <tr>\n",
       "      <td>Район Москворечье-Сабурово</td>\n",
       "      <td>1</td>\n",
       "    </tr>\n",
       "    <tr>\n",
       "      <td>Обручевский район</td>\n",
       "      <td>1</td>\n",
       "    </tr>\n",
       "  </tbody>\n",
       "</table>\n",
       "<p>99 rows × 1 columns</p>\n",
       "</div>"
      ],
      "text/plain": [
       "                            streetname\n",
       "area                                  \n",
       "Таганский район                     27\n",
       "Район Хамовники                     26\n",
       "Басманный район                     25\n",
       "Тверской район                      20\n",
       "Пресненский район                   19\n",
       "...                                ...\n",
       "Район Марьино                        1\n",
       "Район Матушкино-Савелки              1\n",
       "Район Метрогородок                   1\n",
       "Район Москворечье-Сабурово           1\n",
       "Обручевский район                    1\n",
       "\n",
       "[99 rows x 1 columns]"
      ]
     },
     "execution_count": 56,
     "metadata": {},
     "output_type": "execute_result"
    }
   ],
   "source": [
    "one_rest_streets = one_rest_streets.merge(df, on='streetname', how='left')\n",
    "one_rest_streets.groupby('area').agg({'streetname':'count'}).sort_values(by='streetname', ascending=False)"
   ]
  },
  {
   "cell_type": "markdown",
   "id": "bdec87d2",
   "metadata": {},
   "source": [
    "Больше всего улиц с единственным объектом общественного питания находится в раойнах Даниловский, Мещанский, Донской, Марьина Роща, Якиманка. Это связано с тем, что в этих районах много различных улиц и переулков."
   ]
  },
  {
   "cell_type": "code",
   "execution_count": 57,
   "id": "f7576083",
   "metadata": {},
   "outputs": [
    {
     "data": {
      "text/plain": [
       "54"
      ]
     },
     "execution_count": 57,
     "metadata": {},
     "output_type": "execute_result"
    }
   ],
   "source": [
    "one_rest_streets['area'].isna().sum()"
   ]
  },
  {
   "cell_type": "code",
   "execution_count": 58,
   "id": "8ea76e33",
   "metadata": {
    "scrolled": false
   },
   "outputs": [
    {
     "data": {
      "text/html": [
       "<div>\n",
       "<style scoped>\n",
       "    .dataframe tbody tr th:only-of-type {\n",
       "        vertical-align: middle;\n",
       "    }\n",
       "\n",
       "    .dataframe tbody tr th {\n",
       "        vertical-align: top;\n",
       "    }\n",
       "\n",
       "    .dataframe thead th {\n",
       "        text-align: right;\n",
       "    }\n",
       "</style>\n",
       "<table border=\"1\" class=\"dataframe\">\n",
       "  <thead>\n",
       "    <tr style=\"text-align: right;\">\n",
       "      <th></th>\n",
       "      <th>streetname</th>\n",
       "      <th>id</th>\n",
       "      <th>areaid</th>\n",
       "      <th>okrug</th>\n",
       "      <th>area</th>\n",
       "    </tr>\n",
       "  </thead>\n",
       "  <tbody>\n",
       "    <tr>\n",
       "      <td>39</td>\n",
       "      <td>104-й километр Московской Кольцевой Автодороги</td>\n",
       "      <td>1</td>\n",
       "      <td>NaN</td>\n",
       "      <td>NaN</td>\n",
       "      <td>NaN</td>\n",
       "    </tr>\n",
       "    <tr>\n",
       "      <td>80</td>\n",
       "      <td>26-й километр Московской Кольцевой Автодороги</td>\n",
       "      <td>1</td>\n",
       "      <td>NaN</td>\n",
       "      <td>NaN</td>\n",
       "      <td>NaN</td>\n",
       "    </tr>\n",
       "    <tr>\n",
       "      <td>94</td>\n",
       "      <td>3-я Подрезковская улица</td>\n",
       "      <td>1</td>\n",
       "      <td>NaN</td>\n",
       "      <td>NaN</td>\n",
       "      <td>NaN</td>\n",
       "    </tr>\n",
       "    <tr>\n",
       "      <td>97</td>\n",
       "      <td>30-й километр Московской Кольцевой Автодороги</td>\n",
       "      <td>1</td>\n",
       "      <td>NaN</td>\n",
       "      <td>NaN</td>\n",
       "      <td>NaN</td>\n",
       "    </tr>\n",
       "    <tr>\n",
       "      <td>98</td>\n",
       "      <td>31-й километр Московской Кольцевой Автодороги</td>\n",
       "      <td>1</td>\n",
       "      <td>NaN</td>\n",
       "      <td>NaN</td>\n",
       "      <td>NaN</td>\n",
       "    </tr>\n",
       "    <tr>\n",
       "      <td>99</td>\n",
       "      <td>34-й километр Московской Кольцевой Автодороги</td>\n",
       "      <td>1</td>\n",
       "      <td>NaN</td>\n",
       "      <td>NaN</td>\n",
       "      <td>NaN</td>\n",
       "    </tr>\n",
       "    <tr>\n",
       "      <td>100</td>\n",
       "      <td>38-й километр Московской Кольцевой Автодороги</td>\n",
       "      <td>1</td>\n",
       "      <td>NaN</td>\n",
       "      <td>NaN</td>\n",
       "      <td>NaN</td>\n",
       "    </tr>\n",
       "    <tr>\n",
       "      <td>107</td>\n",
       "      <td>42-й километр Калужского шоссе</td>\n",
       "      <td>1</td>\n",
       "      <td>NaN</td>\n",
       "      <td>NaN</td>\n",
       "      <td>NaN</td>\n",
       "    </tr>\n",
       "    <tr>\n",
       "      <td>108</td>\n",
       "      <td>42-й километр Московской Кольцевой Автодороги</td>\n",
       "      <td>1</td>\n",
       "      <td>NaN</td>\n",
       "      <td>NaN</td>\n",
       "      <td>NaN</td>\n",
       "    </tr>\n",
       "    <tr>\n",
       "      <td>114</td>\n",
       "      <td>56-й километр Московской Кольцевой Автодороги</td>\n",
       "      <td>1</td>\n",
       "      <td>NaN</td>\n",
       "      <td>NaN</td>\n",
       "      <td>NaN</td>\n",
       "    </tr>\n",
       "    <tr>\n",
       "      <td>119</td>\n",
       "      <td>65-й километр Московской Кольцевой Автодороги</td>\n",
       "      <td>1</td>\n",
       "      <td>NaN</td>\n",
       "      <td>NaN</td>\n",
       "      <td>NaN</td>\n",
       "    </tr>\n",
       "    <tr>\n",
       "      <td>120</td>\n",
       "      <td>67-й километр Московской Кольцевой Автодороги</td>\n",
       "      <td>1</td>\n",
       "      <td>NaN</td>\n",
       "      <td>NaN</td>\n",
       "      <td>NaN</td>\n",
       "    </tr>\n",
       "    <tr>\n",
       "      <td>124</td>\n",
       "      <td>78-й километр Московской Кольцевой Автодороги</td>\n",
       "      <td>1</td>\n",
       "      <td>NaN</td>\n",
       "      <td>NaN</td>\n",
       "      <td>NaN</td>\n",
       "    </tr>\n",
       "    <tr>\n",
       "      <td>128</td>\n",
       "      <td>80-й километр Московской Кольцевой Автодороги</td>\n",
       "      <td>1</td>\n",
       "      <td>NaN</td>\n",
       "      <td>NaN</td>\n",
       "      <td>NaN</td>\n",
       "    </tr>\n",
       "    <tr>\n",
       "      <td>318</td>\n",
       "      <td>Новобутовский проезд</td>\n",
       "      <td>1</td>\n",
       "      <td>NaN</td>\n",
       "      <td>NaN</td>\n",
       "      <td>NaN</td>\n",
       "    </tr>\n",
       "    <tr>\n",
       "      <td>325</td>\n",
       "      <td>Новохорошёвский проезд</td>\n",
       "      <td>1</td>\n",
       "      <td>NaN</td>\n",
       "      <td>NaN</td>\n",
       "      <td>NaN</td>\n",
       "    </tr>\n",
       "    <tr>\n",
       "      <td>360</td>\n",
       "      <td>Пыжёвский переулок</td>\n",
       "      <td>1</td>\n",
       "      <td>NaN</td>\n",
       "      <td>NaN</td>\n",
       "      <td>NaN</td>\n",
       "    </tr>\n",
       "    <tr>\n",
       "      <td>468</td>\n",
       "      <td>деревня Давыдково</td>\n",
       "      <td>1</td>\n",
       "      <td>NaN</td>\n",
       "      <td>NaN</td>\n",
       "      <td>NaN</td>\n",
       "    </tr>\n",
       "    <tr>\n",
       "      <td>469</td>\n",
       "      <td>деревня Дудкино</td>\n",
       "      <td>1</td>\n",
       "      <td>NaN</td>\n",
       "      <td>NaN</td>\n",
       "      <td>NaN</td>\n",
       "    </tr>\n",
       "    <tr>\n",
       "      <td>470</td>\n",
       "      <td>деревня Сенькино-Секерино</td>\n",
       "      <td>1</td>\n",
       "      <td>NaN</td>\n",
       "      <td>NaN</td>\n",
       "      <td>NaN</td>\n",
       "    </tr>\n",
       "    <tr>\n",
       "      <td>471</td>\n",
       "      <td>деревня Столбово</td>\n",
       "      <td>1</td>\n",
       "      <td>NaN</td>\n",
       "      <td>NaN</td>\n",
       "      <td>NaN</td>\n",
       "    </tr>\n",
       "    <tr>\n",
       "      <td>472</td>\n",
       "      <td>дом 1</td>\n",
       "      <td>1</td>\n",
       "      <td>NaN</td>\n",
       "      <td>NaN</td>\n",
       "      <td>NaN</td>\n",
       "    </tr>\n",
       "    <tr>\n",
       "      <td>473</td>\n",
       "      <td>дом 118Б</td>\n",
       "      <td>1</td>\n",
       "      <td>NaN</td>\n",
       "      <td>NaN</td>\n",
       "      <td>NaN</td>\n",
       "    </tr>\n",
       "    <tr>\n",
       "      <td>474</td>\n",
       "      <td>дом 11А</td>\n",
       "      <td>1</td>\n",
       "      <td>NaN</td>\n",
       "      <td>NaN</td>\n",
       "      <td>NaN</td>\n",
       "    </tr>\n",
       "    <tr>\n",
       "      <td>475</td>\n",
       "      <td>дом 16</td>\n",
       "      <td>1</td>\n",
       "      <td>NaN</td>\n",
       "      <td>NaN</td>\n",
       "      <td>NaN</td>\n",
       "    </tr>\n",
       "    <tr>\n",
       "      <td>476</td>\n",
       "      <td>дом 19</td>\n",
       "      <td>1</td>\n",
       "      <td>NaN</td>\n",
       "      <td>NaN</td>\n",
       "      <td>NaN</td>\n",
       "    </tr>\n",
       "    <tr>\n",
       "      <td>477</td>\n",
       "      <td>дом 19/20</td>\n",
       "      <td>1</td>\n",
       "      <td>NaN</td>\n",
       "      <td>NaN</td>\n",
       "      <td>NaN</td>\n",
       "    </tr>\n",
       "    <tr>\n",
       "      <td>478</td>\n",
       "      <td>дом 2/34</td>\n",
       "      <td>1</td>\n",
       "      <td>NaN</td>\n",
       "      <td>NaN</td>\n",
       "      <td>NaN</td>\n",
       "    </tr>\n",
       "    <tr>\n",
       "      <td>479</td>\n",
       "      <td>дом 20/1/27</td>\n",
       "      <td>1</td>\n",
       "      <td>NaN</td>\n",
       "      <td>NaN</td>\n",
       "      <td>NaN</td>\n",
       "    </tr>\n",
       "    <tr>\n",
       "      <td>480</td>\n",
       "      <td>дом 23</td>\n",
       "      <td>1</td>\n",
       "      <td>NaN</td>\n",
       "      <td>NaN</td>\n",
       "      <td>NaN</td>\n",
       "    </tr>\n",
       "    <tr>\n",
       "      <td>481</td>\n",
       "      <td>дом 26/1</td>\n",
       "      <td>1</td>\n",
       "      <td>NaN</td>\n",
       "      <td>NaN</td>\n",
       "      <td>NaN</td>\n",
       "    </tr>\n",
       "    <tr>\n",
       "      <td>482</td>\n",
       "      <td>дом 28</td>\n",
       "      <td>1</td>\n",
       "      <td>NaN</td>\n",
       "      <td>NaN</td>\n",
       "      <td>NaN</td>\n",
       "    </tr>\n",
       "    <tr>\n",
       "      <td>483</td>\n",
       "      <td>дом 29/66</td>\n",
       "      <td>1</td>\n",
       "      <td>NaN</td>\n",
       "      <td>NaN</td>\n",
       "      <td>NaN</td>\n",
       "    </tr>\n",
       "    <tr>\n",
       "      <td>484</td>\n",
       "      <td>дом 3</td>\n",
       "      <td>1</td>\n",
       "      <td>NaN</td>\n",
       "      <td>NaN</td>\n",
       "      <td>NaN</td>\n",
       "    </tr>\n",
       "    <tr>\n",
       "      <td>485</td>\n",
       "      <td>дом 37</td>\n",
       "      <td>1</td>\n",
       "      <td>NaN</td>\n",
       "      <td>NaN</td>\n",
       "      <td>NaN</td>\n",
       "    </tr>\n",
       "    <tr>\n",
       "      <td>486</td>\n",
       "      <td>дом 38/14/23</td>\n",
       "      <td>1</td>\n",
       "      <td>NaN</td>\n",
       "      <td>NaN</td>\n",
       "      <td>NaN</td>\n",
       "    </tr>\n",
       "    <tr>\n",
       "      <td>487</td>\n",
       "      <td>дом 39</td>\n",
       "      <td>1</td>\n",
       "      <td>NaN</td>\n",
       "      <td>NaN</td>\n",
       "      <td>NaN</td>\n",
       "    </tr>\n",
       "    <tr>\n",
       "      <td>488</td>\n",
       "      <td>дом 4</td>\n",
       "      <td>1</td>\n",
       "      <td>NaN</td>\n",
       "      <td>NaN</td>\n",
       "      <td>NaN</td>\n",
       "    </tr>\n",
       "    <tr>\n",
       "      <td>489</td>\n",
       "      <td>дом 46</td>\n",
       "      <td>1</td>\n",
       "      <td>NaN</td>\n",
       "      <td>NaN</td>\n",
       "      <td>NaN</td>\n",
       "    </tr>\n",
       "    <tr>\n",
       "      <td>490</td>\n",
       "      <td>дом 5/14</td>\n",
       "      <td>1</td>\n",
       "      <td>NaN</td>\n",
       "      <td>NaN</td>\n",
       "      <td>NaN</td>\n",
       "    </tr>\n",
       "    <tr>\n",
       "      <td>491</td>\n",
       "      <td>дом 58/23</td>\n",
       "      <td>1</td>\n",
       "      <td>NaN</td>\n",
       "      <td>NaN</td>\n",
       "      <td>NaN</td>\n",
       "    </tr>\n",
       "    <tr>\n",
       "      <td>492</td>\n",
       "      <td>дом 8</td>\n",
       "      <td>1</td>\n",
       "      <td>NaN</td>\n",
       "      <td>NaN</td>\n",
       "      <td>NaN</td>\n",
       "    </tr>\n",
       "    <tr>\n",
       "      <td>493</td>\n",
       "      <td>дом 8А/5</td>\n",
       "      <td>1</td>\n",
       "      <td>NaN</td>\n",
       "      <td>NaN</td>\n",
       "      <td>NaN</td>\n",
       "    </tr>\n",
       "    <tr>\n",
       "      <td>494</td>\n",
       "      <td>дом 9</td>\n",
       "      <td>1</td>\n",
       "      <td>NaN</td>\n",
       "      <td>NaN</td>\n",
       "      <td>NaN</td>\n",
       "    </tr>\n",
       "    <tr>\n",
       "      <td>495</td>\n",
       "      <td>дом 90</td>\n",
       "      <td>1</td>\n",
       "      <td>NaN</td>\n",
       "      <td>NaN</td>\n",
       "      <td>NaN</td>\n",
       "    </tr>\n",
       "    <tr>\n",
       "      <td>496</td>\n",
       "      <td>домовладение 11</td>\n",
       "      <td>1</td>\n",
       "      <td>NaN</td>\n",
       "      <td>NaN</td>\n",
       "      <td>NaN</td>\n",
       "    </tr>\n",
       "    <tr>\n",
       "      <td>504</td>\n",
       "      <td>поселение Филимонковское</td>\n",
       "      <td>1</td>\n",
       "      <td>NaN</td>\n",
       "      <td>NaN</td>\n",
       "      <td>NaN</td>\n",
       "    </tr>\n",
       "    <tr>\n",
       "      <td>512</td>\n",
       "      <td>проектируемый проезд № 1980</td>\n",
       "      <td>1</td>\n",
       "      <td>NaN</td>\n",
       "      <td>NaN</td>\n",
       "      <td>NaN</td>\n",
       "    </tr>\n",
       "    <tr>\n",
       "      <td>537</td>\n",
       "      <td>улица Высоцкого</td>\n",
       "      <td>1</td>\n",
       "      <td>NaN</td>\n",
       "      <td>NaN</td>\n",
       "      <td>NaN</td>\n",
       "    </tr>\n",
       "    <tr>\n",
       "      <td>554</td>\n",
       "      <td>улица Капотня</td>\n",
       "      <td>1</td>\n",
       "      <td>NaN</td>\n",
       "      <td>NaN</td>\n",
       "      <td>NaN</td>\n",
       "    </tr>\n",
       "    <tr>\n",
       "      <td>566</td>\n",
       "      <td>улица Льва Яшина</td>\n",
       "      <td>1</td>\n",
       "      <td>NaN</td>\n",
       "      <td>NaN</td>\n",
       "      <td>NaN</td>\n",
       "    </tr>\n",
       "    <tr>\n",
       "      <td>575</td>\n",
       "      <td>улица Недорубова</td>\n",
       "      <td>1</td>\n",
       "      <td>NaN</td>\n",
       "      <td>NaN</td>\n",
       "      <td>NaN</td>\n",
       "    </tr>\n",
       "    <tr>\n",
       "      <td>601</td>\n",
       "      <td>улица Старые Кузьминки</td>\n",
       "      <td>1</td>\n",
       "      <td>NaN</td>\n",
       "      <td>NaN</td>\n",
       "      <td>NaN</td>\n",
       "    </tr>\n",
       "    <tr>\n",
       "      <td>608</td>\n",
       "      <td>улица Хабарова</td>\n",
       "      <td>1</td>\n",
       "      <td>NaN</td>\n",
       "      <td>NaN</td>\n",
       "      <td>NaN</td>\n",
       "    </tr>\n",
       "  </tbody>\n",
       "</table>\n",
       "</div>"
      ],
      "text/plain": [
       "                                         streetname  id  areaid okrug area\n",
       "39   104-й километр Московской Кольцевой Автодороги   1     NaN   NaN  NaN\n",
       "80    26-й километр Московской Кольцевой Автодороги   1     NaN   NaN  NaN\n",
       "94                          3-я Подрезковская улица   1     NaN   NaN  NaN\n",
       "97    30-й километр Московской Кольцевой Автодороги   1     NaN   NaN  NaN\n",
       "98    31-й километр Московской Кольцевой Автодороги   1     NaN   NaN  NaN\n",
       "99    34-й километр Московской Кольцевой Автодороги   1     NaN   NaN  NaN\n",
       "100   38-й километр Московской Кольцевой Автодороги   1     NaN   NaN  NaN\n",
       "107                  42-й километр Калужского шоссе   1     NaN   NaN  NaN\n",
       "108   42-й километр Московской Кольцевой Автодороги   1     NaN   NaN  NaN\n",
       "114   56-й километр Московской Кольцевой Автодороги   1     NaN   NaN  NaN\n",
       "119   65-й километр Московской Кольцевой Автодороги   1     NaN   NaN  NaN\n",
       "120   67-й километр Московской Кольцевой Автодороги   1     NaN   NaN  NaN\n",
       "124   78-й километр Московской Кольцевой Автодороги   1     NaN   NaN  NaN\n",
       "128   80-й километр Московской Кольцевой Автодороги   1     NaN   NaN  NaN\n",
       "318                            Новобутовский проезд   1     NaN   NaN  NaN\n",
       "325                          Новохорошёвский проезд   1     NaN   NaN  NaN\n",
       "360                              Пыжёвский переулок   1     NaN   NaN  NaN\n",
       "468                               деревня Давыдково   1     NaN   NaN  NaN\n",
       "469                                 деревня Дудкино   1     NaN   NaN  NaN\n",
       "470                       деревня Сенькино-Секерино   1     NaN   NaN  NaN\n",
       "471                                деревня Столбово   1     NaN   NaN  NaN\n",
       "472                                           дом 1   1     NaN   NaN  NaN\n",
       "473                                        дом 118Б   1     NaN   NaN  NaN\n",
       "474                                         дом 11А   1     NaN   NaN  NaN\n",
       "475                                          дом 16   1     NaN   NaN  NaN\n",
       "476                                          дом 19   1     NaN   NaN  NaN\n",
       "477                                       дом 19/20   1     NaN   NaN  NaN\n",
       "478                                        дом 2/34   1     NaN   NaN  NaN\n",
       "479                                     дом 20/1/27   1     NaN   NaN  NaN\n",
       "480                                          дом 23   1     NaN   NaN  NaN\n",
       "481                                        дом 26/1   1     NaN   NaN  NaN\n",
       "482                                          дом 28   1     NaN   NaN  NaN\n",
       "483                                       дом 29/66   1     NaN   NaN  NaN\n",
       "484                                           дом 3   1     NaN   NaN  NaN\n",
       "485                                          дом 37   1     NaN   NaN  NaN\n",
       "486                                    дом 38/14/23   1     NaN   NaN  NaN\n",
       "487                                          дом 39   1     NaN   NaN  NaN\n",
       "488                                           дом 4   1     NaN   NaN  NaN\n",
       "489                                          дом 46   1     NaN   NaN  NaN\n",
       "490                                        дом 5/14   1     NaN   NaN  NaN\n",
       "491                                       дом 58/23   1     NaN   NaN  NaN\n",
       "492                                           дом 8   1     NaN   NaN  NaN\n",
       "493                                        дом 8А/5   1     NaN   NaN  NaN\n",
       "494                                           дом 9   1     NaN   NaN  NaN\n",
       "495                                          дом 90   1     NaN   NaN  NaN\n",
       "496                                 домовладение 11   1     NaN   NaN  NaN\n",
       "504                        поселение Филимонковское   1     NaN   NaN  NaN\n",
       "512                     проектируемый проезд № 1980   1     NaN   NaN  NaN\n",
       "537                                 улица Высоцкого   1     NaN   NaN  NaN\n",
       "554                                   улица Капотня   1     NaN   NaN  NaN\n",
       "566                                улица Льва Яшина   1     NaN   NaN  NaN\n",
       "575                                улица Недорубова   1     NaN   NaN  NaN\n",
       "601                          улица Старые Кузьминки   1     NaN   NaN  NaN\n",
       "608                                  улица Хабарова   1     NaN   NaN  NaN"
      ]
     },
     "execution_count": 58,
     "metadata": {},
     "output_type": "execute_result"
    }
   ],
   "source": [
    "one_rest_streets[one_rest_streets.isnull().any(1)]"
   ]
  },
  {
   "cell_type": "markdown",
   "id": "220da034",
   "metadata": {},
   "source": [
    "Как мы видим при объединении появились улицы без района. В большинстве случаев это были либо отдельные дома без наименования улицы (образовались на этапе выделения улиц из датафрейма), либо МКАД, лиюо поселения в черте города. \n",
    "\n",
    "В любом случае их чуть более 10%, что много, но этим можно принебречь. (ранее в проекте мы не заменяли синонимы для всех заведений)."
   ]
  },
  {
   "cell_type": "markdown",
   "id": "4072af0d",
   "metadata": {},
   "source": [
    "# 9. Вывод. "
   ]
  },
  {
   "cell_type": "markdown",
   "id": "a585b6ac",
   "metadata": {},
   "source": [
    "По итогам исследования можем заключить следующее:\n",
    "\n",
    "- самые популярные типы объектов общественного питания - кафе и ресторан;\n",
    "\n",
    "- заведений, относящихся к несетевым в 4 раза больше, чем относящихся к сетевым;\n",
    "\n",
    "- среди сетевых заведения также наиболее популярным являются типы \"кафе\" и \"ресторан\";\n",
    "\n",
    "- среди сетевых заведений можно выделить большое количество некрупных сетей с небольшим количеством посадочных мест;\n",
    "\n",
    "- самое большое количество посадочных мест имеют объекты \"столовая\" и \"ресторан\".\n",
    "\n",
    "- улицы с самым большим количеством объектов питания это крпунейшие улицы Москвы, расположенные на севере, западе, юге города - это пр. Мира, Профсоюзная ул., Лененградский пр., Ленинский пр., Пресненская наб. и др.;\n",
    "\n",
    "- также стоит особо отметить большое количество улиц с одним объектом общественного питания и расположение таких улиц в центральных раойнах Москвы."
   ]
  },
  {
   "cell_type": "markdown",
   "id": "4350b4fe",
   "metadata": {},
   "source": [
    "Вывод: **преимущественным типом является \"кафе\" с количеством посадочных мест 40-50 чел. Предпочтительным районом расположения может быть центральная часть Москвы в границах Третьего транспортного кольца и район Ленинского пр. и пр. Вернадского, где находится большое количество унивеситетов (студенты традиционно являются адептами новых технологий).**\n",
    "\n",
    "(Сравнение стоимости и конкурентности раойнов необходимо сделать отдельным исследованием)"
   ]
  },
  {
   "cell_type": "markdown",
   "id": "49258fac",
   "metadata": {},
   "source": [
    "Наш проект предусматривает дальнейшее расширение до сетевого типа, так как применяемые технологии позволяют в дальнейшем выходить на большую масштабируемость и соответствующее уменьшение себестоимости. Однако это зависит от показателей успешности стартового проекта и коньюнктуры на рынке."
   ]
  },
  {
   "cell_type": "code",
   "execution_count": null,
   "id": "f44f0062",
   "metadata": {},
   "outputs": [],
   "source": []
  }
 ],
 "metadata": {
  "kernelspec": {
   "display_name": "Python 3 (ipykernel)",
   "language": "python",
   "name": "python3"
  },
  "language_info": {
   "codemirror_mode": {
    "name": "ipython",
    "version": 3
   },
   "file_extension": ".py",
   "mimetype": "text/x-python",
   "name": "python",
   "nbconvert_exporter": "python",
   "pygments_lexer": "ipython3",
   "version": "3.9.12"
  },
  "toc": {
   "base_numbering": 1,
   "nav_menu": {},
   "number_sections": false,
   "sideBar": true,
   "skip_h1_title": false,
   "title_cell": "Table of Contents",
   "title_sidebar": "Contents",
   "toc_cell": false,
   "toc_position": {
    "height": "calc(100% - 180px)",
    "left": "10px",
    "top": "150px",
    "width": "384px"
   },
   "toc_section_display": true,
   "toc_window_display": true
  }
 },
 "nbformat": 4,
 "nbformat_minor": 5
}
